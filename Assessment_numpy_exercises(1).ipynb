{
  "cells": [
    {
      "cell_type": "markdown",
      "id": "8595560e",
      "metadata": {
        "id": "8595560e"
      },
      "source": [
        "# NumPy Basics: Exercise Notebook"
      ]
    },
    {
      "cell_type": "markdown",
      "id": "1070cd1c",
      "metadata": {
        "id": "1070cd1c"
      },
      "source": [
        "### Exercise 1\n",
        "Create a 1D NumPy array of numbers from 0 to 9."
      ]
    },
    {
      "cell_type": "code",
      "execution_count": 2,
      "id": "fef3f9b5",
      "metadata": {
        "id": "fef3f9b5",
        "colab": {
          "base_uri": "https://localhost:8080/"
        },
        "outputId": "0dd2dd92-5943-46e3-cc20-a8a8c59c32d6"
      },
      "outputs": [
        {
          "output_type": "execute_result",
          "data": {
            "text/plain": [
              "array([0, 1, 2, 3, 4, 5, 6, 7, 8, 9])"
            ]
          },
          "metadata": {},
          "execution_count": 2
        }
      ],
      "source": [
        "# Your code here\n",
        "import numpy as np\n",
        "arr = np.arange(10)\n",
        "arr\n"
      ]
    },
    {
      "cell_type": "markdown",
      "id": "ebef11bd",
      "metadata": {
        "id": "ebef11bd"
      },
      "source": [
        "### Exercise 2\n",
        "Create a 2D NumPy array of shape (3,3) with all elements equal to 5."
      ]
    },
    {
      "cell_type": "code",
      "execution_count": 3,
      "id": "f2bc72c9",
      "metadata": {
        "id": "f2bc72c9",
        "colab": {
          "base_uri": "https://localhost:8080/"
        },
        "outputId": "1f855ac2-1374-4a54-90b6-7020312364bb"
      },
      "outputs": [
        {
          "output_type": "execute_result",
          "data": {
            "text/plain": [
              "array([[5, 5, 5],\n",
              "       [5, 5, 5],\n",
              "       [5, 5, 5]])"
            ]
          },
          "metadata": {},
          "execution_count": 3
        }
      ],
      "source": [
        "# Your code here\n",
        "arr1 = np.full((3,3), 5)\n",
        "arr1\n"
      ]
    },
    {
      "cell_type": "markdown",
      "id": "41149596",
      "metadata": {
        "id": "41149596"
      },
      "source": [
        "### Exercise 3\n",
        "Create a 1D array of 10 zeros."
      ]
    },
    {
      "cell_type": "code",
      "execution_count": 4,
      "id": "ec7ee86c",
      "metadata": {
        "id": "ec7ee86c",
        "colab": {
          "base_uri": "https://localhost:8080/"
        },
        "outputId": "28fe3806-860d-4d10-9493-1ba039617bd4"
      },
      "outputs": [
        {
          "output_type": "execute_result",
          "data": {
            "text/plain": [
              "array([0., 0., 0., 0., 0., 0., 0., 0., 0., 0.])"
            ]
          },
          "metadata": {},
          "execution_count": 4
        }
      ],
      "source": [
        "# Your code here\n",
        "arr2 = np.zeros(10)\n",
        "arr2"
      ]
    },
    {
      "cell_type": "markdown",
      "id": "d2250c98",
      "metadata": {
        "id": "d2250c98"
      },
      "source": [
        "### Exercise 4\n",
        "Create a 1D array of 10 ones."
      ]
    },
    {
      "cell_type": "code",
      "execution_count": 5,
      "id": "d8016995",
      "metadata": {
        "id": "d8016995",
        "colab": {
          "base_uri": "https://localhost:8080/"
        },
        "outputId": "72f649ed-535a-425a-8c47-a02b563115be"
      },
      "outputs": [
        {
          "output_type": "execute_result",
          "data": {
            "text/plain": [
              "array([1., 1., 1., 1., 1., 1., 1., 1., 1., 1.])"
            ]
          },
          "metadata": {},
          "execution_count": 5
        }
      ],
      "source": [
        "# Your code here\n",
        "arr3 = np.ones(10)\n",
        "arr3"
      ]
    },
    {
      "cell_type": "markdown",
      "id": "c71607a2",
      "metadata": {
        "id": "c71607a2"
      },
      "source": [
        "### Exercise 5\n",
        "Create a 1D array of 10 random integers between 1 and 50."
      ]
    },
    {
      "cell_type": "code",
      "execution_count": 15,
      "id": "622e3e0a",
      "metadata": {
        "id": "622e3e0a",
        "colab": {
          "base_uri": "https://localhost:8080/"
        },
        "outputId": "f55f74e2-c35d-4205-a228-8b62a0ddcd67"
      },
      "outputs": [
        {
          "output_type": "execute_result",
          "data": {
            "text/plain": [
              "array([21, 48, 42, 36,  7, 21, 46, 13, 14,  2])"
            ]
          },
          "metadata": {},
          "execution_count": 15
        }
      ],
      "source": [
        "# Your code here\n",
        "arr4 = np.random.randint(1, 51, size=10)\n",
        "arr4"
      ]
    },
    {
      "cell_type": "markdown",
      "id": "2b8b4654",
      "metadata": {
        "id": "2b8b4654"
      },
      "source": [
        "### Exercise 6\n",
        "Check the shape and data type of the array you just created."
      ]
    },
    {
      "cell_type": "code",
      "execution_count": 10,
      "id": "41fc0190",
      "metadata": {
        "id": "41fc0190",
        "colab": {
          "base_uri": "https://localhost:8080/"
        },
        "outputId": "d17b03f2-8046-46ff-9f7c-b8008ee19cca"
      },
      "outputs": [
        {
          "output_type": "execute_result",
          "data": {
            "text/plain": [
              "dtype('float64')"
            ]
          },
          "metadata": {},
          "execution_count": 10
        }
      ],
      "source": [
        "# Your code here\n",
        "arr4.shape\n",
        "arr4.dtype\n"
      ]
    },
    {
      "cell_type": "markdown",
      "id": "54139534",
      "metadata": {
        "id": "54139534"
      },
      "source": [
        "### Exercise 7\n",
        "Reshape a 1D array of numbers 0 to 11 into a 3x4 matrix."
      ]
    },
    {
      "cell_type": "code",
      "execution_count": 21,
      "id": "3eb5ec7b",
      "metadata": {
        "id": "3eb5ec7b",
        "colab": {
          "base_uri": "https://localhost:8080/"
        },
        "outputId": "6ab350ea-8b31-4eb7-852b-977124637754"
      },
      "outputs": [
        {
          "output_type": "execute_result",
          "data": {
            "text/plain": [
              "array([[ 0,  1,  2,  3],\n",
              "       [ 4,  5,  6,  7],\n",
              "       [ 8,  9, 10, 11]])"
            ]
          },
          "metadata": {},
          "execution_count": 21
        }
      ],
      "source": [
        "# Your code here\n",
        "arr5 = np.arange(12)\n",
        "reshaped = arr5.reshape((3,4))\n",
        "reshaped"
      ]
    },
    {
      "cell_type": "markdown",
      "id": "33bfa332",
      "metadata": {
        "id": "33bfa332"
      },
      "source": [
        "### Exercise 8\n",
        "Compute the sum of all elements in the above 3x4 array."
      ]
    },
    {
      "cell_type": "code",
      "execution_count": 23,
      "id": "629fa10c",
      "metadata": {
        "id": "629fa10c",
        "colab": {
          "base_uri": "https://localhost:8080/"
        },
        "outputId": "18c9fd97-1f32-4151-b625-ff4d5d9be735"
      },
      "outputs": [
        {
          "output_type": "execute_result",
          "data": {
            "text/plain": [
              "np.int64(66)"
            ]
          },
          "metadata": {},
          "execution_count": 23
        }
      ],
      "source": [
        "# Your code here\n",
        "total_sum = arr5.sum()\n",
        "total_sum"
      ]
    },
    {
      "cell_type": "markdown",
      "id": "3ec1e19a",
      "metadata": {
        "id": "3ec1e19a"
      },
      "source": [
        "### Exercise 9\n",
        "Compute the mean of all elements in the 3x4 array."
      ]
    },
    {
      "cell_type": "code",
      "execution_count": 26,
      "id": "9e6e1156",
      "metadata": {
        "id": "9e6e1156",
        "colab": {
          "base_uri": "https://localhost:8080/"
        },
        "outputId": "21b670a8-22ef-459c-84ef-cadd3f37260d"
      },
      "outputs": [
        {
          "output_type": "execute_result",
          "data": {
            "text/plain": [
              "np.float64(5.5)"
            ]
          },
          "metadata": {},
          "execution_count": 26
        }
      ],
      "source": [
        "# Your code here\n",
        "mean_value = np.mean(arr5)\n",
        "mean_value"
      ]
    },
    {
      "cell_type": "markdown",
      "id": "8a7a5635",
      "metadata": {
        "id": "8a7a5635"
      },
      "source": [
        "### Exercise 10\n",
        "Find the maximum value in the 3x4 array."
      ]
    },
    {
      "cell_type": "code",
      "execution_count": 27,
      "id": "581c46f2",
      "metadata": {
        "id": "581c46f2",
        "colab": {
          "base_uri": "https://localhost:8080/"
        },
        "outputId": "bcb66302-798d-4f73-8fca-372e6cd2abd6"
      },
      "outputs": [
        {
          "output_type": "execute_result",
          "data": {
            "text/plain": [
              "np.int64(11)"
            ]
          },
          "metadata": {},
          "execution_count": 27
        }
      ],
      "source": [
        "# Your code here\n",
        "max_value = np.max(arr5)\n",
        "max_value"
      ]
    },
    {
      "cell_type": "markdown",
      "id": "93e1d2d6",
      "metadata": {
        "id": "93e1d2d6"
      },
      "source": [
        "### Exercise 11\n",
        "Create an array [1,2,3,4,5] and multiply each element by 10."
      ]
    },
    {
      "cell_type": "code",
      "execution_count": 29,
      "id": "b04bf404",
      "metadata": {
        "id": "b04bf404",
        "colab": {
          "base_uri": "https://localhost:8080/"
        },
        "outputId": "980dad26-3ea7-406d-c414-785e937d811b"
      },
      "outputs": [
        {
          "output_type": "execute_result",
          "data": {
            "text/plain": [
              "array([10, 20, 30, 40, 50])"
            ]
          },
          "metadata": {},
          "execution_count": 29
        }
      ],
      "source": [
        "# Your code here\n",
        "arr6 = np.array([1,2,3,4,5])\n",
        "multiply = arr6 * 10\n",
        "multiply"
      ]
    },
    {
      "cell_type": "markdown",
      "id": "9e9e19d3",
      "metadata": {
        "id": "9e9e19d3"
      },
      "source": [
        "### Exercise 12\n",
        "Create an array [10,20,30,40,50] and subtract 5 from each element."
      ]
    },
    {
      "cell_type": "code",
      "execution_count": 30,
      "id": "21a238aa",
      "metadata": {
        "id": "21a238aa",
        "colab": {
          "base_uri": "https://localhost:8080/"
        },
        "outputId": "2b30c902-89cc-463e-90c0-fef5ed027161"
      },
      "outputs": [
        {
          "output_type": "execute_result",
          "data": {
            "text/plain": [
              "array([ 5, 15, 25, 35, 45])"
            ]
          },
          "metadata": {},
          "execution_count": 30
        }
      ],
      "source": [
        "# Your code here\n",
        "arr7 = np.array([10,20,30,40,50])\n",
        "subtract = arr7 - 5\n",
        "subtract"
      ]
    },
    {
      "cell_type": "markdown",
      "id": "86df12be",
      "metadata": {
        "id": "86df12be"
      },
      "source": [
        "### Exercise 13\n",
        "Add two arrays element-wise: [1,2,3] and [4,5,6]."
      ]
    },
    {
      "cell_type": "code",
      "execution_count": 32,
      "id": "051301f5",
      "metadata": {
        "id": "051301f5",
        "colab": {
          "base_uri": "https://localhost:8080/"
        },
        "outputId": "e372fd45-d24d-4a16-e7a4-eb54c997a8c3"
      },
      "outputs": [
        {
          "output_type": "execute_result",
          "data": {
            "text/plain": [
              "array([5, 7, 9])"
            ]
          },
          "metadata": {},
          "execution_count": 32
        }
      ],
      "source": [
        "# Your code here\n",
        "arr8 = np.array([1,2,3])\n",
        "arr9 = np.array([4,5,6])\n",
        "Sum_of_arrays = arr8 + arr9\n",
        "Sum_of_arrays"
      ]
    },
    {
      "cell_type": "markdown",
      "id": "66409f32",
      "metadata": {
        "id": "66409f32"
      },
      "source": [
        "### Exercise 14\n",
        "Multiply two arrays element-wise: [1,2,3] and [4,5,6]."
      ]
    },
    {
      "cell_type": "code",
      "execution_count": 34,
      "id": "a4877269",
      "metadata": {
        "id": "a4877269",
        "colab": {
          "base_uri": "https://localhost:8080/"
        },
        "outputId": "fd9239f8-4876-4d84-a208-9506ba58130c"
      },
      "outputs": [
        {
          "output_type": "execute_result",
          "data": {
            "text/plain": [
              "array([ 4, 10, 18])"
            ]
          },
          "metadata": {},
          "execution_count": 34
        }
      ],
      "source": [
        "# Your code here\n",
        "arr10 = np.array([1,2,3])\n",
        "arr11 = np.array([4,5,6])\n",
        "mul_of_arrays = arr10 * arr11\n",
        "mul_of_arrays"
      ]
    },
    {
      "cell_type": "markdown",
      "id": "18124d17",
      "metadata": {
        "id": "18124d17"
      },
      "source": [
        "### Exercise 15\n",
        "Generate a 1D array of 6 equally spaced numbers between 0 and 1."
      ]
    },
    {
      "cell_type": "code",
      "execution_count": 37,
      "id": "24b74c70",
      "metadata": {
        "id": "24b74c70",
        "colab": {
          "base_uri": "https://localhost:8080/"
        },
        "outputId": "a4302b9d-be8a-4e9f-ef26-e466d0110697"
      },
      "outputs": [
        {
          "output_type": "execute_result",
          "data": {
            "text/plain": [
              "array([ 0.,  2.,  4.,  6.,  8., 10.])"
            ]
          },
          "metadata": {},
          "execution_count": 37
        }
      ],
      "source": [
        "# Your code here\n",
        "arr12 = np.linspace(0, 10, 6)\n",
        "arr12"
      ]
    },
    {
      "cell_type": "markdown",
      "id": "e2188d75",
      "metadata": {
        "id": "e2188d75"
      },
      "source": [
        "### Exercise 16\n",
        "Create a 4x4 identity matrix."
      ]
    },
    {
      "cell_type": "code",
      "execution_count": 39,
      "id": "39a95dc4",
      "metadata": {
        "id": "39a95dc4",
        "colab": {
          "base_uri": "https://localhost:8080/"
        },
        "outputId": "56ee276a-55d7-43df-f76f-26f53a737897"
      },
      "outputs": [
        {
          "output_type": "execute_result",
          "data": {
            "text/plain": [
              "array([[1., 0., 0., 0.],\n",
              "       [0., 1., 0., 0.],\n",
              "       [0., 0., 1., 0.],\n",
              "       [0., 0., 0., 1.]])"
            ]
          },
          "metadata": {},
          "execution_count": 39
        }
      ],
      "source": [
        "# Your code here\n",
        "identity_matrix = np.identity(4)\n",
        "identity_matrix"
      ]
    },
    {
      "cell_type": "markdown",
      "id": "4662bd7e",
      "metadata": {
        "id": "4662bd7e"
      },
      "source": [
        "### Exercise 17\n",
        "Transpose the 3x4 matrix created earlier."
      ]
    },
    {
      "cell_type": "code",
      "execution_count": 46,
      "id": "5162299e",
      "metadata": {
        "id": "5162299e",
        "colab": {
          "base_uri": "https://localhost:8080/"
        },
        "outputId": "218ab6db-452f-4235-a130-98cc57697951"
      },
      "outputs": [
        {
          "output_type": "execute_result",
          "data": {
            "text/plain": [
              "array([[ 0,  4,  8],\n",
              "       [ 1,  5,  9],\n",
              "       [ 2,  6, 10],\n",
              "       [ 3,  7, 11]])"
            ]
          },
          "metadata": {},
          "execution_count": 46
        }
      ],
      "source": [
        "# Your code here\n",
        "arr_transpose = np.arange(12).reshape(3,4)\n",
        "arr_transpose.T"
      ]
    },
    {
      "cell_type": "markdown",
      "id": "53031dca",
      "metadata": {
        "id": "53031dca"
      },
      "source": [
        "### Exercise 18\n",
        "Flatten the 3x4 matrix into a 1D array."
      ]
    },
    {
      "cell_type": "code",
      "execution_count": 42,
      "id": "0d6ac936",
      "metadata": {
        "id": "0d6ac936",
        "colab": {
          "base_uri": "https://localhost:8080/"
        },
        "outputId": "efa9606b-eb12-4e25-d299-74df0f84ec02"
      },
      "outputs": [
        {
          "output_type": "execute_result",
          "data": {
            "text/plain": [
              "array([ 0,  1,  2,  3,  4,  5,  6,  7,  8,  9, 10, 11])"
            ]
          },
          "metadata": {},
          "execution_count": 42
        }
      ],
      "source": [
        "# Your code here\n",
        "matrix = np.arange(12).reshape(3,4)\n",
        "Flattened_matrix = matrix.flatten()\n",
        "Flattened_matrix"
      ]
    },
    {
      "cell_type": "markdown",
      "id": "a6d56cb2",
      "metadata": {
        "id": "a6d56cb2"
      },
      "source": [
        "### Exercise 19\n",
        "Check which elements in the 3x4 matrix are greater than 5."
      ]
    },
    {
      "cell_type": "code",
      "execution_count": 47,
      "id": "0f9527f4",
      "metadata": {
        "id": "0f9527f4",
        "colab": {
          "base_uri": "https://localhost:8080/"
        },
        "outputId": "dd7a038f-d063-4176-c80c-8ddc98f533df"
      },
      "outputs": [
        {
          "output_type": "execute_result",
          "data": {
            "text/plain": [
              "array([[False, False, False, False],\n",
              "       [False, False,  True,  True],\n",
              "       [ True,  True,  True,  True]])"
            ]
          },
          "metadata": {},
          "execution_count": 47
        }
      ],
      "source": [
        "# Your code here\n",
        "arr12 = np.arange(12).reshape(3,4)\n",
        "greater = arr12 > 5\n",
        "greater"
      ]
    },
    {
      "cell_type": "markdown",
      "id": "3f3a785c",
      "metadata": {
        "id": "3f3a785c"
      },
      "source": [
        "### Exercise 20\n",
        "Replace all elements greater than 5 in the 3x4 matrix with 0."
      ]
    },
    {
      "cell_type": "code",
      "execution_count": 50,
      "id": "326795f2",
      "metadata": {
        "id": "326795f2",
        "colab": {
          "base_uri": "https://localhost:8080/"
        },
        "outputId": "1d692722-f435-4535-d457-04cac6556ad3"
      },
      "outputs": [
        {
          "output_type": "execute_result",
          "data": {
            "text/plain": [
              "array([[0, 1, 2, 3],\n",
              "       [4, 5, 0, 0],\n",
              "       [0, 0, 0, 0]])"
            ]
          },
          "metadata": {},
          "execution_count": 50
        }
      ],
      "source": [
        "# Your code here\n",
        "arr13 = np.arange(12).reshape(3,4)\n",
        "arr13[arr13 > 5] = 0\n",
        "arr13"
      ]
    }
  ],
  "metadata": {
    "colab": {
      "provenance": []
    },
    "language_info": {
      "name": "python"
    },
    "kernelspec": {
      "name": "python3",
      "display_name": "Python 3"
    }
  },
  "nbformat": 4,
  "nbformat_minor": 5
}