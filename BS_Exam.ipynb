{
  "nbformat": 4,
  "nbformat_minor": 0,
  "metadata": {
    "colab": {
      "provenance": []
    },
    "kernelspec": {
      "name": "python3",
      "display_name": "Python 3"
    },
    "language_info": {
      "name": "python"
    }
  },
  "cells": [
    {
      "cell_type": "code",
      "execution_count": 6,
      "metadata": {
        "colab": {
          "base_uri": "https://localhost:8080/"
        },
        "id": "hjIsDrwkNpvm",
        "outputId": "188dce51-cec6-49e1-f7e5-da70a78b7e89"
      },
      "outputs": [
        {
          "output_type": "stream",
          "name": "stdout",
          "text": [
            "Title of the HTML document: Student Details\n",
            "Ramesh\n",
            "mobile number is: 9876543210\n",
            "email is: Ramesh.m@xyz_com\n",
            "Invalid email address\n"
          ]
        }
      ],
      "source": [
        "from bs4 import BeautifulSoup\n",
        "import re\n",
        "\n",
        "html_doc = \"\"\"<html><head><title>Student Details</title></head>\n",
        "<body>\n",
        "<p class=\"title\"><b> Student Details </b></p> <div>\n",
        "<p class=\"Details\">contact information\n",
        "<a href=\"http://example.com/Name\" class=\"name\" id=\"link\">Ramesh</a>\n",
        "<a href=\"http://example.com/Mobile\" class=\"mobile\"\n",
        "id=\"link2\">9876543210</a> and\n",
        "<a href=\"http://www.studentportal.com/email\" class=\"email\"\n",
        "id=\"link3\">Ramesh.m@xyz_com</a>;\n",
        "and they lived at the bottom of a well.</p></div>\n",
        "\n",
        "<p>\n",
        "\"\"\"\n",
        "\n",
        "soup = BeautifulSoup(html_doc, 'html.parser')\n",
        "\n",
        "# 1. Display the title of the HTML file\n",
        "title = soup.title.string\n",
        "print(f\"Title of the HTML document: {title}\")\n",
        "\n",
        "name_tag = soup.find(\"a\", class_=\"name\")\n",
        "name = name_tag.get_text()\n",
        "print(name)\n",
        "\n",
        "mobile_tag = soup.find(\"a\", class_=\"mobile\")\n",
        "mobile_num = mobile_tag.get_text()\n",
        "print(\"mobile number is:\", mobile_num)\n",
        "\n",
        "email_tag = soup.find(\"a\", class_=\"email\")\n",
        "email = email_tag.get_text()\n",
        "print(\"email is:\", email)\n",
        "\n",
        "\n",
        "def is_valid_email(email):\n",
        "    email_regex = r'^[a-zA-Z0-9._%+-]+@[a-zA-Z0-9.-]+\\.[a-zA-Z]{2,}$'\n",
        "    return re.match(email_regex, email) is not None\n",
        "\n",
        "if is_valid_email(email):\n",
        "  print(\"Valid email address\")\n",
        "else:\n",
        "  print(\"Invalid email address\")\n",
        "\n"
      ]
    }
  ]
}