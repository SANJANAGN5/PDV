{
  "nbformat": 4,
  "nbformat_minor": 0,
  "metadata": {
    "colab": {
      "provenance": []
    },
    "kernelspec": {
      "name": "python3",
      "display_name": "Python 3"
    },
    "language_info": {
      "name": "python"
    }
  },
  "cells": [
    {
      "cell_type": "code",
      "execution_count": null,
      "metadata": {
        "colab": {
          "base_uri": "https://localhost:8080/"
        },
        "id": "8-KTQCtpKX-J",
        "outputId": "2444e792-76d1-4776-8b6c-d81f7110bc82"
      },
      "outputs": [
        {
          "output_type": "stream",
          "name": "stdout",
          "text": [
            "<!DOCTYPE html>\n",
            "<html lang=\"en\">\n",
            "    <head>\n",
            "        <meta charset=\"UTF-8\">\n",
            "        <title>Intro_to_soup</title>\n",
            "    </head>\n",
            "    <body>\n",
            "        <div>\n",
            "            <p>In first div</p>\n",
            "        </div>\n",
            "        <div>\n",
            "            <p>In second div</p>\n",
            "        </div>\n",
            "    </body>\n",
            "</html>\n"
          ]
        }
      ],
      "source": [
        "from bs4 import BeautifulSoup\n",
        "\n",
        "def read_file():\n",
        "  file = open('intro_to_soup_html.html')\n",
        "  data = file.read()\n",
        "  file.close()\n",
        "  return data\n",
        "\n",
        "file1 = read_file()\n",
        "print(file1)"
      ]
    },
    {
      "cell_type": "code",
      "source": [
        "soup = BeautifulSoup(file1, 'lxml')\n",
        "print(soup)"
      ],
      "metadata": {
        "colab": {
          "base_uri": "https://localhost:8080/"
        },
        "id": "KNGFTksVLGHX",
        "outputId": "fea47425-5d81-4341-cd59-e8c0642848b1"
      },
      "execution_count": null,
      "outputs": [
        {
          "output_type": "stream",
          "name": "stdout",
          "text": [
            "<!DOCTYPE html>\n",
            "<html lang=\"en\">\n",
            "<head>\n",
            "<meta charset=\"utf-8\"/>\n",
            "<title>Intro_to_soup</title>\n",
            "</head>\n",
            "<body>\n",
            "<div>\n",
            "<p>In first div</p>\n",
            "</div>\n",
            "<div>\n",
            "<p>In second div</p>\n",
            "</div>\n",
            "</body>\n",
            "</html>\n"
          ]
        }
      ]
    },
    {
      "cell_type": "code",
      "source": [
        "print(soup.prettify())"
      ],
      "metadata": {
        "colab": {
          "base_uri": "https://localhost:8080/"
        },
        "id": "OIP9zs-JLTFX",
        "outputId": "55bc18dd-3082-4b89-ecc8-b7161d45a610"
      },
      "execution_count": null,
      "outputs": [
        {
          "output_type": "stream",
          "name": "stdout",
          "text": [
            "<!DOCTYPE html>\n",
            "<html lang=\"en\">\n",
            " <head>\n",
            "  <meta charset=\"utf-8\"/>\n",
            "  <title>\n",
            "   Intro_to_soup\n",
            "  </title>\n",
            " </head>\n",
            " <body>\n",
            "  <div>\n",
            "   <p>\n",
            "    In first div\n",
            "   </p>\n",
            "  </div>\n",
            "  <div>\n",
            "   <p>\n",
            "    In second div\n",
            "   </p>\n",
            "  </div>\n",
            " </body>\n",
            "</html>\n",
            "\n"
          ]
        }
      ]
    },
    {
      "cell_type": "markdown",
      "source": [
        "Make a Soup out of any Website HTML"
      ],
      "metadata": {
        "id": "7xlRZnkeLboU"
      }
    },
    {
      "cell_type": "code",
      "source": [
        "pip install fake_useragent"
      ],
      "metadata": {
        "colab": {
          "base_uri": "https://localhost:8080/"
        },
        "id": "g3xzTwYSLcSb",
        "outputId": "62ba438a-c1b9-407e-96d0-00fd87dbc7af"
      },
      "execution_count": null,
      "outputs": [
        {
          "output_type": "stream",
          "name": "stdout",
          "text": [
            "Collecting fake_useragent\n",
            "  Downloading fake_useragent-2.2.0-py3-none-any.whl.metadata (17 kB)\n",
            "Downloading fake_useragent-2.2.0-py3-none-any.whl (161 kB)\n",
            "\u001b[2K   \u001b[90m━━━━━━━━━━━━━━━━━━━━━━━━━━━━━━━━━━━━━━━━\u001b[0m \u001b[32m161.7/161.7 kB\u001b[0m \u001b[31m4.1 MB/s\u001b[0m eta \u001b[36m0:00:00\u001b[0m\n",
            "\u001b[?25hInstalling collected packages: fake_useragent\n",
            "Successfully installed fake_useragent-2.2.0\n"
          ]
        }
      ]
    },
    {
      "cell_type": "markdown",
      "source": [
        "**requests** - which allows your code to make HTTP requests (GET, POST, PUT, DELETE, etc.) to websites or APIs.\n",
        "\n",
        "**BeautifulSoup** - Parse and extract specific data from that HTML.\n",
        "\n",
        "**UserAgent** - library, which helps you generate random, realistic browser User-Agent strings."
      ],
      "metadata": {
        "id": "ClWTTZRAL4JV"
      }
    },
    {
      "cell_type": "code",
      "source": [
        "import requests\n",
        "from bs4 import BeautifulSoup\n",
        "from fake_useragent import UserAgent\n",
        "\n",
        "ua = UserAgent()\n",
        "header = {'user-agent': ua.chrome}\n",
        "google_page = requests.get('https://www.google.com', headers=header)\n",
        "\n",
        "soup = BeautifulSoup(google_page.content, 'lxml')\n",
        "print(soup.prettify())"
      ],
      "metadata": {
        "colab": {
          "base_uri": "https://localhost:8080/"
        },
        "id": "tLGoybdEL764",
        "outputId": "127ad198-096c-4df0-fc5e-8300d51b1611"
      },
      "execution_count": null,
      "outputs": [
        {
          "output_type": "stream",
          "name": "stdout",
          "text": [
            "<!DOCTYPE html>\n",
            "<html itemscope=\"\" itemtype=\"http://schema.org/WebPage\" lang=\"en\">\n",
            " <head>\n",
            "  <meta charset=\"utf-8\"/>\n",
            "  <meta content=\"origin\" name=\"referrer\"/>\n",
            "  <link href=\"//www.gstatic.com/images/branding/searchlogo/ico/favicon.ico\" rel=\"icon\"/>\n",
            "  <meta content=\"/images/branding/googleg/1x/googleg_standard_color_128dp.png\" itemprop=\"image\"/>\n",
            "  <style>\n",
            "   @font-face{font-family:'Google Sans';font-style:normal;font-weight:400 700;font-display:optional;src:url(//fonts.gstatic.com/s/googlesans/v62/4UaGrENHsxJlGDuGo1OIlL3Owp4.woff2)format('woff2');unicode-range:U+0000-00FF,U+0131,U+0152-0153,U+02BB-02BC,U+02C6,U+02DA,U+02DC,U+0304,U+0308,U+0329,U+2000-206F,U+20AC,U+2122,U+2191,U+2193,U+2212,U+2215,U+FEFF,U+FFFD;}@font-face{font-family:'Roboto';font-style:normal;font-weight:400;font-display:optional;src:url(//fonts.gstatic.com/s/roboto/v18/KFOmCnqEu92Fr1Mu4mxK.woff2)format('woff2');unicode-range:U+0000-00FF,U+0131,U+0152-0153,U+02BB-02BC,U+02C6,U+02DA,U+02DC,U+0304,U+0308,U+0329,U+2000-206F,U+20AC,U+2122,U+2191,U+2193,U+2212,U+2215,U+FEFF,U+FFFD;}@font-face{font-family:'Roboto';font-style:normal;font-weight:700;font-display:optional;src:url(//fonts.gstatic.com/s/roboto/v18/KFOlCnqEu92Fr1MmWUlfBBc4.woff2)format('woff2');unicode-range:U+0000-00FF,U+0131,U+0152-0153,U+02BB-02BC,U+02C6,U+02DA,U+02DC,U+0304,U+0308,U+0329,U+2000-206F,U+20AC,U+2122,U+2191,U+2193,U+2212,U+2215,U+FEFF,U+FFFD;}\n",
            "  </style>\n",
            "  <script nonce=\"seEIYS-aqm2GK6ZAaub1Ew\">\n",
            "   (function(){var w=[\"Google Sans\",[400,500,700],\"Roboto\",[400,700]];(function(){for(var a=0;a<w.length;a+=2)for(var d=w[a],e=w[a+1],b=0,c=void 0;c=e[b];++b)document.fonts.load(c+\" 10pt \"+d).catch(function(){})})();})();\n",
            "  </script>\n",
            "  <title>\n",
            "   Google\n",
            "  </title>\n",
            "  <script nonce=\"seEIYS-aqm2GK6ZAaub1Ew\">\n",
            "   window._hst=Date.now();\n",
            "  </script>\n",
            "  <script nonce=\"seEIYS-aqm2GK6ZAaub1Ew\">\n",
            "   (function(){var _g={kEI:'4tCVaNPKHc-j0PEPra3p8Qc',kEXPI:'31',kBL:'kExk',kOPI:89978449};(function(){var a;((a=window.google)==null?0:a.stvsc)?google.kEI=_g.kEI:window.google=_g;}).call(this);})();(function(){google.sn='webhp';google.kHL='en';})();(function(){\n",
            "var g=this||self;function k(){return window.google&&window.google.kOPI||null};var l,m=[];function n(a){for(var b;a&&(!a.getAttribute||!(b=a.getAttribute(\"eid\")));)a=a.parentNode;return b||l}function p(a){for(var b=null;a&&(!a.getAttribute||!(b=a.getAttribute(\"leid\")));)a=a.parentNode;return b}function q(a){/^http:/i.test(a)&&window.location.protocol===\"https:\"&&(google.ml&&google.ml(Error(\"a\"),!1,{src:a,glmm:1}),a=\"\");return a}\n",
            "function r(a,b,d,c,h){var e=\"\";b.search(\"&ei=\")===-1&&(e=\"&ei=\"+n(c),b.search(\"&lei=\")===-1&&(c=p(c))&&(e+=\"&lei=\"+c));var f=b.search(\"&cshid=\")===-1&&a!==\"slh\";c=\"&zx=\"+Date.now().toString();g._cshid&&f&&(c+=\"&cshid=\"+g._cshid);(d=d())&&(c+=\"&opi=\"+d);return\"/\"+(h||\"gen_204\")+\"?atyp=i&ct=\"+String(a)+\"&cad=\"+(b+e+c)};l=google.kEI;google.getEI=n;google.getLEI=p;google.ml=function(){return null};google.log=function(a,b,d,c,h,e){e=e===void 0?k:e;d||(d=r(a,b,e,c,h));if(d=q(d)){a=new Image;var f=m.length;m[f]=a;a.onerror=a.onload=a.onabort=function(){delete m[f]};a.src=d}};google.logUrl=function(a,b){b=b===void 0?k:b;return r(\"\",a,b)};}).call(this);(function(){google.y={};google.sy={};function e(a,b,c){if(a)var d=a.id;else{do d=Math.random();while(c[d])}c[d]=[a,b]}var f;(f=google).x||(f.x=function(a,b){e(a,b,google.y)});var g;(g=google).sx||(g.sx=function(a,b){e(a,b,google.sy)});google.lm=[];var h;(h=google).plm||(h.plm=function(a){google.lm.push.apply(google.lm,a)});google.lq=[];var k;(k=google).load||(k.load=function(a,b,c){google.lq.push([[a],b,c])});var l;(l=google).loadAll||(l.loadAll=function(a,b){google.lq.push([a,b])});google.bx=!1;var m;(m=google).lx||(m.lx=function(){});var n=[],p;(p=google).fce||(p.fce=function(a,b,c,d){n.push([a,b,c,d])});google.qce=n;google.adl=[];}).call(this);google.f={};(function(){\n",
            "document.documentElement.addEventListener(\"submit\",function(b){var a;if(a=b.target){var c=a.getAttribute(\"data-submitfalse\");a=c===\"1\"||c===\"q\"&&!a.elements.q.value?!0:!1}else a=!1;a&&(b.preventDefault(),b.stopPropagation())},!0);document.documentElement.addEventListener(\"click\",function(b){var a;a:{for(a=b.target;a&&a!==document.documentElement;a=a.parentElement)if(a.tagName===\"A\"){a=a.getAttribute(\"data-nohref\")===\"1\";break a}a=!1}a&&b.preventDefault()},!0);}).call(this);(function(){google.hs={h:true,nhs:false,sie:false};})();(function(){google.c={cap:2000,doiu:1,timl:false,vis:true};})();(function(){google.c.gl=true;})();(function(){\n",
            "var n=this||self;window.google=window.google||{};var p=window.performance&&window.performance.timing&&\"navigationStart\"in window.performance.timing,aa=google.stvsc&&google.stvsc.ns,q=p?aa||window.performance.timing.navigationStart:void 0;function r(){return window.performance.now()-(google.stvsc&&google.stvsc.pno||0)}var ba=google.stvsc&&google.stvsc.rs,t=p?ba||window.performance.timing.responseStart:void 0;var ca=google.c.cap,u=google.c.gl,da=google.c.tafb,v=google.c.timl;function w(a,c,d){google.tick(\"load\",a,c,d)}function x(a,c){google.c.e(\"load\",a,String(c))};var ea=function(a,c,d){this.g=a;this.v=[];var b=this.g.getAttribute(\"data-deferred\");this.B=a.hasAttribute(\"data-noaft\");this.j=!!b;if(b=!this.j)a:{for(b=0;b<y.length;++b)if(a.getAttribute(\"data-\"+y[b])){b=!0;break a}b=!1}this.l=b;(b=a.src)&&this.l&&(this.D=b);!this.l&&b||a.setAttribute(\"data-lzy_\",\"1\");this.A=this.B?!0:c||u&&this.i||this.j||this.l?!1:!this.g.src||this.g.complete;u||this.A||z(this);!d&&google.c.wh>1&&A(this)},z=function(a){google.rll(a.g,!0,function(){B(a,Date.now())})},A=function(a){a.C===\n",
            "void 0&&(a.C=google.cv(a.g));return a.C},B=function(a,c){if(a.D&&a.g.src===a.D||a.g.getAttribute(\"data-deferred\")===\"1\")u||z(a);else if(!a.i){a.j&&a.g.setAttribute(\"data-deferred\",\"3\");a.i=c;a.g.setAttribute(\"data-iml\",String(c));for(var d=0;d<a.v.length;++d)a.v[d](c);a.v.length=0}},y=\"src bsrc url ll image img-url lioi\".split(\" \");google.c.iim=google.c.iim||{};var C=google.c.iim,fa=0;function D(a,c,d,b){var e=a.getAttribute(\"data-csiid\")||google.kEI+\"_\"+String(++fa);C[e]||(a.setAttribute(\"data-csiid\",e),C[e]=c?c(a):new ea(a,d,b));return C[e]}function E(a){for(var c=document.getElementsByTagName(\"img\"),d=0,b=c.length;d<b;++d)a(D(c[d]))};function ha(a){if(a&&(a=a.target,a.tagName===\"IMG\")){var c=Date.now();B(D(a,void 0,!0,!0),c)}}function F(a){google.c.oil(a)}function G(){document.documentElement.removeEventListener(\"load\",F,!0);document.documentElement.removeEventListener(\"error\",F,!0)};var H={};function I(a,c){google.timers.load.m[a]===!1?c():(H[a]||(H[a]=[]),H[a].push(c))}google.c.q=I;google.caft=function(a){I(\"aft\",a)};google.timers={};google.startTick=function(a,c){google.timers[a]={t:{start:c||Date.now()},e:{},m:{}}};google.tick=function(a,c,d,b){d=d!==void 0?d:Date.now();google.timers[a].t[c]=d;b&&q&&performance.mark&&(a=d-q,a>0&&performance.mark(b,{startTime:a}))};google.c.e=function(a,c,d){google.timers[a].e[c]=d};google.c.b=function(a){var c=google.timers.load.m;c[a]&&google.ml(Error(\"b\"),!1,{m:a});c[a]=!0};google.c.u=function(a){var c=google.timers.load.m,d=!0;if(c[a]){for(var b=H[a]||[],e=0;e<b.length;++e)try{b[e]()}catch(k){google.ml(k,!1)}b.length=0;c[a]=!1;for(var h in c)c[h]&&(d=!1)}else{d=\"\";for(b in c)d+=b+\":\"+c[b]+\";\";google.ml(Error(\"a\"),!1,{m:a,s:d});d=!1}if(a=d)u&&G(),google.csiReport(google.timers.load,\"all\");return a};google.rll=function(a,c,d){function b(e){d(e);a.removeEventListener(\"load\",b,!1);a.removeEventListener(\"error\",b,!1)}a.addEventListener(\"load\",b,!1);c&&a.addEventListener(\"error\",b,!1)};var J,K=Date.now(),L=window.performance;L&&(L.now&&(J=Math.floor(r())),q&&t&&t>q&&t<=K&&(K=t,J=t-q));google.startTick(\"load\",K);var M=J;google.timers.load.wsrt=M;performance.mark&&performance.mark(\"SearchAFTStart\",{startTime:M});w(\"hst\",window._hst,\"SearchHeadStart\");google.c.b(\"xe\");function N(a){return document.visibilityState===\"hidden\"?(w(\"fht\",a),!0):!1}function O(){N()&&P()}function P(){document.removeEventListener(\"visibilitychange\",O,!0)}N(0)||document.addEventListener(\"visibilitychange\",O,!0);google.c.rq=[P];u&&(google.c.oil=ha,document.documentElement.addEventListener(\"load\",F,!0),document.documentElement.addEventListener(\"error\",F,!0),google.c.rq.push(G));google.cv=function(a,c,d){var b=a.parentElement;if(b&&(b.tagName===\"G-IMG\"||b.classList.contains(\"uhHOwf\"))&&(b.style.height||b.style.width)){var e=b.getBoundingClientRect(),h=a.getBoundingClientRect();if(e.height<h.height||e.width<h.width)a=b}if(!d)for(d=a;d&&d.tagName!==\"G-SCROLLING-CAROUSEL\";)d=d.parentElement;(b=!a)||(a.style.display===\"none\"?b=!0:document.defaultView&&document.defaultView.getComputedStyle?(b=document.defaultView.getComputedStyle(a),b=!!b&&(b.visibility===\"hidden\"||b.height===\n",
            "\"0px\"&&b.width===\"0px\")):b=!1);if(b)c=0;else if(a.getBoundingClientRect){b:{for(b=a;b&&b!==d;b=b.parentElement)if(b.style.overflow===\"hidden\")break b;b=null}(e=b)?(b=a.getBoundingClientRect(),e=e.getBoundingClientRect(),b=b.bottom<e.top||b.top>=e.bottom||b.right<e.left||b.left>=e.right):b=!1;if(b)c=0;else{b=a.getBoundingClientRect();var k=b.left+(c?0:window.pageXOffset);e=b.top+(c?0:window.pageYOffset);h=b.width;var g=b.height,f=0;if(!(g<=0&&h<=0)){var l=window.innerHeight||document.documentElement.clientHeight;e+g<0?f=2:e>=l&&(f=4);if(k+h<0||k>=(window.innerWidth||document.documentElement.clientWidth))f|=8;else if(d){k=b.left;if(!c)for(c=a;c&&c!==d;c=c.parentElement)k+=c.scrollLeft;c=d.getBoundingClientRect();if(k+h<c.left||k>=c.right)f|=8;b.top>=c.bottom&&(f|=4)}f||(f=1,e+g>l&&(f|=4))}c=f}}else c=1;return c};function Q(){return window.performance&&window.performance.navigation&&window.performance.navigation.type};var ia=window.location;function R(a){return(a=ia.search.match(new RegExp(\"[?&]\"+a+\"=(\\\\d+)\")))?Number(a[1]):-1}function S(a){var c=google.timers.load;google.c.gts?google.c.gts(function(){T(c,a)}):T(c,a)}\n",
            "function T(a,c){var d=a.e,b=google.stvsc;b&&(d.ssr=1);if(b?b.isBF:Q()===2)d.bb=1;Q()===1&&(d.r=1);a:{if(window.performance&&window.performance.getEntriesByType&&(b=window.performance.getEntriesByType(\"navigation\"),b.length!==0)){b=b[0];break a}b=void 0}if(b){var e=b.type;e&&(d.nt=e);e=b.deliveryType;e!=null&&(d.dt=e);b=b.transferSize;b!=null&&(d.ts=b)}(b=window.navigation)&&(b=b.activation)&&(b=b.navigationType)&&(d.ant=b);d=a.m;if(!d||!d.prs){b=window._csc===\"agsa\"&&window._cshid;e=Q()||b?0:R(\"qsubts\");e>0&&(d=R(\"fbts\"),d>0&&(a.t.start=Math.max(e,d)));var h=a.t,k=h.start;d={};a.wsrt!==void 0&&(d.wsrt=a.wsrt);if(k)for(var g in h)if(g!==\"start\"){var f=h[g];d[g]=g===\"sgl\"?f:Math.max(f-k,0)}e>0&&(d.gsasrt=a.t.start-e,g=R(\"qsd\"),g>0&&x(\"qsd\",g),(g=a.fbts)&&(d.gsasrt2=Math.max(e,g)-e));Q()||b||!a.qsubts||(g=a.fbts)&&(d.gsasrt3=Math.max(a.qsubts,g)-a.qsubts);a=a.e;c=\"/gen_204?s=\"+google.sn+\"&t=\"+c+\"&atyp=csi&ei=\"+google.kEI+\"&rt=\";g=\"\";for(m in d)c+=\"\"+g+m+\".\"+d[m],g=\",\";for(var l in a)c+=\"&\"+l+\"=\"+a[l];var m=\"\";n._cshid&&(m+=\"&cshid=\"+n._cshid);(l=window.google&&window.google.kOPI||null)&&(m+=\"&opi=\"+l);m=c+=m;typeof navigator.sendBeacon===\"function\"?navigator.sendBeacon(m,\"\"):google.log(\"\",\"\",m)}};function U(){w(\"cbt\");S(\"cap\")};function V(a,c,d){function b(f){g=Math.max(g,f);++k;e||h!==k||d(g)}var e=!0,h=0,k=0,g=0;E(function(f){a(f)&&(++h,f.i||f.A?b(f.i||0):f.v.push(b))});c();(e=!1,h!==k)||d(g)};var W=!1,X=0,Y=0,Z;function ja(){Z&&clearTimeout(Z)}\n",
            "function ka(a,c){google.c.wh>1||(google.c.wh=Math.floor(window.innerHeight||document.documentElement.clientHeight));var d=google.c.wh;var b=!c;c=c?Math.floor(c.getBoundingClientRect().top+window.pageYOffset):-1;b=b||google.c.wh>1&&c>=d;!Y&&b&&(Y=a,X=c,da&&w(\"afbr\",a,\"SearchAboveFoldBytesReceived\"));if(Y){var e=0,h=0,k=0,g=!1;V(function(f){if(!(A(f)&1))return!1;if(f.A)return++k,!f.B;A(f)&4&&(g=!0);f.j&&++h;++e;return!0},function(){x(\"ima\",e);x(\"imad\",h);x(\"imac\",k);document.getElementsByClassName(\"Ib7Efc\").length&&\n",
            "x(\"ddl\",1);x(\"wh\",d)},function(f){f&&w(\"afti\",f);X>0&&w(\"afts\",Y);var l=Y;f&&(f>l||g)&&(l=f);w(\"aft\",l,\"trigger:SearchAFTEnd\");ja();S(\"aft\");google.c.u(\"aft\")})}};var la=!1;google.c.wh=Math.floor(window.innerHeight||document.documentElement.clientHeight);google.c.b(\"prt\");var ma=ca||0;if(ma>0){a:{if(q!==void 0){var na=ma-r();if(na>0){Z=setTimeout(U,na);break a}U()}Z=void 0}google.c.rq.push(ja)}google.c.maft=function(a,c){u||E(function(){});W||(google.c.b(\"aft\"),W=!0);Y||ka(a,c)};google.c.miml=function(a){function c(b){var e=A(b);b.g.setAttribute(\"data-atf\",String(e));return v&&!b.B&&(!b.l||!!(A(b)&1))}function d(b){v&&w(\"iml\",b||a);google.c.u(\"iml\")}la||(google.c.b(\"iml\"),function(){V(c,function(){},d)}(0),la=!0)};google.c.setup=function(a){a=D(a);return google.c.wh>1?A(a):null};}).call(this);(function(){function b(){for(var a=google.drc.shift();a;)a(),a=google.drc.shift()};google.drc=[function(){google.tick&&google.tick(\"load\",\"dcl\")}];google.dclc=function(a){google.drc.length?google.drc.push(a):a()};window.addEventListener?(document.addEventListener(\"DOMContentLoaded\",b,!1),window.addEventListener(\"load\",b,!1)):window.attachEvent&&window.attachEvent(\"onload\",b);}).call(this);(function(){var n=function(a){var c=0;return function(){return c<a.length?{done:!1,value:a[c++]}:{done:!0}}},r=typeof Object.defineProperties==\"function\"?Object.defineProperty:function(a,c,e){if(a==Array.prototype||a==Object.prototype)return a;a[c]=e.value;return a},t=function(a){a=[\"object\"==typeof globalThis&&globalThis,a,\"object\"==typeof window&&window,\"object\"==typeof self&&self,\"object\"==typeof global&&global];for(var c=0;c<a.length;++c){var e=a[c];if(e&&e.Math==Math)return e}throw Error(\"a\");},x=t(this),y=function(a,c){if(c)a:{var e=x;a=a.split(\".\");for(var h=0;h<a.length-1;h++){var f=a[h];if(!(f in e))break a;e=e[f]}a=a[a.length-1];h=e[a];c=c(h);c!=h&&c!=null&&r(e,a,{configurable:!0,writable:!0,value:c})}},z=function(a){var c=typeof Symbol!=\"undefined\"&&Symbol.iterator&&a[Symbol.iterator];if(c)return c.call(a);if(typeof a.length==\"number\")return{next:n(a)};throw Error(\"b`\"+String(a));},A=typeof Object.assign==\"function\"?Object.assign:function(a,c){for(var e=1;e<arguments.length;e++){var h=arguments[e];if(h)for(var f in h)Object.prototype.hasOwnProperty.call(h,f)&&(a[f]=h[f])}return a};y(\"Object.assign\",function(a){return a||A});y(\"Promise\",function(a){function c(){this.g=null}function e(b){return b instanceof f?b:new f(function(d){d(b)})}if(a)return a;c.prototype.i=function(b){if(this.g==null){this.g=[];var d=this;this.j(function(){d.v()})}this.g.push(b)};var h=x.setTimeout;c.prototype.j=function(b){h(b,0)};c.prototype.v=function(){for(;this.g&&this.g.length;){var b=this.g;this.g=[];for(var d=0;d<b.length;++d){var g=b[d];b[d]=null;try{g()}catch(k){this.l(k)}}}this.g=null};c.prototype.l=function(b){this.j(function(){throw b;})};var f=function(b){this.i=0;this.j=void 0;this.g=[];this.D=!1;var d=this.l();try{b(d.resolve,d.reject)}catch(g){d.reject(g)}};f.prototype.l=function(){function b(k){return function(l){g||(g=!0,k.call(d,l))}}var d=this,g=!1;return{resolve:b(this.J),reject:b(this.v)}};f.prototype.J=function(b){if(b===this)this.v(new TypeError(\"A Promise cannot resolve to itself\"));else if(b instanceof f)this.L(b);else{a:switch(typeof b){case \"object\":var d=b!=null;break a;case \"function\":d=!0;break a;default:d=!1}d?this.I(b):this.C(b)}};f.prototype.I=function(b){var d=void 0;try{d=b.then}catch(g){this.v(g);return}typeof d==\"function\"?this.M(d,b):this.C(b)};f.prototype.v=function(b){this.F(2,b)};f.prototype.C=function(b){this.F(1,b)};f.prototype.F=function(b,d){if(this.i!=0)throw Error(\"c`\"+b+\"`\"+d+\"`\"+this.i);this.i=b;this.j=d;this.i===2&&this.K();this.G()};f.prototype.K=function(){var b=this;h(function(){if(b.H()){var d=x.console;typeof d!==\"undefined\"&&d.error(b.j)}},1)};f.prototype.H=function(){if(this.D)return!1;var b=x.CustomEvent,d=x.Event,g=x.dispatchEvent;if(typeof g===\"undefined\")return!0;typeof b===\"function\"?b=new b(\"unhandledrejection\",{cancelable:!0}):typeof d===\"function\"?b=new d(\"unhandledrejection\",{cancelable:!0}):(b=x.document.createEvent(\"CustomEvent\"),b.initCustomEvent(\"unhandledrejection\",!1,!0,b));b.promise=this;b.reason=this.j;return g(b)};f.prototype.G=function(){if(this.g!=null){for(var b=0;b<this.g.length;++b)p.i(this.g[b]);this.g=null}};var p=new c;f.prototype.L=function(b){var d=this.l();b.A(d.resolve,d.reject)};f.prototype.M=function(b,d){var g=this.l();try{b.call(d,g.resolve,g.reject)}catch(k){g.reject(k)}};f.prototype.then=function(b,d){function g(m,q){return typeof m==\"function\"?function(u){try{k(m(u))}catch(v){l(v)}}:q}var k,l,w=new f(function(m,q){k=m;l=q});this.A(g(b,k),g(d,l));return w};f.prototype.catch=function(b){return this.then(void 0,b)};f.prototype.A=function(b,d){function g(){switch(k.i){case 1:b(k.j);break;case 2:d(k.j);break;default:throw Error(\"d`\"+k.i);}}var k=\n",
            "this;this.g==null?p.i(g):this.g.push(g);this.D=!0};f.resolve=e;f.reject=function(b){return new f(function(d,g){g(b)})};f.race=function(b){return new f(function(d,g){for(var k=z(b),l=k.next();!l.done;l=k.next())e(l.value).A(d,g)})};f.all=function(b){var d=z(b),g=d.next();return g.done?e([]):new f(function(k,l){function w(u){return function(v){m[u]=v;q--;q==0&&k(m)}}var m=[],q=0;do m.push(void 0),q++,e(g.value).A(w(m.length-1),l),g=d.next();while(!g.done)})};return f});\n",
            "var B=this||self;var C=\"click focusin focusout auxclick change copy dblclick beforeinput input keyup keydown keypress mousedown mouseenter mouseleave mousemove mouseout mouseover mouseup paste pointerdown pointerenter pointerleave pointerup touchstart touchmove touchend touchcancel transitioncancel transitionend transitionrun transitionstart animationcancel animationend dragover dragenter dragleave drop dragstart dragend scroll speech\".split(\" \").concat([\"focus\",\"blur\",\"error\",\"load\"]);\n",
            "var D=[\"focus\",\"blur\",\"error\",\"load\",\"toggle\"];function E(a){return a===\"mouseenter\"?\"mouseover\":a===\"mouseleave\"?\"mouseout\":a===\"pointerenter\"?\"pointerover\":a===\"pointerleave\"?\"pointerout\":a};var G=function(){var a=new F;this.j={};this.l={};this.i=null;this.g=[];this.v=a};G.prototype.handleEvent=function(a,c,e){H(this,{eventType:a,event:c,targetElement:c.target,eic:e,timeStamp:Date.now(),eia:void 0,eirp:void 0,eiack:void 0})};var H=function(a,c){if(a.i)a.i(c);else{c.eirp=!0;var e;(e=a.g)==null||e.push(c)}};G.prototype.addEvent=function(a,c,e){var h=this;if(!(a in this.j)&&this.v){var f=function(b,d,g){h.handleEvent(b,d,g)};this.j[a]=f;c=E(c||a);if(c!==a){var p=this.l[c]||[];p.push(a);this.l[c]=p}this.v.addEventListener(c,function(b){return function(d){f(a,d,b)}},e)}};G.prototype.B=function(a){return this.j[a]};G.prototype.ecrd=function(a){this.i=a;var c;if((c=this.g)==null?0:c.length){for(a=0;a<this.g.length;a++)H(this,this.g[a]);this.g=null}};var I=typeof navigator!==\"undefined\"&&/iPhone|iPad|iPod/.test(navigator.userAgent),F=function(){this.g=window.document.documentElement;this.i=[]};F.prototype.addEventListener=function(a,c,e){I&&(this.g.style.cursor=\"pointer\");var h=this.i,f=h.push,p=this.g;c=c(this.g);var b=!1;D.indexOf(a)>=0&&(b=!0);p.addEventListener(a,c,typeof e===\"boolean\"?{capture:b,passive:e}:b);f.call(h,{eventType:a,B:c,capture:b,passive:e})};for(var J=new G,K=0;K<C.length;K++)J.addEvent(C[K]);(function(a){google.jsad=function(c){c(a)}})(J);var L=Object.assign({},function(a,c){return{trigger:function(e){var h=a.B(e.type);h||(a.addEvent(e.type),h=a.B(e.type));var f=e.target||e.srcElement;h&&h(e.type,e,c||f.ownerDocument.documentElement)},configure:function(e){e(a)}}}(J),{addEvent:function(a){J.addEvent(a)}});B.gws_wizbind=L;(function(a){if(a.__gwbp===void 0){var c,e=new Promise(function(h){c=h});e.__r=c;a.__gwbp=e}})(document);var M=document.__gwbp,N=M.__r;N&&(N(L),delete M.__r);(function(a,c){var e=function(h){var f=h.detail;f&&f._type&&c({type:f._type,target:h.target,bubbles:!0,detail:f})};a.addEventListener(\"_custom\",e);return function(){a.removeEventListener(\"_custom\",e)}})(window.document.documentElement,L.trigger);}).call(this);(function(){google.xjs={basecomb:'/xjs/_/js/k\\x3dxjs.hd.en.q75yPk7neeo.2018.O/ck\\x3dxjs.hd.nYMoAlcMmsk.L.B1.O/am\\x3dAIJSgQAAAAAAAAAAEAAAAAAAAAAAAAAAAAAAAAAAAAAIAAAACAAAAAACAAQAAgAYoHCHAAAAADgIAEgBAAAAAAQAEQAAESACACAAAAAAAAQIYBAAAYAABDcFAAAEIEQAABgUAAAEAAQIEAAASYAUAECQBBgF_gyMwCRoSAAEBCAAAQAAGXABAIQAAIAAAAAAAAAAAAAAACAAACAAACAAAeAiCAGhAiDpADCgCAAAAJAAAAEBAAAgQCAADCQgYADgCSDgAQAAAIIAACA9AEAAgAAAAEAAAAAAAAAAAE4AwAwALACGKBoAAAAAAAAAOgAEHjCkoAAAAAAAAAAAAAAAAAAAIEBBMBcSKAgQAAAAAAAAAAAAAAAAAAAAAACENLHQ/d\\x3d1/ed\\x3d1/dg\\x3d0/br\\x3d1/ujg\\x3d1/rs\\x3dACT90oF30s68MVRuq7dK0fIGnPCkSYwaIQ',basecss:'/xjs/_/ss/k\\x3dxjs.hd.nYMoAlcMmsk.L.B1.O/am\\x3dAIJSgQAAAAAAAAAAEAAAAAAAAAAAAAAAAAAAAAAAAAAIAAAACAAAAAACAAQAAAAYgGCHAAAAADgAAEgBAAAAAAQAEQAAACAAACAAAAAAAAQIYAAAAYAABDYFAAAEIEQAABAUAAAEAAQIEAAACYAUAECQBBAFAAAAwCRoAAAEBCAAAQAAGQABAIAAAAAAAAAAAAAAAAAAAAAAACAAACAAAeAiCAGhAiDpADCgCAAAAIAAAAEBAAAgACAADAQgYADgCSDgAQAAAIIAACA9AEAAgAAAAEAAAAAAAAAAAEYAwAQALACGKBoAAAAAAAAAIAAAAAAAAAAAAAAAAAAAAAAAAAAAIABAABEAKAAAAAAAAAAAAAAAAAAAAAAAAAAEAIA/br\\x3d1/rs\\x3dACT90oHGF7C4pWJMVLN7APoSixDw-UKnJQ',basejs:'/xjs/_/js/k\\x3dxjs.hd.en.q75yPk7neeo.2018.O/am\\x3dAAAAAAAAAAAAAAAAAAAAAAAAAAAAAAAAAAAAAAAAAAAAAAAACAAAAAAAAAQAAgAAIBAAAAAAACAIAAgAAAAAAAAAAAAAEQACACAAAAAAAAAAABAAAAAAAAMEAAAEIEQAABgEAAAAAAAAAAAAQAAEAAAAABgA_gyMAAAISAAAAAAAAAAAAHABAIQAAIAAAAAAAAAAAAAAACAAAAAAACAAAAAgAACAAgAAAAAAAAAAABAAAAAAAAAAQAAABCAAAAAAAAAAAAAAAAAAAAA9AAAAAAAAAAAAAAAAAAAAAA4AQAgAAACGKBoAAAAAAAAAOgAEHjCkoAAAAAAAAAAAAAAAAAAAIEBBMBcSCAgQAAAAAAAAAAAAAAAAAAAAAACENLHQ/dg\\x3d0/br\\x3d1/rs\\x3dACT90oFLmWiLz2Ul3B_fCeBOe_U4cVAJfA',excm:[]};})();(function(){var f=\"src href async nonce type charset crossorigin onload rel\".split(\" \");window._rtf=function(b,c){var a=document.createElement(b.tagName);f.forEach(function(e){a[e]=b[e]});a.onerror=function(){window._rtf(a,c)};var d=b.dataset.rtc===void 0?0:Number(b.dataset.rtc);d>=4?c&&c():(a.dataset.rtc=String(d+1),setTimeout(function(){document.body.appendChild(a)},50*Math.pow(2,d)+Math.random()*50))};}).call(this);\n",
            "  </script>\n",
            "  <link href=\"/xjs/_/ss/k=xjs.hd.nYMoAlcMmsk.L.B1.O/am=AIJSgQAAAAAAAAAAEAAAAAAAAAAAAAAAAAAAAAAAAAAIAAAACAAAAAACAAQAAAAYgGCHAAAAADgAAEgBAAAAAAQAEQAAACAAACAAAAAAAAQIYAAAAYAABDYFAAAEIEQAABAUAAAEAAQIEAAACYAUAECQBBAFAAAAwCRoAAAEBCAAAQAAGQABAIAAAAAAAAAAAAAAAAAAAAAAACAAACAAAeAiCAGhAiDpADCgCAAAAIAAAAEBAAAgACAADAQgYADgCSDgAQAAAIIAACA9AEAAgAAAAEAAAAAAAAAAAEYAwAQALACGKBoAAAAAAAAAIAAAAAAAAAAAAAAAAAAAAAAAAAAAIABAABEAKAAAAAAAAAAAAAAAAAAAAAAAAAAEAIA/d=1/ed=1/br=1/rs=ACT90oHGF7C4pWJMVLN7APoSixDw-UKnJQ/m=cdos,hsm,jsa,mb4ZUb,cEt90b,SNUn3,qddgKe,sTsDMc,dtl0hd,eHDfl,YV5bee,d,csi\" nonce=\"seEIYS-aqm2GK6ZAaub1Ew\" onerror=\"_rtf(this)\" rel=\"stylesheet\"/>\n",
            "  <script nonce=\"seEIYS-aqm2GK6ZAaub1Ew\">\n",
            "   (function(){google.kEXPI='0,817034,487095,2396122,698,435,1216833,7089460,60358926,3512,39634,60608,52040,195331,5351,4714,6620,13461,3527,17441,68943,1346,30999,2239,5117,9037,21772,438,14716,3179,5441,10766,3233,349,2911,6360,9187,2583,177,11438,3701,1971,4776,2990,1594,401,4351,3808,9079,914,1588,5,746,1670,359,1087,826,838,1345,34,1990,427,708,3079,4128,1116,909,224,193,1647,574,1459,1202,1864,1269,627,2210,679,170,372,450,1227,849,587,1639,58,1886,1241,318,2067,564,279,117,618,4,36,6,79,501,1588,526,449,203,1416,1224,687,1365,1538,1237,21193702,20738,929,540,257,3622882,4864736,2298469';})();window._ = window._ || {};window._DumpException = _._DumpException = function(e){throw e;};window._s = window._s || {};_s._DumpException = _._DumpException;window._qs = window._qs || {};_qs._DumpException = _._DumpException;(function(){var t=[22184448,2,0,1024,0,0,0,0,524288,2097152,536870912,16842752,572014594,138718,58720256,5378058,772407427,6555670,571543576,524288,4096,29370384,134221825,22003972,537133056,822085904,603980097,130613353,419430588,283529,297847100,587415489,141046976,277876739,4346114,341579328,19235840,50694,34144320,805569568,83894289,536904321,771758082,675299976,15540226,2261440,184551424,4210744,102829569,271648897,393730,940049016,1,520,614204370,103311824,19520,65536,216008960,537129056,679936044,104,0,20975232,816066590,2,0,0,536870912,482411776,8552737,4,0,0,0,553648128,14203188];window._F_toggles = window._xjs_toggles = t;})();window._F_installCss = window._F_installCss || function(css){};(function(){window.google.xjsu='/xjs/_/js/k\\x3dxjs.hd.en.q75yPk7neeo.2018.O/am\\x3dAAAAAAAAAAAAAAAAAAAAAAAAAAAAAAAAAAAAAAAAAAAAAAAACAAAAAAAAAQAAgAAIBAAAAAAACAIAAgAAAAAAAAAAAAAESACACAAAAAAAAAAABAAAAAAAAMEAAAEIEQAABgEAAAAAAAAAAAAQAAEAAAAABgA_gyMAAAISAAAAAAAAAAAAHABAIQAAIAAAAAAAAAAAAAAACAAAAAAACAAAAAgAACAAgAAAAAAAAAAABAAAAAAAAAAQAAABCAAAAAAAAAAAAAAAAAAAAA9AAAAAAAAAAAAAAAAAAAAAA4AQAgAAACGKBoAAAAAAAAAOgAEHjCkoAAAAAAAAAAAAAAAAAAAIEBBMBcSKAgQAAAAAAAAAAAAAAAAAAAAAACENLHQ/d\\x3d1/ed\\x3d1/dg\\x3d3/br\\x3d1/rs\\x3dACT90oEEjHX_F_kLE1bgG4EKqIKJOqyARg/ee\\x3dALeJib:B8gLwd;AfeaP:TkrAjf;BMxAGc:E5bFse;BgS6mb:fidj5d;BjwMce:cXX2Wb;CIZTGb:Kqhykb;CxXAWb:YyRLvc;DQEued:Fevhcf;DULqB:RKfG5c;Dkk6ge:JZmW9e;DpcR3d:zL72xf;Du7NI:C6zLgf;EABSZ:MXZt9d;ESrPQc:mNTJvc;EVNhjf:pw70Gc;EjXHpb:pSHqh;EmZ2Bf:zr1jrb;EnlcNd:WeHg4;F9mqte:UoRcbe;FSxmUe:fiZR8b;Fmv9Nc:O1Tzwc;G0KhTb:LIaoZ;GEkGdd:e1RzQd;GleZL:J1A7Od;HMDDWe:G8QUdb;HqeXPd:cmbnH;IBADCc:RYquRb;IoGlCf:b5lhvb;JXJSm:ii1RGf;JXS8fb:Qj0suc;JqSq7d:y9ePhe;JsbNhc:Xd8iUd;K5nYTd:ZDZcre;KOxcK:OZqGte;KQzWid:ZMKkN;KcokUb:KiuZBf;KpRAue:Tia57b;LBgRLc:SdcwHb,XVMNvd;LEikZe:byfTOb,lsjVmc;LXA8b:q7OdKd;LsNahb:ucGLNb;NJ1rfe:qTnoBf;NPKaK:SdcwHb;NSEoX:lazG7b;Np8Qkd:Dpx6qc;Nyt6ic:jn2sGd;OgagBe:cNTe0;OiqE2c:TFpEK;OoK5v:Sp69O;OohIYe:mpEAQb;Pjplud:PoEs9b;PpTLXd:pJYjx;Q1Ow7b:x5CSu;Q6C5kf:pfdZCe;QGR0gd:Mlhmy;QYLF2b:pAQYUd;Qw8Feb:jpavUe;R4IIIb:QWfeKf;R9Ulx:CR7Ufe;RCF5Sd:X1kBmd;RDNBlf:zPRCJb;SLtqO:Kh1xYe;SMDL4c:fTfGO,fTfGO;SNUn3:ZwDk9d,xD8Kp;ScI3Yc:e7Hzgb,e7Hzgb;ShpF6e:N0pvGc;SwCqAd:fXbCZc;SzQQ3e:dNhofb;TIUVQd:M8uRWb;TroZ1d:vVVzjb;U96pRd:FsR04;UBKJZ:LGDJGb;UDrY1c:eps46d;UVmjEd:EesRsb;UVzb9c:IvPZ6d;UyG7Kb:wQd0G;V2HTTe:RolTY;VGRfx:VFqbr;VN6jIc:ddQyuf;VOcgDe:YquhTb;VhA7bd:vAmQFf;VsAqSb:PGf2Re;WCEKNd:I46Hvd;WDGyFe:jcVOxd;Wfmdue:g3MJlb;YIZmRd:A1yn5d;YV5bee:IvPZ6d;ZSH6tc:QAvyLe;ZWEUA:afR4Cf;ZlOOMb:P0I0Ec;a56pNe:JEfCwb;aAJE9c:WHW6Ef;aCJ9tf:qKftvc;aVZq3e:EMeVIb;aZ61od:arTwJ;af0EJf:ghinId;bDXwRe:UsyOtc;bcPXSc:gSZLJb;cEt90b:ws9Tlc;cFTWae:gT8qnd;coJ8e:KvoW8;dIoSBb:ZgGg9b;dLlj2:Qqt3Gf;dowIGb:ebZ3mb,ebZ3mb;dtl0hd:lLQWFe;eBAeSb:Ck63tb;eBZ5Nd:audvde;eHDfl:ofjVkb;eJKchc:ATg1be;eO3lse:UefOmb;euOXY:OZjbQ;g8nkx:U4MzKc;gaub4:TN6bMe;gtVSi:ekUOYd;h3MYod:ws9Tlc;hK67qb:QWEO5b;hVic1b:Kqhykb;heHB1:sFczq;hjRo6e:F62sG;hlqGX:FWz1ic;hsLsYc:Vl118;hwoVHd:zw4U8c;iFQyKf:QIhFr;iySzae:a6xXfd;jJj2G:kF2o2b;k2Qxcb:XY51pe;kbAm9d:MkHyGd;lOO0Vd:OTA3Ae;lbfkyf:MqGdUd;liAz7d:kF2o2b;mWzs9c:fz5ukf;nJw4Gd:dPFZH;nrDcw:SuEoDe;oGtAuc:sOXFj;oSUNyd:fTfGO,fTfGO;oUlnpc:RagDlc;okUaUd:wItadb;pKJiXd:VCenhc;pNsl2d:j9Yuyc;pXdRYb:JKoKVe;pj82le:ww04Df;qZx2Fc:j0xrE;qaS3gd:yiLg6e;qafBPd:sgY6Zb;qavrXe:zQzcXe;qddgKe:d7YSfd,x4FYXe;rQSrae:C6D5Fc;rdexKf:FEkKD;rmWaj:PMS6Sd;ropkZ:UT1DG;sTsDMc:kHVSUb;sZmdvc:rdGEfc;slIQ5d:pnOULd;tH4IIe:Ymry6;tbg2ob:nMC03e;teSRSb:BMLai;tosKvd:ZCqP3;trZL0b:qY8PFe;uuQkY:u2V3ud;vEYCNb:FaqsVd;vRlMvf:Iw9Xo;vfVwPd:lcrkwe;w3bZCb:ZPGaIb;w4rSdf:XKiZ9;w9w86d:dt4g2b;wQlYve:aLUfP;wR5FRb:O1Gjze,TtcOte;wV5Pjc:L8KGxe;xBbsrc:NEW1Qc;ysNiMc:CpIBjd;yxTchf:KUM7Z;z97YGf:oug9te;zB3wie:WtgrP;zOsCQe:Ko78Df;zaIgPb:Sl0pxd/m\\x3dcdos,hsm,jsa,mb4ZUb,cEt90b,SNUn3,qddgKe,sTsDMc,dtl0hd,eHDfl,YV5bee,d,csi';window._F_jsUrl='/xjs/_/js/k\\x3dxjs.hd.en.q75yPk7neeo.2018.O/am\\x3dAAAAAAAAAAAAAAAAAAAAAAAAAAAAAAAAAAAAAAAAAAAAAAAACAAAAAAAAAQAAgAAIBAAAAAAACAIAAgAAAAAAAAAAAAAESACACAAAAAAAAAAABAAAAAAAAMEAAAEIEQAABgEAAAAAAAAAAAAQAAEAAAAABgA_gyMAAAISAAAAAAAAAAAAHABAIQAAIAAAAAAAAAAAAAAACAAAAAAACAAAAAgAACAAgAAAAAAAAAAABAAAAAAAAAAQAAABCAAAAAAAAAAAAAAAAAAAAA9AAAAAAAAAAAAAAAAAAAAAA4AQAgAAACGKBoAAAAAAAAAOgAEHjCkoAAAAAAAAAAAAAAAAAAAIEBBMBcSKAgQAAAAAAAAAAAAAAAAAAAAAACENLHQ/d\\x3d1/ed\\x3d1/dg\\x3d3/br\\x3d1/rs\\x3dACT90oEEjHX_F_kLE1bgG4EKqIKJOqyARg/ee\\x3dALeJib:B8gLwd;AfeaP:TkrAjf;BMxAGc:E5bFse;BgS6mb:fidj5d;BjwMce:cXX2Wb;CIZTGb:Kqhykb;CxXAWb:YyRLvc;DQEued:Fevhcf;DULqB:RKfG5c;Dkk6ge:JZmW9e;DpcR3d:zL72xf;Du7NI:C6zLgf;EABSZ:MXZt9d;ESrPQc:mNTJvc;EVNhjf:pw70Gc;EjXHpb:pSHqh;EmZ2Bf:zr1jrb;EnlcNd:WeHg4;F9mqte:UoRcbe;FSxmUe:fiZR8b;Fmv9Nc:O1Tzwc;G0KhTb:LIaoZ;GEkGdd:e1RzQd;GleZL:J1A7Od;HMDDWe:G8QUdb;HqeXPd:cmbnH;IBADCc:RYquRb;IoGlCf:b5lhvb;JXJSm:ii1RGf;JXS8fb:Qj0suc;JqSq7d:y9ePhe;JsbNhc:Xd8iUd;K5nYTd:ZDZcre;KOxcK:OZqGte;KQzWid:ZMKkN;KcokUb:KiuZBf;KpRAue:Tia57b;LBgRLc:SdcwHb,XVMNvd;LEikZe:byfTOb,lsjVmc;LXA8b:q7OdKd;LsNahb:ucGLNb;NJ1rfe:qTnoBf;NPKaK:SdcwHb;NSEoX:lazG7b;Np8Qkd:Dpx6qc;Nyt6ic:jn2sGd;OgagBe:cNTe0;OiqE2c:TFpEK;OoK5v:Sp69O;OohIYe:mpEAQb;Pjplud:PoEs9b;PpTLXd:pJYjx;Q1Ow7b:x5CSu;Q6C5kf:pfdZCe;QGR0gd:Mlhmy;QYLF2b:pAQYUd;Qw8Feb:jpavUe;R4IIIb:QWfeKf;R9Ulx:CR7Ufe;RCF5Sd:X1kBmd;RDNBlf:zPRCJb;SLtqO:Kh1xYe;SMDL4c:fTfGO,fTfGO;SNUn3:ZwDk9d,xD8Kp;ScI3Yc:e7Hzgb,e7Hzgb;ShpF6e:N0pvGc;SwCqAd:fXbCZc;SzQQ3e:dNhofb;TIUVQd:M8uRWb;TroZ1d:vVVzjb;U96pRd:FsR04;UBKJZ:LGDJGb;UDrY1c:eps46d;UVmjEd:EesRsb;UVzb9c:IvPZ6d;UyG7Kb:wQd0G;V2HTTe:RolTY;VGRfx:VFqbr;VN6jIc:ddQyuf;VOcgDe:YquhTb;VhA7bd:vAmQFf;VsAqSb:PGf2Re;WCEKNd:I46Hvd;WDGyFe:jcVOxd;Wfmdue:g3MJlb;YIZmRd:A1yn5d;YV5bee:IvPZ6d;ZSH6tc:QAvyLe;ZWEUA:afR4Cf;ZlOOMb:P0I0Ec;a56pNe:JEfCwb;aAJE9c:WHW6Ef;aCJ9tf:qKftvc;aVZq3e:EMeVIb;aZ61od:arTwJ;af0EJf:ghinId;bDXwRe:UsyOtc;bcPXSc:gSZLJb;cEt90b:ws9Tlc;cFTWae:gT8qnd;coJ8e:KvoW8;dIoSBb:ZgGg9b;dLlj2:Qqt3Gf;dowIGb:ebZ3mb,ebZ3mb;dtl0hd:lLQWFe;eBAeSb:Ck63tb;eBZ5Nd:audvde;eHDfl:ofjVkb;eJKchc:ATg1be;eO3lse:UefOmb;euOXY:OZjbQ;g8nkx:U4MzKc;gaub4:TN6bMe;gtVSi:ekUOYd;h3MYod:ws9Tlc;hK67qb:QWEO5b;hVic1b:Kqhykb;heHB1:sFczq;hjRo6e:F62sG;hlqGX:FWz1ic;hsLsYc:Vl118;hwoVHd:zw4U8c;iFQyKf:QIhFr;iySzae:a6xXfd;jJj2G:kF2o2b;k2Qxcb:XY51pe;kbAm9d:MkHyGd;lOO0Vd:OTA3Ae;lbfkyf:MqGdUd;liAz7d:kF2o2b;mWzs9c:fz5ukf;nJw4Gd:dPFZH;nrDcw:SuEoDe;oGtAuc:sOXFj;oSUNyd:fTfGO,fTfGO;oUlnpc:RagDlc;okUaUd:wItadb;pKJiXd:VCenhc;pNsl2d:j9Yuyc;pXdRYb:JKoKVe;pj82le:ww04Df;qZx2Fc:j0xrE;qaS3gd:yiLg6e;qafBPd:sgY6Zb;qavrXe:zQzcXe;qddgKe:d7YSfd,x4FYXe;rQSrae:C6D5Fc;rdexKf:FEkKD;rmWaj:PMS6Sd;ropkZ:UT1DG;sTsDMc:kHVSUb;sZmdvc:rdGEfc;slIQ5d:pnOULd;tH4IIe:Ymry6;tbg2ob:nMC03e;teSRSb:BMLai;tosKvd:ZCqP3;trZL0b:qY8PFe;uuQkY:u2V3ud;vEYCNb:FaqsVd;vRlMvf:Iw9Xo;vfVwPd:lcrkwe;w3bZCb:ZPGaIb;w4rSdf:XKiZ9;w9w86d:dt4g2b;wQlYve:aLUfP;wR5FRb:O1Gjze,TtcOte;wV5Pjc:L8KGxe;xBbsrc:NEW1Qc;ysNiMc:CpIBjd;yxTchf:KUM7Z;z97YGf:oug9te;zB3wie:WtgrP;zOsCQe:Ko78Df;zaIgPb:Sl0pxd/m\\x3dcdos,hsm,jsa,mb4ZUb,cEt90b,SNUn3,qddgKe,sTsDMc,dtl0hd,eHDfl,YV5bee,d,csi';})();\n",
            "  </script>\n",
            "  <script defer=\"\" nonce=\"seEIYS-aqm2GK6ZAaub1Ew\" src=\"/xjs/_/js/k=xjs.hd.en.q75yPk7neeo.2018.O/am=AAAAAAAAAAAAAAAAAAAAAAAAAAAAAAAAAAAAAAAAAAAAAAAACAAAAAAAAAQAAgAAIBAAAAAAACAIAAgAAAAAAAAAAAAAESACACAAAAAAAAAAABAAAAAAAAMEAAAEIEQAABgEAAAAAAAAAAAAQAAEAAAAABgA_gyMAAAISAAAAAAAAAAAAHABAIQAAIAAAAAAAAAAAAAAACAAAAAAACAAAAAgAACAAgAAAAAAAAAAABAAAAAAAAAAQAAABCAAAAAAAAAAAAAAAAAAAAA9AAAAAAAAAAAAAAAAAAAAAA4AQAgAAACGKBoAAAAAAAAAOgAEHjCkoAAAAAAAAAAAAAAAAAAAIEBBMBcSKAgQAAAAAAAAAAAAAAAAAAAAAACENLHQ/d=1/ed=1/dg=3/br=1/rs=ACT90oEEjHX_F_kLE1bgG4EKqIKJOqyARg/ee=ALeJib:B8gLwd;AfeaP:TkrAjf;BMxAGc:E5bFse;BgS6mb:fidj5d;BjwMce:cXX2Wb;CIZTGb:Kqhykb;CxXAWb:YyRLvc;DQEued:Fevhcf;DULqB:RKfG5c;Dkk6ge:JZmW9e;DpcR3d:zL72xf;Du7NI:C6zLgf;EABSZ:MXZt9d;ESrPQc:mNTJvc;EVNhjf:pw70Gc;EjXHpb:pSHqh;EmZ2Bf:zr1jrb;EnlcNd:WeHg4;F9mqte:UoRcbe;FSxmUe:fiZR8b;Fmv9Nc:O1Tzwc;G0KhTb:LIaoZ;GEkGdd:e1RzQd;GleZL:J1A7Od;HMDDWe:G8QUdb;HqeXPd:cmbnH;IBADCc:RYquRb;IoGlCf:b5lhvb;JXJSm:ii1RGf;JXS8fb:Qj0suc;JqSq7d:y9ePhe;JsbNhc:Xd8iUd;K5nYTd:ZDZcre;KOxcK:OZqGte;KQzWid:ZMKkN;KcokUb:KiuZBf;KpRAue:Tia57b;LBgRLc:SdcwHb,XVMNvd;LEikZe:byfTOb,lsjVmc;LXA8b:q7OdKd;LsNahb:ucGLNb;NJ1rfe:qTnoBf;NPKaK:SdcwHb;NSEoX:lazG7b;Np8Qkd:Dpx6qc;Nyt6ic:jn2sGd;OgagBe:cNTe0;OiqE2c:TFpEK;OoK5v:Sp69O;OohIYe:mpEAQb;Pjplud:PoEs9b;PpTLXd:pJYjx;Q1Ow7b:x5CSu;Q6C5kf:pfdZCe;QGR0gd:Mlhmy;QYLF2b:pAQYUd;Qw8Feb:jpavUe;R4IIIb:QWfeKf;R9Ulx:CR7Ufe;RCF5Sd:X1kBmd;RDNBlf:zPRCJb;SLtqO:Kh1xYe;SMDL4c:fTfGO,fTfGO;SNUn3:ZwDk9d,xD8Kp;ScI3Yc:e7Hzgb,e7Hzgb;ShpF6e:N0pvGc;SwCqAd:fXbCZc;SzQQ3e:dNhofb;TIUVQd:M8uRWb;TroZ1d:vVVzjb;U96pRd:FsR04;UBKJZ:LGDJGb;UDrY1c:eps46d;UVmjEd:EesRsb;UVzb9c:IvPZ6d;UyG7Kb:wQd0G;V2HTTe:RolTY;VGRfx:VFqbr;VN6jIc:ddQyuf;VOcgDe:YquhTb;VhA7bd:vAmQFf;VsAqSb:PGf2Re;WCEKNd:I46Hvd;WDGyFe:jcVOxd;Wfmdue:g3MJlb;YIZmRd:A1yn5d;YV5bee:IvPZ6d;ZSH6tc:QAvyLe;ZWEUA:afR4Cf;ZlOOMb:P0I0Ec;a56pNe:JEfCwb;aAJE9c:WHW6Ef;aCJ9tf:qKftvc;aVZq3e:EMeVIb;aZ61od:arTwJ;af0EJf:ghinId;bDXwRe:UsyOtc;bcPXSc:gSZLJb;cEt90b:ws9Tlc;cFTWae:gT8qnd;coJ8e:KvoW8;dIoSBb:ZgGg9b;dLlj2:Qqt3Gf;dowIGb:ebZ3mb,ebZ3mb;dtl0hd:lLQWFe;eBAeSb:Ck63tb;eBZ5Nd:audvde;eHDfl:ofjVkb;eJKchc:ATg1be;eO3lse:UefOmb;euOXY:OZjbQ;g8nkx:U4MzKc;gaub4:TN6bMe;gtVSi:ekUOYd;h3MYod:ws9Tlc;hK67qb:QWEO5b;hVic1b:Kqhykb;heHB1:sFczq;hjRo6e:F62sG;hlqGX:FWz1ic;hsLsYc:Vl118;hwoVHd:zw4U8c;iFQyKf:QIhFr;iySzae:a6xXfd;jJj2G:kF2o2b;k2Qxcb:XY51pe;kbAm9d:MkHyGd;lOO0Vd:OTA3Ae;lbfkyf:MqGdUd;liAz7d:kF2o2b;mWzs9c:fz5ukf;nJw4Gd:dPFZH;nrDcw:SuEoDe;oGtAuc:sOXFj;oSUNyd:fTfGO,fTfGO;oUlnpc:RagDlc;okUaUd:wItadb;pKJiXd:VCenhc;pNsl2d:j9Yuyc;pXdRYb:JKoKVe;pj82le:ww04Df;qZx2Fc:j0xrE;qaS3gd:yiLg6e;qafBPd:sgY6Zb;qavrXe:zQzcXe;qddgKe:d7YSfd,x4FYXe;rQSrae:C6D5Fc;rdexKf:FEkKD;rmWaj:PMS6Sd;ropkZ:UT1DG;sTsDMc:kHVSUb;sZmdvc:rdGEfc;slIQ5d:pnOULd;tH4IIe:Ymry6;tbg2ob:nMC03e;teSRSb:BMLai;tosKvd:ZCqP3;trZL0b:qY8PFe;uuQkY:u2V3ud;vEYCNb:FaqsVd;vRlMvf:Iw9Xo;vfVwPd:lcrkwe;w3bZCb:ZPGaIb;w4rSdf:XKiZ9;w9w86d:dt4g2b;wQlYve:aLUfP;wR5FRb:O1Gjze,TtcOte;wV5Pjc:L8KGxe;xBbsrc:NEW1Qc;ysNiMc:CpIBjd;yxTchf:KUM7Z;z97YGf:oug9te;zB3wie:WtgrP;zOsCQe:Ko78Df;zaIgPb:Sl0pxd/m=cdos,hsm,jsa,mb4ZUb,cEt90b,SNUn3,qddgKe,sTsDMc,dtl0hd,eHDfl,YV5bee,d,csi\">\n",
            "  </script>\n",
            "  <script nonce=\"seEIYS-aqm2GK6ZAaub1Ew\">\n",
            "   (function(){window.google.erd={jsr:1,bv:2268,sd:true,de:true,dpf:'ArWD19pWB03y3jghliUWwhsacANGUO_MzdfZwWVVENk'};})();(function(){var sdo=false;var mei=10;var diel=0;\n",
            "var g=this||self;var k,l=(k=g.mei)!=null?k:1,m,p=(m=g.diel)!=null?m:0,q,r=(q=g.sdo)!=null?q:!0,t=0,u,w=google.erd,x=w.jsr;google.ml=function(a,b,d,n,e){e=e===void 0?2:e;b&&(u=a&&a.message);d===void 0&&(d={});d.cad=\"ple_\"+google.ple+\".aple_\"+google.aple;if(google.dl)return google.dl(a,e,d,!0),null;b=d;if(x<0){window.console&&console.error(a,b);if(x===-2)throw a;b=!1}else b=!a||!a.message||a.message===\"Error loading script\"||t>=l&&!n?!1:!0;if(!b)return null;t++;d=d||{};b=encodeURIComponent;var c=\"/gen_204?atyp=i&ei=\"+b(google.kEI);google.kEXPI&&(c+=\"&jexpid=\"+b(google.kEXPI));c+=\"&srcpg=\"+b(google.sn)+\"&jsr=\"+b(w.jsr)+\n",
            "\"&bver=\"+b(w.bv);w.dpf&&(c+=\"&dpf=\"+b(w.dpf));var f=a.lineNumber;f!==void 0&&(c+=\"&line=\"+f);var h=a.fileName;h&&(h.indexOf(\"-extension:/\")>0&&(e=3),c+=\"&script=\"+b(h),f&&h===window.location.href&&(f=document.documentElement.outerHTML.split(\"\\n\")[f],c+=\"&cad=\"+b(f?f.substring(0,300):\"No script found.\")));google.ple&&google.ple===1&&(e=2);c+=\"&jsel=\"+e;for(var v in d)c+=\"&\",c+=b(v),c+=\"=\",c+=b(d[v]);c=c+\"&emsg=\"+b(a.name+\": \"+a.message);c=c+\"&jsst=\"+b(a.stack||\"N/A\");c.length>=12288&&(c=c.substring(0,12288));a=c;n||google.log(0,\"\",a);return a};window.onerror=function(a,b,d,n,e){u!==a&&(a=e instanceof Error?e:Error(a),d===void 0||\"lineNumber\"in a||(a.lineNumber=d),b===void 0||\"fileName\"in a||(a.fileName=b),google.ml(a,!1,void 0,!1,a.name===\"SyntaxError\"||a.message.substring(0,11)===\"SyntaxError\"||a.message.indexOf(\"Script error\")!==-1?3:p));u=null;r&&t>=l&&(window.onerror=null)};})();\n",
            "  </script>\n",
            "  <link blocking=\"render\" href=\"#ZnpjSd\" rel=\"expect\"/>\n",
            "  <script nonce=\"seEIYS-aqm2GK6ZAaub1Ew\">\n",
            "   (function(){var t=2500;(function(){'use strict';function a(){const c=document.querySelectorAll(\"link[blocking=render]\");for(const d of c)d.remove()}const b=t-performance.now();b>0?setTimeout(a,b):a();}).call(this);})();(function(){'use strict';\n",
            "var h=this||self;var m=h.JSON.parse,q=h.JSON.stringify;function r(a,b,c){(a=a.getItem(b+\";;\"+c))?(b=a.indexOf(\"_\"),a=b<0?null:m(a.substr(b+1))):a=null;return a}function t(a,b,c,d,e=\"m\",n=!0){let k=!1,g;try{if(e!=\"x\"){var f=a==\"s\"?window.sessionStorage:window.localStorage,l=r(f,\"_c\",\"i\")||0,p=q(l+1);f.setItem(\"_c;;i\",\"p:*|l:9007199254740991_\"+p);g=l;p=f;f=b;l=c;var z=g,A=q(d);p.setItem(f+\";;\"+l,\"p:\"+e+\"|l:\"+(z+\"_\")+A);k=!0}}catch(D){}n&&(h.mPPkxd||(h.mPPkxd=[]),h.mPPkxd.push([k,arguments,g]))};var u=[{g:\"data-vt-d\",types:[]},{g:\"data-vt-mb\",types:[\"sb\",\"mb\"]},{g:\"data-vt-rq\",types:[\"rq\"]},{g:\"data-vt-spth\",types:[\"spth\"]},{g:\"data-vt-lows\",types:[\"lows\"]}];function v(a,b,c){try{let d,e;a==null||(d=a.viewTransition)==null||(e=d.types)==null||e.clear();for(const n of b){let k,g,f;(k=a)==null||(g=k.viewTransition)==null||(f=g.types)==null||f.add(n)}}catch(d){google.ml(d,!0,{src:c})}}\n",
            "function w(a){try{window.addEventListener(\"pageswap\",b=>{v(b,a,\"mpa_vt-ps\");t(\"s\",\"mpavt\",\"mpa-vt-types\",JSON.stringify(a))},{once:!0})}catch(b){google.ml(b,!0,{src:\"mpa_vt-el\"})}};let x;window.addEventListener(\"pagereveal\",async a=>{a:{try{var b=r(window.sessionStorage,\"mpavt\",\"mpa-vt-types\");break a}catch(c){}b=null}if(b){b=JSON.parse(b);try{window.sessionStorage.removeItem(\"mpavt;;mpa-vt-types\")}catch(c){}b&&v(a,b,\"mpa_vt-pr\")}try{let c;await (a==null?void 0:(c=a.viewTransition)==null?void 0:c.finished)}finally{y()}},{once:!0});B();document.addEventListener(\"click\",a=>{try{a:{for(const {g:c,types:d}of u){let e;if((e=a.target)==null?0:e.closest(`[${c}]`)){var b=d;break a}}b=[]}a=b;a.length>0?(B(),w(a)):y()}catch(c){google.ml(c,!0,{src:\"mpa_vt-t\"})}},{capture:!0,passive:!0});function C(){x||(x=document.createElement(\"style\"),document.head.append(x));return x}function y(){C().textContent=\"@view-transition{navigation:none;}\"}function B(){C().textContent=\"@view-transition{navigation:auto;}\"};}).call(this);(function(){'use strict';try{window.addEventListener(\"pagereveal\",async a=>{try{const c=a.viewTransition;if(c){await c.ready;a=[[\"root\"],[\"sb\"],[\"mb\"],[\"ubi\",!0]];for(const [l,d]of a)f(l,d)}}catch(c){google.ml(c,!0,{src:\"mpa_vt-c\"})}},{capture:!0,passive:!0})}catch(a){google.ml(a,!0,{src:\"mpa_vt-i\"})}function q(a){return Number(a.split(\"px\")[0])}\n",
            "function f(a,c){const l=`::view-transition-group(${a})`,d=document.getAnimations().find(r=>{let m;return((m=r.effect)==null?void 0:m.pseudoElement)===l});if(d){var n=d.effect,b=n.getKeyframes();if(b[1].width===\"auto\"){d.currentTime=d.effect.getTiming().duration;var e=window.getComputedStyle(document.documentElement,l);var g=new DOMMatrix(e.transform);var h=q(e.width);e=q(e.height);d.currentTime=0}else g=new DOMMatrix(b[1].transform),h=q(b[1].width),e=q(b[1].height);var k=new DOMMatrix(b[0].transform),p=q(b[0].height);h=q(b[0].width)/h;c=c?p/e:h;var t=k.e;k=k.f;var u=g.e;g=g.f;a!==\"sb\"&&(k+p<0||g+e<0)&&d.cancel();n.setKeyframes([{transform:`translate(${t}px, ${k}px) scale(${h}, ${c})`,easing:b[0].easing},{transform:`translate(${u}px, ${g}px) scale(1, 1)`,easing:b[1].easing}])}};}).call(this);\n",
            "  </script>\n",
            "  <style>\n",
            "   h1,ol,ul,li,button{margin:0;padding:0}button{border:none;background:none}body{background:#fff}body,input,button{font-size:14px;font-family:Roboto,Arial,sans-serif;color:var(--YLNNHc)}a{color:var(--JKqx2);text-decoration:none}a:hover,a:active{text-decoration:underline}a:visited{color:#681da8}html,body{min-width:400px}body,html{height:100%;margin:0;padding:0}.gb_y{display:-webkit-box;display:-webkit-flex;display:-webkit-box;display:-webkit-flex;display:flex;-webkit-box-pack:end;-webkit-justify-content:flex-end;-webkit-justify-content:flex-end;justify-content:flex-end;width:100%}.gb_z{-webkit-box-sizing:border-box;box-sizing:border-box;height:48px;padding:4px}.gb_A,.gb_B,.gb_C{-webkit-tap-highlight-color:transparent;-webkit-box-sizing:border-box;box-sizing:border-box;float:right;outline:none}.gb_D{-webkit-box-sizing:border-box;box-sizing:border-box;display:inline-block;height:48px;outline:none;padding:4px}.gb_E,.gb_F{fill:#5f6368}.gb_H .gb_F,.gb_H .gb_E{fill:rgba(255,255,255,.87)}.gb_I .gb_B,.gb_J .gb_B{cursor:pointer;padding:8px}.gb_K{display:none}a.gb_A{-webkit-border-radius:100px;border-radius:100px;background:#0b57d0;background:var(--gm3-sys-color-primary,#0b57d0);-webkit-box-sizing:border-box;box-sizing:border-box;color:#fff;color:var(--gm3-sys-color-on-primary,#fff);display:inline-block;font-size:14px;font-weight:500;min-height:40px;outline:none;text-align:center;text-decoration:none;white-space:normal;line-height:18px;position:relative;font-family:\"Google Sans Text\",Roboto,Helvetica,Arial,sans-serif;min-width:85px;padding:10px 12px}.gb_H a.gb_A{background:#c2e7ff;background:var(--gm3-sys-color-secondary-fixed,#c2e7ff);color:#001d35;color:var(--gm3-sys-color-on-secondary-fixed,#001d35)}.gb_T{-webkit-box-orient:vertical;-webkit-line-clamp:2;max-height:40px;max-width:100%;overflow:hidden;overflow-wrap:break-word;word-break:break-word}.gb_O{fill:#1a73e8;margin:4px}.gb_H .gb_O{fill:#8ab4f8}@media (max-width:640px){a.gb_A{min-width:75px}}.gb_3d{position:absolute;right:0;top:0}.gb_B{background-color:transparent;background-position:center;background-repeat:no-repeat;border:0;display:inline-block;height:40px;padding:4px;position:relative;width:40px}.gb_P{-webkit-border-radius:50%;border-radius:50%}.gb_B .gb_Q.gb_R,.gb_S{display:none}.gb_Q{display:none}.gb_L,.gb_M{display:none}sentinel{}:root{--COEmY:#1f1f1f;--xhUGwc:#fff}:root{--vZe0jb:#a8c7fa;--nwXobb:#638ed4;--VuZXBd:#001d35;--uLz37c:#545d7e;--jINu6c:#001d35;--TyVYld:#0b57d0;--ZEpPmd:#c3d9fb;--QWaaaf:#638ed4;--DEeStf:#f5f8ff;--TSWZIb:#e5edff;--BRLwE:#d3e3fd;--gS5jXb:#dadce0;--Aqn7xd:#d2d2d2;--EpFNW:#fff;--Xqboce:#1f1f1f;--IXoxUe:#5e5e5e;--bbQxAb:#474747;--YLNNHc:#1f1f1f;--TMYS9:#0b57d0;--JKqx2:#1a0dab;--rrJJUc:var(--Nsm0ce);--mXZkqc:#d2d2d2;--Nsm0ce:#0b57d0;--vdwxpe:#a8c7fa;--ywz01c:#fbbc04;--XKMDxc:#f3f5f6;--aYn2S:#f3f5f6;--Lm570b:#dee1e3}.IiOSLb .rsGxI.Ww4FFb,.Ww4FFb{border-radius:0px;border-width:0}.IiOSLb .rsGxI.Ww4FFb,.Ww4FFb{background-color:var(--xhUGwc)}.IiOSLb .rsGxI.Ww4FFb,.Ww4FFb{box-shadow:none}.Ww4FFb .mnr-c:not(:empty),.mnr-c:not(:empty) .Ww4FFb{box-shadow:none;margin-bottom:0px}.vt6azd{margin:0px 0px 30px}.Xx7Mif{contain:style;transition:height linear .2s;position:relative}.E5eFb{width:100%;contain:size style}.LoygGf{width:100%;display:block}.CTOaxb{position:fixed;top:0;left:0;contain:size layout style}.OMqmfd{position:sticky;top:0}.zLSRge{border-bottom:1px solid var(--gS5jXb)}.AX1Qf{position:absolute;left:50vw;width:1px;height:2px;visibility:hidden;pointer-events:none}.oDzakc{display:inline-block;float:left}.wXpfVb{position:relative;top:-1px;width:100%;height:0}.OhScic{margin:0px}.zsYMMe{padding:0px}.TBC9ub{margin-left:0px;margin-right:0px}.OZ5bRd{margin-bottom:auto;margin-top:auto}.wgbRNb{cursor:pointer;height:72px;position:absolute;display:block;visibility:inherit;width:36px;bottom:0;opacity:.8;top:0;z-index:101}.wgbRNb.tHT0l{transition:opacity .5s,visibility .5s}.wgbRNb:hover{opacity:.9}.wgbRNb.pQXcHc,.wgbRNb.pQXcHc:hover{cursor:default;opacity:0;visibility:hidden}.b5K9zd{bottom:0;display:block;position:absolute!important;top:0}.wgbRNb.ENJHPd:hover g-fab{color:#202124!important}.bCwlI.ENJHPd g-fab,.VdehBf.ENJHPd g-fab{box-shadow:0 7px 15px rgba(0,0,0,0.2)}.wgbRNb.ENJHPd{height:50px;width:50px;opacity:1}.wgbRNb.ENJHPd.pQXcHc,.wgbRNb.ENJHPd.pQXcHc:hover{opacity:0}.bCwlI.ENJHPd g-fab,.VdehBf.ENJHPd g-fab{cursor:pointer;height:50px;width:50px}.bCwlI.ENJHPd{left:-25px}.VdehBf.ENJHPd{right:-25px}.wgbRNb.HEeAqe:hover g-fab{color:#202124!important}.wgbRNb.HEeAqe{height:48px;width:48px;opacity:.9}.wgbRNb.HEeAqe:hover{opacity:1}.wgbRNb.HEeAqe.pQXcHc,.wgbRNb.HEeAqe.pQXcHc:hover{opacity:0}.bCwlI.HEeAqe g-fab,.VdehBf.HEeAqe g-fab{box-shadow:0 7px 15px rgba(0,0,0,0.2);cursor:pointer;height:48px;width:48px}.bCwlI.HEeAqe{left:20px}.VdehBf.HEeAqe{right:20px}.wgbRNb.TVgFVb:hover g-fab{color:#202124!important}.wgbRNb.TVgFVb{height:40px;width:40px}.bCwlI.TVgFVb g-fab,.VdehBf.TVgFVb g-fab{box-shadow:0 4px 4px rgba(0,0,0,0.3),0 0 4px rgba(0,0,0,0.2);cursor:pointer}.bCwlI.TVgFVb{left:-58px}.VdehBf.TVgFVb{right:-58px}.bCwlI.Yze26d .vWtmKf,.VdehBf.Yze26d .PFY4o{background-image:url(data:image/png;base64,iVBORw0KGgoAAAANSUhEUgAAAAwAAAAuCAYAAAAcEfjaAAABV0lEQVRIx+2VsW7CQBBEDwTpIkXICMuyJdtfQsGXQUVFlSpVmjTESOn4BAoXLigsueAvaM2MBAht7g6v06ZYwNK8893ezGLatjV5ni9QO2PMC599ZdI0nWdZdgbQ4vsH0NgLQLSn+FZ4/gY0cgJBELxCdHiEUF+AhlaAH9jWG0SleNOnDbr/iON4AlEloA9AAyvAiqIogPAooHcnwIJghqrFmTZOgJUkSQRRI6C1E7huL8GbTmJ7Ky2w/PuWVIcOw3Daua2qi1NZQ20+i723XnurA/QQ0aJTRJ8J/oEuAFvNqcjWPwV4ibzM66Weeck+8YhTUNhm7xIPaUAhPtCoVjGtLdxbMgK/zsCwMDRi5YrhsnaJcRQrHzkNrW1l0MXKNQeCy95rsXLDUeNK3EqsfOIQ8/0DLVWAeku9Du1rK6ehE1BfnNoavcwn7L3tZO9eARIRLW4RvQA0+6DNwTHW6QAAAABJRU5ErkJggg==);background-repeat:no-repeat;height:20px;opacity:.56;width:12px}.bCwlI.Yze26d,.VdehBf.Yze26d{opacity:.9;width:80px}.bCwlI.Yze26d::after,.VdehBf.Yze26d::after{content:\"\";min-height:48px;height:100%;left:50%;transform:translate(-50%,-50%);position:absolute;top:50%;min-width:48px;width:100%}.bCwlI.Yze26d .vWtmKf{background-position:0 -26px;left:2px}.VdehBf.Yze26d .PFY4o{background-position:0 0;right:2px}.bCwlI.Yze26d{background:linear-gradient(90deg,#fff 50%,transparent 100%);left:0}.VdehBf.Yze26d{background:linear-gradient(270deg,#fff 50%,transparent 100%);right:0}@media (forced-colors:active){.bCwlI.Yze26d,.VdehBf.Yze26d{background:#fff;opacity:1;width:48px}.bCwlI.Yze26d .vWtmKf,.VdehBf.Yze26d .PFY4o{opacity:1}}@media (forced-colors:active) and (prefers-color-scheme:dark){.bCwlI.Yze26d .vWtmKf,.VdehBf.Yze26d .PFY4o{filter:invert(1) contrast(200%)}}@media (forced-colors:active) and (prefers-color-scheme:light){.bCwlI.Yze26d .vWtmKf,.VdehBf.Yze26d .PFY4o{filter:contrast(200%)}}.wgbRNb.T9Wh5:hover g-fab{color:#202124!important;box-shadow:0 0 0 1px rgba(0,0,0,0.04),0 4px 8px 0 rgba(0,0,0,0.2)}.wgbRNb.T9Wh5{height:36px;width:36px;opacity:1}.wgbRNb.T9Wh5.pQXcHc,.wgbRNb.T9Wh5.pQXcHc:hover{opacity:0}.bCwlI.T9Wh5 g-fab,.VdehBf.T9Wh5 g-fab{cursor:pointer;height:36px;width:36px}.bCwlI.T9Wh5{left:-18px}.VdehBf.T9Wh5{right:-18px}.bCwlI.SL0Gp .vWtmKf,.VdehBf.SL0Gp .PFY4o{background-repeat:no-repeat;opacity:.54;width:24px}.bCwlI.SL0Gp .vWtmKf{background-image:url(data:image/png;base64,iVBORw0KGgoAAAANSUhEUgAAABgAAAAYCAQAAABKfvVzAAAAQ0lEQVR4AWNABaNAAQhJUv4ACGVJUf6f4TADDw2VHyFN+VEGXmJdfwCo/AeDNIhJqQ2E/UBLLYiApVFMI9ISWWAUAAAy1x3G3j1wxQAAAABJRU5ErkJggg==)}.VdehBf.SL0Gp .PFY4o{background-image:url(data:image/png;base64,iVBORw0KGgoAAAANSUhEUgAAABgAAAAYCAQAAABKfvVzAAAAUElEQVR4AWOAgFHAAYQkKd8BhCRoUWZ4wfCfNC1aDC/poEWb4RWpWnQYfgK1bCBWOSPDFKDyHwwexCqfTFPlkyDKiQ/SH2DlJAAPIKQIjAIADAMd5ce1j0IAAAAASUVORK5CYII=)}.VdehBf.SL0Gp,.bCwlI.SL0Gp{width:24px}.wgbRNb.SL0Gp.pQXcHc,.wgbRNb.SL0Gp.pQXcHc:hover{cursor:default;opacity:1;visibility:inherit}.wgbRNb.SL0Gp.pQXcHc .vWtmKf,.wgbRNb.SL0Gp.pQXcHc .PFY4o{opacity:.2}.wgbRNb.SL0Gp{height:24px;margin:0}.wgbRNb.SL0Gp:hover{opacity:1}.wgbRNb.zfpUke:hover g-fab{color:#202124!important}.wgbRNb.zfpUke{height:36px;width:36px;opacity:0}.z1Mm0e:hover .wgbRNb.zfpUke{opacity:.9}.z1Mm0e .wgbRNb.zfpUke:hover,.z1Mm0e .wgbRNb.zfpUke:focus-visible{opacity:1}.wgbRNb.zfpUke.pQXcHc,.wgbRNb.zfpUke.pQXcHc:hover{opacity:0}.bCwlI.zfpUke g-fab,.VdehBf.zfpUke g-fab{box-shadow:0 0 0 1px rgba(0,0,0,0.04),0 4px 8px 0 rgba(0,0,0,0.2);cursor:pointer;height:36px;width:36px}.bCwlI.zfpUke{left:16px}.VdehBf.zfpUke{right:16px}.bCwlI.ENpXyb .vWtmKf,.VdehBf.ENpXyb .PFY4o{background-image:url(data:image/png;base64,iVBORw0KGgoAAAANSUhEUgAAAAwAAAAuCAYAAAAcEfjaAAABV0lEQVRIx+2VsW7CQBBEDwTpIkXICMuyJdtfQsGXQUVFlSpVmjTESOn4BAoXLigsueAvaM2MBAht7g6v06ZYwNK8893ezGLatjV5ni9QO2PMC599ZdI0nWdZdgbQ4vsH0NgLQLSn+FZ4/gY0cgJBELxCdHiEUF+AhlaAH9jWG0SleNOnDbr/iON4AlEloA9AAyvAiqIogPAooHcnwIJghqrFmTZOgJUkSQRRI6C1E7huL8GbTmJ7Ky2w/PuWVIcOw3Daua2qi1NZQ20+i723XnurA/QQ0aJTRJ8J/oEuAFvNqcjWPwV4ibzM66Weeck+8YhTUNhm7xIPaUAhPtCoVjGtLdxbMgK/zsCwMDRi5YrhsnaJcRQrHzkNrW1l0MXKNQeCy95rsXLDUeNK3EqsfOIQ8/0DLVWAeku9Du1rK6ehE1BfnNoavcwn7L3tZO9eARIRLW4RvQA0+6DNwTHW6QAAAABJRU5ErkJggg==);background-repeat:no-repeat;height:20px;width:12px}.bCwlI.ENpXyb .vWtmKf{background-position:0 -26px;left:8px}.VdehBf.ENpXyb .PFY4o{background-position:0 0;right:8px}.bCwlI.ENpXyb{left:0}.VdehBf.ENpXyb{right:0}.bCwlI.ENpXyb{border-bottom-right-radius:36px;border-top-right-radius:36px;box-shadow:1px 0 2px rgba(0,0,0,.5)}.VdehBf.ENpXyb{border-bottom-left-radius:36px;border-top-left-radius:36px;box-shadow:-1px 0 2px rgba(0,0,0,.5)}.bCwlI.AoT6sc .vWtmKf{left:2px}.VdehBf.AoT6sc .PFY4o{right:2px}.bCwlI.AoT6sc{left:-32px;border:1px solid #f8f9fa;border-radius:2px 0 0 2px}.VdehBf.AoT6sc{right:-32px;border:1px solid #f8f9fa;border-radius:0 2px 2px 0}.wgbRNb.AoT6sc{background-image:linear-gradient(top,#f8f9fa,#f8f9fa);height:50px;width:30px}.wgbRNb.AoT6sc:hover{background-image:linear-gradient(top,#f8f9fa,#f8f9fa)}.wgbRNb.btpNFe:hover g-fab{color:#202124!important}.wgbRNb.btpNFe{height:36px;width:36px;opacity:.9}.wgbRNb.btpNFe:hover{opacity:1}.wgbRNb.btpNFe.pQXcHc,.wgbRNb.btpNFe.pQXcHc:hover{opacity:0}.bCwlI.btpNFe g-fab,.VdehBf.btpNFe g-fab{box-shadow:0 0 0 1px rgba(0,0,0,0.04),0 4px 8px 0 rgba(0,0,0,0.2);cursor:pointer;height:36px;width:36px}.bCwlI.btpNFe{left:-18px}.VdehBf.btpNFe{right:-18px}.wgbRNb.jSZMre:hover g-fab{color:#202124!important}.wgbRNb.jSZMre{height:32px;width:32px;opacity:.9;padding:8px}.wgbRNb.jSZMre:hover{opacity:1}.wgbRNb.jSZMre.pQXcHc,.wgbRNb.jSZMre.pQXcHc:hover{opacity:0}.bCwlI.jSZMre g-fab,.VdehBf.jSZMre g-fab{box-shadow:0 7px 15px rgba(0,0,0,0.2);cursor:pointer;height:32px;width:32px}.bCwlI.jSZMre{left:20px}.VdehBf.jSZMre{right:20px}.wgbRNb.SDHmKb:hover g-fab{color:#202124!important}.wgbRNb.SDHmKb{height:36px;width:36px;opacity:.9}.wgbRNb.SDHmKb:hover{opacity:1}.wgbRNb.SDHmKb.pQXcHc,.wgbRNb.SDHmKb.pQXcHc:hover{opacity:0}.bCwlI.SDHmKb g-fab,.VdehBf.SDHmKb g-fab{box-shadow:0 7px 15px rgba(0,0,0,0.2);cursor:pointer;height:36px;width:36px}.bCwlI.SDHmKb{left:0}.VdehBf.SDHmKb{right:0}.wgbRNb.vkcLib{height:40px;width:40px;opacity:0}.z1Mm0e:hover .wgbRNb.vkcLib,.z1Mm0e .wgbRNb.vkcLib:hover,.z1Mm0e .wgbRNb.vkcLib:focus-visible{opacity:1}.wgbRNb.vkcLib.pQXcHc,.wgbRNb.vkcLib.pQXcHc:hover{opacity:0}.bCwlI.vkcLib g-fab,.VdehBf.vkcLib g-fab{box-shadow:0 0 0 1px rgba(0,0,0,0.04),0 4px 8px 0 rgba(0,0,0,0.2);cursor:pointer;height:24px;width:24px;position:relative;top:8px;left:8px}.bCwlI.vkcLib{left:4px}.VdehBf.vkcLib{right:4px}.OvQkSb{border-radius:9999px}.S3PB2d{margin:auto}.sr9hec{display:block;position:relative;z-index:0}.sr9hec{cursor:pointer}.sr9hec{border:1px solid #dadce0}.sr9hec:focus{outline:none}.sr9hec .U8v51e{position:absolute;left:0;right:0;top:0;bottom:0;width:24px;height:24px}.a11Pr{width:56px;height:56px}.s3IB3{width:40px;height:40px}.MKCV1b{width:28px;height:28px}.sr9hec.MKCV1b .U8v51e{width:22px;height:22px}.OZQDWd{width:18px;height:18px}.sr9hec.OZQDWd .U8v51e{width:12px;height:12px}.e5KZJf{display:none;position:absolute;width:100%;height:100%;opacity:.1;left:0;top:0}.F4Hnue{border-radius:30px}.e5KZJf:active{animation-duration:.4s;animation-name:shift}@keyframes shift{25%{background:#1f1f1f}}.KLEmSd{border-bottom:1px solid #dadce0}.UjBGL{display:block;color:#1f1f1f}.CcNe6e{cursor:pointer;display:inline-block}.shnMoc.CcNe6e{display:block}.v4Zpbe.CcNe6e{display:flex;height:100%;width:100%}.pkWBse{box-shadow:0 2px 10px 0 rgba(0,0,0,0.2)}.pkWBse{border-radius:8px}.iRQHZe{position:absolute}.Qaqu5{position:relative}.PBn44e{border-radius:8px}.yKUyj .EpPYLd:first-of-type{border-top-left-radius:8px;border-top-right-radius:8px}.yKUyj .EpPYLd:last-of-type{border-bottom-left-radius:8px;border-bottom-right-radius:8px}.yTik0{border:none;display:block;outline:none}.wplJBd{white-space:nowrap}.iQXTJe{padding:5px 0}.JM22S::-webkit-scrollbar{width:8px}.JM22S::-webkit-scrollbar-thumb{background-color:#bababa;border-right:4px solid #fff}.MTIaKb,.LwDUdc,.FAoEle,.RlTCPd,.wPNfjb,.caNvfd,.Vnob4b,.bbxTBb,.DpgmK,.YKUhfb,.uNnvb,.aVsZpf,.RoOVmf,.dIfvQd,.V3Ezn,.Enb9pe,.mYuoaf,.kJSB8,.tUr4Kc,.iQMtqe{--Yi4Nb:var(--mXZkqc);--pEa0Bc:var(--bbQxAb);--kloG3:var(--mXZkqc);--YaIeMb:var(--XKMDxc);--Pa8Wlb:var(--Nsm0ce);--izGsqb:var(--Nsm0ce);--todMNcl:var(--EpFNW);--p9J9c:var(--Nsm0ce)}:root{--KIZPne:#a3c9ff;--xPpiM:#001d35;--Ehh4mf:var(--Nsm0ce)}:root{--Yi4Nb:#d2d2d2;--pEa0Bc:#474747;--kloG3:#d2d2d2;--YaIeMb:#f7f8f9;--Pa8Wlb:#0b57d0;--izGsqb:#0b57d0;--todMNcl:#fff;--p9J9c:#0b57d0}.Zt0a5e.LGiluc{border-top-color:var(--gS5jXb)}.Zt0a5e.LGiluc,.Zt0a5e.EpPYLd[disabled]{color:rgba(0,0,0,.26)!important}.CjiZvb,.GZnQqe.EpPYLd:active{background-color:rgba(0,0,0,.1)}.EpPYLd{display:block;position:relative}.YpcDnf{padding:0 16px;vertical-align:middle}.WtV5nd .YpcDnf{padding-left:28px}.EpPYLd:hover{cursor:pointer}.EpPYLd,.CB8nDe:hover{cursor:default}.LGiluc,.EpPYLd[disabled]{pointer-events:none;cursor:default}@media (forced-colors:active){.EpPYLd[disabled]{color:GrayText}}.LGiluc{border-top:1px solid;height:0;margin:5px 0}.Zt0a5e .YpcDnf{line-height:48px}.Zt0a5e.CB8nDe{background:no-repeat left 8px center}.Zt0a5e.CB8nDe{background-image:url(https://ssl.gstatic.com/images/icons/material/system/1x/done_black_16dp.png)}@media (forced-colors:active){.Zt0a5e.CB8nDe{background-image:url(https://ssl.gstatic.com/images/icons/material/system/1x/done_white_16dp.png)}}.GZnQqe .YpcDnf{line-height:23px}.GZnQqe.CB8nDe{background:no-repeat left center}.GZnQqe.CB8nDe{background-image:url(https://ssl.gstatic.com/ui/v1/menu/checkmark2.png)}@media (forced-colors:active){.GZnQqe.CB8nDe{background-image:url(https://ssl.gstatic.com/ui/v1/menu/checkmark2-light.png)}}.GZnQqe.LGiluc,.GZnQqe.EpPYLd[disabled]{opacity:61%}.GZnQqe.LGiluc{border-top-color:var(--gS5jXb)}.YpcDnf.HG1dvd{padding:0}.HG1dvd>*{padding:0 16px}.eCcUA,.cDnxO{pointer-events:none;position:absolute;top:0;left:0;width:100%;height:100%;border-radius:50%}.rLdWfe{position:absolute;border-radius:inherit;top:0;left:0;width:100%;height:100%}.MDfoTd,.hdqIFe{pointer-events:none;position:absolute;top:0;left:0;width:100%;height:100%}.MDfoTd,.cDnxO{opacity:0}.hdqIFe,.cDnxO{overflow:hidden}.bKvogb .MDfoTd,.bKvogb .hdqIFe{border-radius:50%}.bKvogb .eCcUA{overflow:hidden}.RiJqbb{font-family:Google Sans,Roboto,Arial,sans-serif;font-weight:500}.b7GjXe{flex:0 auto;display:flex;align-items:center;width:fit-content;padding:2px 8px;overflow:hidden;font-size:12px;line-height:16px;border-radius:9999px;background:rgba(0,0,0,0.6);color:#fff;letter-spacing:0.1px;pointer-events:none}@media (forced-colors:active){.b7GjXe{background:Canvas;outline:1px solid;outline-offset:-1px}}.b7GjXe span{overflow:hidden;white-space:nowrap;text-overflow:ellipsis}.b7GjXe.vtxgNc{padding:4px;flex-shrink:0}.b7GjXe div{flex:0 0 auto;display:flex;justify-content:center;align-items:center;width:12px;height:12px}.b7GjXe:not(.vtxgNc) div{-webkit-margin-end:4px;margin-inline-end:4px}.b7GjXe.CuEKaf{background:#d93025;color:#fff}.TUOsUe{text-align:left}.KUf18.ivkdbf{background-color:rgba(0,0,0,0.6);opacity:1;visibility:inherit}.VfsLpf.ivkdbf{background-color:#000;opacity:.4;visibility:inherit}.J3Hnlf.ivkdbf{background-color:#202124;opacity:.7;visibility:inherit}.X46m8.ivkdbf{background-color:#000;opacity:.8;visibility:inherit}.cBoDed.ivkdbf{background-color:#f8f9fa;opacity:.85;visibility:inherit}.kyk7qb.ivkdbf{background-color:#202124;opacity:.6;visibility:inherit}.qk7LXc.ivkdbf{opacity:1}.mcPPZ.ivkdbf{opacity:1;visibility:inherit}.mcPPZ.nP0TDe{cursor:pointer}.mcPPZ.nP0TDe .qk7LXc{cursor:default}.kJFf0c{position:fixed;z-index:9997;right:0;bottom:-200px;top:0;left:0;transition:opacity .25s;opacity:0;visibility:hidden}.qk7LXc{display:inline-block;z-index:9997;background-color:var(--xhUGwc);opacity:0;white-space:normal;overflow:hidden}.qk7LXc{border-radius:8px}.qk7LXc{box-shadow:0px 5px 26px 0px rgba(0,0,0,0.22),0px 20px 28px 0px rgba(0,0,0,0.3)}.qk7LXc.TSURG{border-bottom-left-radius:0;border-bottom-right-radius:0}.qk7LXc.DJEOfc{background-color:transparent}.qk7LXc.DJEOfc{box-shadow:none}.qk7LXc.Fb1AKc{position:relative;vertical-align:middle}.qk7LXc.By9mMc{position:fixed}.qk7LXc.W6Z5of{top:50%;left:50%;transform:translate(-50%,-50%)}.qk7LXc.ulWzbd{position:absolute}.qk7LXc.P1WYLb{border:1px solid var(--mXZkqc);box-shadow:#dadce0}.mcPPZ{position:fixed;right:0;bottom:0;top:0;left:0;z-index:9997;vertical-align:middle;visibility:hidden;white-space:nowrap;max-height:100%;max-width:100%;overflow-x:hidden;overflow-y:auto}.mcPPZ.xg7rAe{text-align:center}.mcPPZ::after{content:\"\";display:inline-block;height:100%;vertical-align:middle}.LjfRsf{height:0;opacity:0;position:absolute;width:0}.VH47ed{visibility:hidden}.TaoyYc{overflow:hidden}.TaoyYc{position:fixed;width:100%}.yMNJR .qk7LXc,.qk7LXc.yMNJR{max-width:100%}.cJFqsd .qk7LXc,.qk7LXc.cJFqsd{height:100%}.rfx2Y .qk7LXc,.qk7LXc.rfx2Y{width:100%}@media (min-height:576px){.uSolm .qk7LXc{height:100%}.mcPPZ.uSolm{padding:64px 0px}.qk7LXc.uSolm{height:calc(100% - 128px)}}@media (max-height:575px){.uSolm .qk7LXc,.qk7LXc.uSolm{height:100%;max-height:448px}}.BhUHze .qk7LXc,.qk7LXc.BhUHze{width:75%}@media (min-height:496px){.GeOznc .qk7LXc{height:100%}.mcPPZ.GeOznc{padding:24px 0px}.qk7LXc.GeOznc{height:calc(100% - 48px)}}@media (max-height:495px){.GeOznc .qk7LXc,.qk7LXc.GeOznc{height:100%;max-height:448px}}.dgVGnc .qk7LXc,.qk7LXc.dgVGnc{width:90%}.vAJJzd{position:absolute;z-index:9997;opacity:.999}.qk7LXc.aJPx6e{overflow:visible}.hObAcc{margin-left:4px;margin-right:4px}.r2fjmd{margin-bottom:0px;margin-top:0px}.gTewb{padding-left:8px;padding-right:8px}::view-transition-old(sb){height:100%}::view-transition-new(sb){height:100%}@keyframes sb-slide-down-fade-in{0%{transform:scale(.5) translateY(-50px);opacity:0}20%{opacity:0}100%{transform:scale(1) translateY(0);opacity:1}}@keyframes sb-slide-up-fade-out{0%{transform:scale(1) translateY(0);opacity:1}20%{opacity:0}100%{transform:scale(.5) translateY(-50px);opacity:0}}@keyframes ubi-fade-in{0%{transform:translateY(-20px);opacity:0}20%{opacity:0}100%{transform:translateY(0);opacity:1}}@keyframes ubi-fade-out{0%{transform:translateY(0);opacity:1}20%{opacity:0}100%{transform:translateY(-20px);opacity:0}}html:active-view-transition-type(sb)::view-transition-old(sb),html:active-view-transition-type(sb)::view-transition-new(sb){height:100%}html:active-view-transition-type(sb)::view-transition-old(sb):only-child{animation:sb-slide-up-fade-out .5s cubic-bezier(.38,.72,0,1)}html:active-view-transition-type(sb)::view-transition-new(sb):only-child{animation:sb-slide-down-fade-in .5s cubic-bezier(.38,.72,0,1)}html:active-view-transition-type(mb)::view-transition-old(mb),html:active-view-transition-type(mb)::view-transition-new(mb){background-color:var(--EpFNW);width:auto;animation-duration:.5s;animation-timing-function:cubic-bezier(.38,.72,0,1)}html:active-view-transition-type(mb)::view-transition-group(*){transform-origin:top left}html:active-view-transition-type(mb)::view-transition-old(ubi),html:active-view-transition-type(mb)::view-transition-new(ubi){width:100%;height:100%;animation-duration:.5s;animation-timing-function:cubic-bezier(.38,.72,0,1)}html:active-view-transition-type(mb)::view-transition-old(ubi):only-child{animation:ubi-fade-out .5s cubic-bezier(.38,.72,0,1)}html:active-view-transition-type(mb)::view-transition-new(ubi):only-child{animation:ubi-fade-in .5s cubic-bezier(.38,.72,0,1)}.v0rrvd{padding-bottom:16px}.GUHazd{padding-bottom:12px}.bvSTKc{padding:8px}.cB4NFc{padding-top:16px}.OdBhM{padding-top:8px}.wok5vf{padding:24px}.Wm2B8c{color:var(--YLNNHc);font-size:20px;font-weight:600;line-height:24px}.Wm2B8c.pe7eXb{font-family:Google Sans,Roboto,Arial,sans-serif;font-size:28px;font-weight:400}.Wm2B8c.UrmYj{padding-bottom:0}.xjR8dd.xjR8dd{cursor:pointer;height:24px;position:absolute;right:16px;top:8px;width:24px}.ji9Nfb{border-radius:2px;box-shadow:0px 5px 26px 0px rgba(0,0,0,0.22),0px 20px 28px 0px rgba(0,0,0,0.3);background-color:var(--xhUGwc);cursor:default;width:220px;z-index:1002}.ji9Nfb.mdTXvc{border-radius:25px;max-width:80%;width:600px}.Ixjegd{max-height:400px;overflow-y:scroll;padding-right:10px}.gLeVcb{font-family:Google Sans,Roboto,Arial,sans-serif;font-size:24px;font-weight:500;line-height:32px}.xlan3d{font-family:Google Sans,Roboto,Arial,sans-serif;font-size:18px;font-weight:400;white-space:pre-wrap}.Xcntib{border:2px solid var(--mXZkqc);border-radius:20px;margin-bottom:14px;margin-top:10px;padding:10px}@media (forced-colors:active){.ji9Nfb,.xjR8dd{border:1px solid var(--xhUGwc)}}.GmoL0c{margin-right:12px}.xTWltf{margin-right:24px}.Wt5Tfe{padding-left:0px;padding-right:0px}.eJtrMc{padding-bottom:8px;padding-top:8px}.fudVZb{display:inline-block;vertical-align:bottom}.ALMXvf{display:flex}.ALMXvf.yjaPCc{flex-direction:column}.ALMXvf.heW0Cf{flex-direction:row;gap:10px;margin-bottom:10px}.H3ZkHf.H3ZkHf{line-height:24px}.H3ZkHf{color:var(--YLNNHc);cursor:pointer;font-weight:normal}.QSaZCc{fill:var(--TMYS9);padding-right:8px}.LlXeJ{height:24px;width:24px;vertical-align:middle}.btku5b{display:inline-block;vertical-align:middle;cursor:pointer}.btku5b,.brKmxb:focus-visible{outline:0;-webkit-tap-highlight-color:transparent}.btku5b:focus-visible .kHtcsd,.brKmxb:focus-visible .kHtcsd{outline:2px solid var(--Pa8Wlb);outline-offset:2px}.niO4u{display:flex;justify-content:center;position:relative;align-items:stretch;width:100%}.niO4u::before{content:\"\";height:48px;left:0;margin-top:-24px;margin-left:-1px;margin-right:-1px;position:absolute;right:0;top:50%}.kHtcsd{display:flex;align-items:center;justify-content:center;width:100%}.d3o3Ad,.clOx1e{display:flex;align-items:center}.niO4u,.kHtcsd{border-radius:9999px}@media (forced-colors:active){.niO4u{outline:1px solid ButtonBorder;outline-offset:-1px}.btku5b.btku5b.btku5b[selected],.btku5b.btku5b.btku5b[selected] .d3o3Ad{color:SelectedItemText}.btku5b[selected] .clOx1e{forced-color-adjust:preserve-parent-color}.btku5b.btku5b[selected] .niO4u{background:SelectedItem}}.QuU3Wb{margin-top:6px}.pdJ1Ff{height:20px}.mh3zcf.mh3zcf.mh3zcf,.btku5b[selected] .KAe3ie{margin-left:0}.pdJ1Ff.pdJ1Ff.pdJ1Ff,.R04TOd.R04TOd.R04TOd{margin-left:12px;margin-right:4px}.VDgVie{text-align:center}.SlP8xc{text-transform:none}.LwdV0e.OJeuxf .niO4u{width:36px;height:36px}.gUAcff.OJeuxf .niO4u{width:32px;height:32px}.NQYJvc.OJeuxf .niO4u{width:44px;height:44px}.OJeuxf .niO4u{margin:0 auto}.OJeuxf .kHtcsd{height:100%}.gJdC8e.gJdC8e.gJdC8e{margin:0}.OJeuxf .niO4u::before{width:48px;margin-left:-24px;left:50%}.LwdV0e .clOx1e,.LwdV0e .d3o3Ad{margin:8px 16px}.btku5b.btku5b[disabled]{color:var(--pEa0Bc);opacity:.38}.btku5b.btku5b.btku5b.btku5b.btku5b.btku5b[disabled] .niO4u{outline-color:var(--kloG3);cursor:auto}.btku5b.btku5b.btku5b.btku5b.btku5b.btku5b[disabled] .kHtcsd{background:transparent}@media (forced-colors:active){.fCrZyc[disabled] .niO4u{outline-color:GrayText}.fCrZyc[disabled]{color:GrayText}}.sjVJQd{font-family:Google Sans,Roboto,Arial,sans-serif;font-size:14px;font-weight:400;line-height:20px}.ogBxF{color:var(--JKqx2)}.ogBxF .niO4u{background-color:transparent;outline:1px solid var(--mXZkqc);outline-offset:-1px}.ogBxF:hover .kHtcsd{background-color:#0b57d015}.brKmxb:active .ogBxF .kHtcsd,.ogBxF:active .kHtcsd{background-color:#0b57d039}.k1U36b{font-size:12px;font-family:Roboto,Arial,sans-serif;font-weight:500;line-height:16px}.gUAcff .clOx1e,.gUAcff .d3o3Ad{margin:8px 16px}.gUAcff .d3o3Ad{height:16px}.pAn7ne{white-space:nowrap;overflow:hidden;text-overflow:ellipsis}.NQYJvc .clOx1e,.NQYJvc .d3o3Ad{margin:12px 16px}.NQYJvc .d3o3Ad{height:20px}.FR7ZSc{color:var(--rrJJUc)}.FR7ZSc .niO4u{background-color:transparent;outline:1px solid var(--Yi4Nb);outline-offset:-1px}.expUPd{color:var(--todMNcl)}.expUPd .niO4u{background-color:var(--izGsqb)}.expUPd[disabled] .niO4u{background:var(--YaIeMb)}@media (prefers-contrast:more){.expUPd .niO4u{outline:1px solid #1f1f1f;outline-offset:-1px}}.zqrO0{color:var(--bbQxAb)}.zqrO0 .niO4u{background-color:var(--xhUGwc);outline:1px solid var(--mXZkqc);outline-offset:-1px}.xab99e .niO4u{z-index:2;background-color:var(--xhUGwc);outline:1px solid var(--mXZkqc)}.xab99e.xab99e.OJeuxf .niO4u{width:40px;height:40px}.xab99e:hover .kHtcsd{outline:0;outline-offset:-1px;box-shadow:0px 4px 12px rgba(60,64,67,0.24)}.NtaMpb{color:var(--bbQxAb)}.NtaMpb .niO4u{background-color:var(--xhUGwc)}.NtaMpb:hover .kHtcsd{background-color:#0b57d015}.brKmxb:focus-visible .NtaMpb .kHtcsd,.NtaMpb:focus-visible .kHtcsd{background-color:#0b57d015}.brKmxb:active .NtaMpb .kHtcsd,.NtaMpb:active .kHtcsd{background-color:#0b57d039}.Bmegof{color:#001d35}.Bmegof .niO4u{background-color:var(--BRLwE)}.r69FZ{color:#001d35}.r69FZ .niO4u{background-color:#ebf1ff}@media (prefers-contrast:more){.cD6kyf .niO4u{outline:1px solid #1f1f1f}}.rXoM2c{color:var(--IXoxUe)}.rXoM2c .niO4u{background-color:#f1f3f4}.jdOrZc{color:var(--rrJJUc)}.jdOrZc .niO4u{background-color:transparent}.x2GJWb,.x2GJWb .QuU3Wb{color:var(--YLNNHc)}.x2GJWb .niO4u{background-color:#f1f3f4}.x2GJWb:focus-visible .kHtcsd,.brKmxb:focus-visible .x2GJWb .kHtcsd{outline-color:var(--rrJJUc)}.x2GJWb:active .kHtcsd{background-color:rgba(32,33,36,0.24)}.x2GJWb:hover .kHtcsd{background-color:#0b57d015}.brKmxb:focus-visible .x2GJWb .kHtcsd,.x2GJWb:focus-visible .kHtcsd{background-color:#0b57d015}.brKmxb:active .x2GJWb .kHtcsd,.x2GJWb:active .kHtcsd{background-color:#0b57d039}.fXVarf{color:#fff}.fXVarf .niO4u{background-color:rgba(0,0,0,.6);backdrop-filter:blur(8px)}.fXVarf:hover .kHtcsd{background-color:#1f1f1f33}.brKmxb:active .fXVarf .kHtcsd,.fXVarf:active .kHtcsd{background-color:#1f1f1f66}.qVhvac[selected]{color:var(--xPpiM)}.qVhvac[selected] .niO4u{background-color:var(--KIZPne)}.qVhvac:hover .kHtcsd{background-color:rgba(31,31,31,.0784313725)}.qVhvac[selected]:hover .kHtcsd{background-color:rgba(11,87,208,.0784313725)}.qVhvac:active .kHtcsd{background-color:rgba(31,31,31,.2392156863)}.qVhvac[selected]:active .kHtcsd{background-color:rgba(11,87,208,.2392156863)}.W68A0[selected] .niO4u{outline:none}.sLl7de[selected] .niO4u{outline:none}.d2D5h[selected] .niO4u{background-color:var(--xhUGwc)}.d2D5h[selected]:hover{color:#1967d2}.d2D5h[selected]:hover .kHtcsd{background-color:rgba(26,115,232,.08)}.brKmxb:focus-visible .d2D5h[selected],.d2D5h[selected]:focus-visible{color:#1967d2}.btku5b:not([selected]) .R04TOd,.btku5b[selected] .BGVjpf{display:none}.clOx1e.clOx1e.aqBay{margin-right:4px}.WoA9Zd.WoA9Zd.WoA9Zd{margin-right:12px;margin-left:4px}.btku5b:not([aria-expanded=true]) .RwPSab,.btku5b[aria-haspopup=true][aria-expanded=true] .rDI98b{display:none}.fqiILb[selected]:not(:focus-visible) .kHtcsd,.brKmxb:not(:focus-visible) .fqiILb[selected] .kHtcsd{outline:1px solid var(--rrJJUc);outline-offset:0}.zJUuqf{margin-bottom:4px}.AB4Wff{margin-left:16px}.wHYlTd{font-family:Roboto,Arial,sans-serif;font-size:14px;line-height:22px}.yUTMj{font-family:Roboto,Arial,sans-serif;font-weight:400}@keyframes g-snackbar-show{from{pointer-events:none;transform:translateY(0)}to{transform:translateY(-100%)}}@keyframes g-snackbar-hide{from{transform:translateY(-100%)}to{transform:translateY(0)}}@keyframes g-snackbar-show-content{from{opacity:0}}@keyframes g-snackbar-hide-content{to{opacity:0}}.LH3wG,.jhZvod{bottom:0;height:0;position:fixed;z-index:999}.Ox8Cyd{height:0;position:fixed;z-index:999}.E7Hdgb{box-sizing:border-box;visibility:hidden;display:inline-block}.yK6jqe,.Wu0v9b{box-sizing:border-box;visibility:hidden}.rTYTNb{animation:g-snackbar-hide .4s cubic-bezier(0.4,0,0.2,1) both;visibility:inherit}.UewPMd{animation:g-snackbar-show .5s cubic-bezier(0.4,0,0.2,1) both;visibility:inherit}.b77HKf{background-color:#323232;padding:0 24px}.rIxsve{align-items:center;display:flex}.rTYTNb .rIxsve{animation:g-snackbar-hide-content .35s cubic-bezier(0.4,0,0.2,1) both}.UewPMd .rIxsve{animation:g-snackbar-show-content .35s cubic-bezier(0.4,0,0.2,1) .15s both}.Txngnb.Txngnb{line-height:20px}.Txngnb{color:#fff;flex:1 1 auto;margin:14px 0;word-break:break-word}.sHFNYd{margin-right:-8px}@media (min-width:569px) and (min-height:569px){.LH3wG,.jhZvod{text-align:center}.Wu0v9b,.yK6jqe{display:inline-block;max-width:568px;min-width:288px;text-align:left}.b77HKf{border-radius:8px}.sHFNYd{margin-left:40px}}.V9O1Yd .rIxsve{display:block;padding:8px 0}.V9O1Yd .sHFNYd{margin-left:0}.V9O1Yd .sHFNYd g-flat-button{padding-left:0}.jhZvod{left:16px;right:auto}.LH3wG,.Ox8Cyd{left:0;right:0}.yK6jqe,.Wu0v9b,.E7Hdgb{position:relative}.G9jore{position:absolute;top:-24px;bottom:-24px;left:-24px;right:-24px}.zUdppc{padding-bottom:4px}.n5Hqzc{cursor:pointer}.K4PHmc,.U3T04b input.U3T04b share-url-input{color:var(--COEmY);font-size:16px;line-height:18px;width:100%;cursor:pointer}.zs5EIc{border-bottom:1px solid #ebebeb;white-space:nowrap}.hEcKn,.U3T04b a.U3T04b share-url-anchor,.U3T04b a.U3T04b share-url-anchor:visited{color:var(--COEmY);font-size:16px;line-height:26px}.KZMqi{opacity:0;position:absolute}.KVCvbb .D5kRdd{top:4px}.mMB4wd .D5kRdd{top:0}.zu4nZc.KVCvbb .D5kRdd{top:10px}.tHaYSc .D5kRdd{top:8px}.zu4nZc.tHaYSc .D5kRdd{top:14px}.TkZZsf{padding-bottom:4px;padding-top:4px}.CdKv9{display:block;position:relative;margin:0 3px;vertical-align:middle}.baeIxf{border:none;box-shadow:none;color:var(--YLNNHc);font-size:16px;width:100%}.oWf3dc .baeIxf,.oWf3dc .D5kRdd{font-size:14px}.baeIxf:focus{outline:none}.oPHL4:not(.KIChyf) .WO1lOd,.CaMEAc:not(.KIChyf) .WO1lOd{border-color:#d93025}.jFKGGf.KIChyf .WO1lOd{border-bottom-style:dashed}.WO1lOd{display:table;width:100%}.icEKy .Wt5Tfe{padding-left:0px;padding-right:0px}.icEKy .TkZZsf{padding-bottom:4px;padding-top:4px}.icEKy .eJtrMc{padding-bottom:8px;padding-top:8px}.icEKy .OhScic{margin:0px}.s9cjxc{color:#b3261e;display:none;margin-top:4px}.oPHL4:not(.KIChyf) .s9cjxc,.CaMEAc:not(.KIChyf) .s9cjxc{display:block}.MdFDgb.HUQNIe{color:rgba(0,0,0,.26)}.CdKv9.oJaOuf{margin-top:14px}.CdKv9.b7fuzd{margin-top:0}.D5kRdd{left:0;right:0;font-size:16px;pointer-events:none;position:absolute;overflow:hidden;white-space:nowrap;transition-duration:.2s;transition-timing-function:cubic-bezier(.4,0,.2,1)}.MdFDgb.d53QNd{color:var(--IXoxUe)}.ZCGr5c .MdFDgb,.ZCGr5c .MdFDgb.HUQNIe,.ZCGr5c .MdFDgb.d53QNd{color:var(--Pa8Wlb)}.CdKv9.ZCGr5c .D5kRdd,.CdKv9.TJgfJ .D5kRdd{display:none}.CdKv9.ZCGr5c .D5kRdd.zLEPgb,.CdKv9.TJgfJ .D5kRdd.zLEPgb{font-size:12px;top:-16px;display:flex}.czUY2e{background-color:var(--Pa8Wlb)}.czUY2e{bottom:0;height:2px;left:45%;margin-top:-2px;pointer-events:none;position:relative;transition-duration:.2s;transition-timing-function:cubic-bezier(.4,0,.2,1);visibility:hidden;width:10px}.ZCGr5c .czUY2e{left:0;visibility:inherit;width:100%}.oPHL4 .czUY2e,.CaMEAc .czUY2e{background-color:#d93025}.jFKGGf .WO1lOd{border-bottom:1px solid var(--mXZkqc);border-radius:0}.zu4nZc .D5kRdd{left:8px;right:8px}.CdKv9.zu4nZc.ZCGr5c .zLEPgb,.CdKv9.zu4nZc.TJgfJ .zLEPgb{top:-8px}.zu4nZc.oPHL4:not(.ZCGr5c) .MdFDgb,.zu4nZc.CaMEAc:not(.ZCGr5c) .MdFDgb{color:#b3261e}.zu4nZc .WO1lOd{border-radius:6px;border:1px solid var(--mXZkqc);padding:5px 8px;box-sizing:border-box}.zu4nZc.ZCGr5c .WO1lOd{padding:4px 7px;border-width:2px}.zu4nZc.ZCGr5c:not(.kXKNac) .WO1lOd{border-color:var(--Pa8Wlb)}.hUhkLe,.UgQR0c{color:var(--IXoxUe);font-size:16px;white-space:nowrap;display:table-cell}.hUhkLe{padding-right:5px}.UgQR0c{padding-left:5px}.ek8SXd{vertical-align:middle}.WO1lOd .FFTibe{display:table-cell;width:100%}.oWf3dc .hUhkLe,.oWf3dc .UgQR0c{font-size:14px}.hUhkLe.AT2KAb,.UgQR0c.AT2KAb{transition-duration:.2s;transition-timing-function:cubic-bezier(.4,0,.2,1);display:inline-block;max-width:100%;visibility:hidden}.tv3VAe{display:flex}.MdFDgb{width:100%;white-space:nowrap}.CdKv9.ZCGr5c .AT2KAb,.CdKv9.TJgfJ .AT2KAb{max-width:0;padding:0}.kXKNac .WO1lOd{border-color:rgba(255,255,255,0.54)}.kXKNac.CaMEAc:not(.KIChyf) .WO1lOd,.kXKNac.oPHL4 .WO1lOd:not(.KIChyf){border-color:#fdd663}.kXKNac.ZCGr5c .MdFDgb,.kXKNac.ZCGr5c .MdFDgb.HUQNIe,.kXKNac.ZCGr5c .MdFDgb.d53QNd{color:var(--xhUGwc)}.kXKNac .MdFDgb.HUQNIe,.kXKNac .MdFDgb.d53QNd{color:rgba(255,255,255,0.54)}.kXKNac.zu4nZc.oPHL4:not(.ZCGr5c) .zLEPgb,.kXKNac.zu4nZc.CaMEAc:not(.ZCGr5c) .zLEPgb{color:#fdd663}.kXKNac .czUY2e{background:var(--xhUGwc)}.kXKNac.oPHL4 .czUY2e,.kXKNac.CaMEAc .czUY2e{background-color:#fdd663}.kXKNac .s9cjxc{color:#fdd663}.kXKNac .hUhkLe,.kXKNac .UgQR0c{color:rgba(255,255,255,0.54)}.CQC9Oe{--skw-color-primary:var(--aYn2S);--skw-color-on-primary:var(--bbQxAb);--skw-color-primary-container:var(--mXZkqc);--skw-color-on-primary-container:#a9acaa;--skw-color-secondary:var(--JKqx2);--skw-color-secondary-container:var(--BRLwE);--skw-color-on-secondary-container:var(--jINu6c);--skw-color-error-container:#f9dedc;--skw-color-on-error-container:#410e0b;--skw-color-surface:var(--xhUGwc);--skw-color-on-surface:var(--YLNNHc);--skw-color-on-surface-variant:var(--IXoxUe);--skw-color-outline:var(--mXZkqc);--skw-color-shadow:transparent;--skw-color-scrim:rgba(0,0,0,0.6);--skw-color-surface-container-low:var(--xhUGwc);--skw-color-surface-container:var(--XKMDxc);--skw-color-surface-container-high:var(--aYn2S);--skw-color-surface-container-highest:var(--Lm570b);--skw-color-outline-variant:#a9acaa;--skw-font:Google Sans,Roboto,Arial,sans-serif}.wb5ZZc{display:none}.jbBItf{display:block;position:relative}.DU0NJ{bottom:0;left:0;position:absolute;right:0;top:0}.lP3Jof{display:inline-block;position:relative}.nNMuOd{animation:qli-container-rotate 1568.2352941176ms linear infinite}@keyframes qli-container-rotate{from{transform:rotate(0)}to{transform:rotate(1turn)}}.RoKmhb{height:100%;opacity:0;position:absolute;width:100%}.nNMuOd .VQdeab{animation:qli-fill-unfill-rotate 5332ms cubic-bezier(0.4,0,0.2,1) infinite both,qli-blue-fade-in-out 5332ms cubic-bezier(0.4,0,0.2,1) infinite both}.nNMuOd .IEqiAf{animation:qli-fill-unfill-rotate 5332ms cubic-bezier(0.4,0,0.2,1) infinite both,qli-red-fade-in-out 5332ms cubic-bezier(0.4,0,0.2,1) infinite both}.nNMuOd .smocse{animation:qli-fill-unfill-rotate 5332ms cubic-bezier(0.4,0,0.2,1) infinite both,qli-yellow-fade-in-out 5332ms cubic-bezier(0.4,0,0.2,1) infinite both}.nNMuOd .FlKbCe{animation:qli-fill-unfill-rotate 5332ms cubic-bezier(0.4,0,0.2,1) infinite both,qli-green-fade-in-out 5332ms cubic-bezier(0.4,0,0.2,1) infinite both}.BSnLb .nNMuOd .RoKmhb{animation:qli-fill-unfill-rotate 5332ms cubic-bezier(0.4,0,0.2,1) infinite both;opacity:0.99}@keyframes qli-fill-unfill-rotate{0%{transform:rotate(0)}12.5%{transform:rotate(135deg)}25%{transform:rotate(270deg)}37.5%{transform:rotate(405deg)}50%{transform:rotate(540deg)}62.5%{transform:rotate(675deg)}75%{transform:rotate(810deg)}87.5%{transform:rotate(945deg)}100%{transform:rotate(3turn)}}@keyframes qli-blue-fade-in-out{0%{opacity:0.99}25%{opacity:0.99}26%{opacity:0}89%{opacity:0}90%{opacity:0.99}100%{opacity:0.99}}@keyframes qli-red-fade-in-out{0%{opacity:0}15%{opacity:0}25%{opacity:0.99}50%{opacity:0.99}51%{opacity:0}}@keyframes qli-yellow-fade-in-out{0%{opacity:0}40%{opacity:0}50%{opacity:0.99}75%{opacity:0.99}76%{opacity:0}}@keyframes qli-green-fade-in-out{0%{opacity:0}65%{opacity:0}75%{opacity:0.99}90%{opacity:0.99}100%{opacity:0}}.beDQP{display:inline-block;height:100%;overflow:hidden;position:relative;width:50%}.FcXfi{box-sizing:border-box;height:100%;left:45%;overflow:hidden;position:absolute;top:0;width:10%}.SPKFmc{border-radius:50%;border:3px solid transparent;box-sizing:border-box}@media (forced-colors:active),(prefers-contrast:more){.beDQP:last-child .SPKFmc{border:none}}.x3SdXd{width:200%}.J7uuUe{transform:rotate(129deg)}.sDPIC{left:-100%;transform:rotate(-129deg)}.tS3P5{left:-450%;width:1000%}.VQdeab .SPKFmc{border-color:#4285f4}.IEqiAf .SPKFmc{border-color:#ea4335}.smocse .SPKFmc{border-color:#fbbc04}.FlKbCe .SPKFmc{border-color:#34a853}.RoKmhb .J7uuUe{border-bottom-color:transparent;border-right-color:transparent}.RoKmhb .sDPIC{border-bottom-color:transparent;border-left-color:transparent}.RoKmhb .tS3P5{border-bottom-color:transparent}.GgTJWe .nNMuOd .J7uuUe{animation:qli-left-spin 1333ms cubic-bezier(0.4,0,0.2,1) infinite both}.GgTJWe .nNMuOd .sDPIC{animation:qli-right-spin 1333ms cubic-bezier(0.4,0,0.2,1) infinite both}.BSnLb .nNMuOd .J7uuUe{animation:qli-left-spin 1333ms cubic-bezier(0.4,0,0.2,1) infinite both;border-left-color:#fff;border-top-color:#fff}.BSnLb .nNMuOd .sDPIC{animation:qli-right-spin 1333ms cubic-bezier(0.4,0,0.2,1) infinite both;border-right-color:#fff;border-top-color:#fff}.BSnLb .nNMuOd .tS3P5{border-color:#fff;border-bottom-color:transparent}@keyframes qli-left-spin{0%{transform:rotate(130deg)}50%{transform:rotate(-5deg)}100%{transform:rotate(130deg)}}@keyframes qli-right-spin{0%{transform:rotate(-130deg)}50%{transform:rotate(5deg)}100%{transform:rotate(-130deg)}}g-img{display:block}g-img{height:100%}.YQ4gaf{display:block;border:0}.u9wH7d .YQ4gaf{object-fit:fill}.mNsIhb .YQ4gaf{object-fit:cover}.tb08Pd .YQ4gaf{object-fit:contain}.wA1Bge{position:relative}.hhtjrc{flex:none}.ZGomKf{overflow:hidden}.LLO8yd{background-color:rgba(0,0,0,0.03);position:absolute;top:0;bottom:0;pointer-events:none;left:0;right:0}.LqkKtf{align-items:center;display:none;height:100%;justify-content:center;left:0;opacity:.999;overflow:hidden;position:absolute;top:0;width:100%}.Iz740d.LqkKtf{border-radius:50%}.LqkKtf.DngrPc{left:50%;margin-left:-50vw;margin-right:-50vw;right:50%;width:100vw}.amp_re{position:relative}.JgzqYd{font-family:Google Sans,Roboto,Arial,sans-serif;font-size:28px;line-height:36px}.Pqkn2e{font-family:Roboto,Arial,sans-serif;font-size:16px;line-height:24px}.ZwRhJd{font-family:Roboto,Arial,sans-serif;font-size:14px;line-height:18px}.MBeuO{font-family:Roboto,Arial,sans-serif;font-size:20px;font-weight:400}.MBeuO{line-height:24px}.RES9jf{color:var(--YLNNHc)}.ZYHQ7e{color:var(--IXoxUe)}.GS5rRd{color:var(--JKqx2)}.GS5rRd:visited{color:#681da8}.iwY1Mb{height:0;width:0;opacity:0;display:block}.V8fWH{border:0;clip:rect(0 0 0 0);clip-path:polygon(0 0,0 0,0 0);height:1px;margin:-1px;overflow:hidden;padding:0;position:absolute;width:1px;white-space:nowrap;-webkit-appearance:none;appearance:none;z-index:-1000;user-select:none}.gW7zSc{display:block}.r8qWG,.JGD2rd,.aAJbCe{display:-webkit-box;overflow:hidden;text-overflow:ellipsis;white-space:normal!important;-webkit-box-orient:vertical}@media (max-width:360px){.JGD2rd,.aAJbCe{word-break:break-word!important}.JGD2rd{-webkit-line-clamp:3!important}.aAJbCe{-webkit-line-clamp:5!important}}.JGD2rd.NccSHc,.aAJbCe.NccSHc{word-break:break-word!important}.JGD2rd.NccSHc{-webkit-line-clamp:3!important}.aAJbCe.NccSHc{-webkit-line-clamp:5!important}.CqmPRe:active .aVlTpc span{animation-timing-function:cubic-bezier(.2,.2,0,1);animation-duration:.5s}@keyframes shape-tween-right{50%{transform:scaleY(.9) translateX(8%)}100%{transform:none}}@keyframes shape-tween-left{50%{transform:scaleY(.9) translateX(-8%)}100%{transform:none}}.CqmPRe:active .KArJuc span{animation-name:shape-tween-right}.CqmPRe:active .YbCrzd span{animation-name:shape-tween-left}@keyframes shape-tween-up{50%{transform:scaleX(.9) translateY(-8%)}100%{transform:none}}.CqmPRe:active .oXqZxc span{animation-name:shape-tween-up}@keyframes shape-tween-down{50%{transform:scaleX(.9) translateY(8%)}100%{transform:none}}.CqmPRe:active .TD5FQe span{animation-name:shape-tween-down}.Aajd3{padding-left:16px}.U09Jxd{padding-right:4px}.gxMdVd{padding-right:8px}.QyJI3d{background-color:var(--xhUGwc);color:#666;box-shadow:0 4px 16px rgba(0,0,0,0.2)}.oQcPt{background-color:var(--xhUGwc)}.QyJI3d{border:1px solid rgba(0,0,0,.2);position:absolute;z-index:9120}.nFdFHf{animation:g-bubble-show .2s forwards}.bE3Kif{animation:g-bubble-hide .2s forwards}@keyframes g-bubble-show{from{opacity:0}to{opacity:1}}@keyframes g-bubble-hide{from{opacity:1}to{opacity:0}}.QyJI3d.QJnoze{border-radius:12px}.QyJI3d.SiOjJb{border-left-width:0;border-right-width:0;width:100%}.QyJI3d.PnQMie{background-color:#202124;border:1px solid rgba(0,0,0,.5);color:#dadce0}.QyJI3d.LWen5c{background-color:#1a73e8;border:none;color:#fff;z-index:9100}.tYmfxe{transform:translate(2.5px,1.8px) rotateZ(45deg);position:absolute;z-index:9121}[dir=rtl] .tYmfxe{transform:translate(-2.5px,1.8px) rotateZ(45deg)}.IBPZu.tYmfxe{transform:translate(2.5px,-5.7px) rotateZ(45deg)}[dir=rtl] .IBPZu.tYmfxe{transform:translate(-2.5px,-5.7px) rotateZ(45deg)}.oQcPt{border-bottom:none;border-left:1px solid rgba(0,0,0,.2);border-right:none;border-top:1px solid rgba(0,0,0,.2);box-sizing:border-box;height:13.435px;width:13.435px}.IBPZu .oQcPt{border-bottom:1px solid rgba(0,0,0,.2);border-left:none;border-right:1px solid rgba(0,0,0,.2);border-top:none}.PnQMie .oQcPt{background-color:#202124;border-color:rgba(0,0,0,.5)}.LWen5c .oQcPt{background-color:#1a73e8;border:none}.nnFGuf{display:none}.c5aZPb{cursor:pointer}.Dcltre{pointer-events:none}.TYQ8Af{clip:rect(1px,1px,1px,1px);height:1px;overflow:hidden;position:absolute;white-space:nowrap;width:1px;z-index:-1000;top:3px;right:3px}.mWcf0e{cursor:pointer}@media (forced-colors:active){.CNbPnc{background-color:ButtonFace;border:1px solid transparent;border-color:ButtonBorder;color:ButtonText}}.VfL2Y{position:relative;}.YQpX9d{cursor:pointer;position:relative;}.LRZwuc{display:inline-block}.BJ1Ird .LRZwuc{display:block}.nKHyTc{color:var(--IXoxUe);float:right;font-size:12px;line-height:16px;padding-bottom:4px}.eDGqNd{color:var(--IXoxUe);float:right;font-size:12px;line-height:16px}.k62gjb:hover,.k62gjb .W7GCoc:hover,.BJ1Ird{text-decoration:underline}g-dropdown-menu{display:inline-block;position:relative}.Jb0Zif g-dropdown-menu{vertical-align:middle}.WNN1b{background-color:var(--xhUGwc)}.adGN6[disabled]{pointer-events:none;cursor:default;background-color:var(--YaIeMb)}.W4XqN{cursor:pointer;background-color:var(--xhUGwc)}.GKXWV{border-top:var(--mXZkqc);height:0;margin-left:5px;margin-right:5px}.eNRwyf{height:100%;width:100%}.LwVyHd{transition:max-height .3s;overflow:hidden}.Yh3tf{pointer-events:none;position:absolute!important;right:0;color:var(--IXoxUe);top:50%;margin-top:-12px;display:flex;align-items:center}.FXMOpb .Yh3tf{margin-top:-14px}.FXMOpb .MLgx0e{transform:rotateX(180deg)}.ydSoC{padding-left:8px}.kGfs{position:relative}.Yh3tf.chvYFc{background:var(--XKMDxc);border-radius:25px;margin-top:-18px;padding:6px}.V1sL5c{overflow:visible}.S8PBwe{max-height:0;display:none}.SpKsUc{margin:0 -10px;padding:0 10px}.thsZXc{background:#1a73e8}.hiQRQc{background:#e8eaed}.Bb1JKe{padding-bottom:8px}.ouy7Mc{padding-left:16px;padding-right:16px}.M8CEed{padding-top:12px}.z1asCe{display:inline-block;fill:currentColor;height:24px;line-height:24px;position:relative;width:24px}.z1asCe svg{display:block;height:100%;width:100%}\n",
            "  </style>\n",
            " </head>\n",
            " <body jsmodel=\"hspDDf \">\n",
            "  <div id=\"ZnpjSd\">\n",
            "  </div>\n",
            "  <style>\n",
            "   .L3eUgb{display:flex;flex-direction:column;height:100%}.o3j99{flex-shrink:0;box-sizing:border-box}.n1xJcf{height:60px}.LLD4me{min-height:150px;height:calc(100% - 560px);max-height:290px}.yr19Zb{min-height:92px}.mwht9d{display:none}.ADHj4e{padding-top:0px;padding-bottom:85px}.oWyZre{width:100%;height:500px;border-width:0}.qarstb{flex-grow:1}\n",
            "  </style>\n",
            "  <div class=\"L3eUgb\" data-hveid=\"1\">\n",
            "   <style>\n",
            "    .bNg8Rb{clip:rect(1px,1px,1px,1px);height:1px;overflow:hidden;position:absolute;white-space:nowrap;width:1px;user-select:none;-webkit-user-select:none;-moz-user-select:none;-ms-user-select:none}\n",
            "   </style>\n",
            "   <div id=\"ZnpjSd\">\n",
            "   </div>\n",
            "   <div class=\"o3j99 n1xJcf Ne6nSd\" role=\"navigation\">\n",
            "    <style>\n",
            "     .Ne6nSd{display:flex;align-items:center;padding:6px}a.MV3Tnb{display:inline-block;padding:5px;margin:0 5px;color:var(--YLNNHc)}a.MV3Tnb:first-of-type{margin-left:15px}.LX3sZb{display:inline-block;flex-grow:1}\n",
            "    </style>\n",
            "    <a class=\"MV3Tnb\" href=\"https://about.google/?fg=1&amp;utm_source=google-US&amp;utm_medium=referral&amp;utm_campaign=hp-header\" ping=\"/url?sa=t&amp;rct=j&amp;source=webhp&amp;url=https://about.google/%3Ffg%3D1%26utm_source%3Dgoogle-US%26utm_medium%3Dreferral%26utm_campaign%3Dhp-header&amp;ved=0ahUKEwjTw8-UgPuOAxXPETQIHa1WOn4QkNQCCAI&amp;opi=89978449\">\n",
            "     About\n",
            "    </a>\n",
            "    <a class=\"MV3Tnb\" href=\"https://store.google.com/US?utm_source=hp_header&amp;utm_medium=google_ooo&amp;utm_campaign=GS100042&amp;hl=en-US\" ping=\"/url?sa=t&amp;rct=j&amp;source=webhp&amp;url=https://store.google.com/US%3Futm_source%3Dhp_header%26utm_medium%3Dgoogle_ooo%26utm_campaign%3DGS100042%26hl%3Den-US&amp;ved=0ahUKEwjTw8-UgPuOAxXPETQIHa1WOn4QpMwCCAM&amp;opi=89978449\">\n",
            "     Store\n",
            "    </a>\n",
            "    <div class=\"LX3sZb\">\n",
            "     <div>\n",
            "      <header class=\"gb_y gb_Kd\" id=\"gb\" role=\"none\">\n",
            "       <div class=\"gb_M gb_0 gb_Pf gb_Wf\" data-ogbl=\"\">\n",
            "        <div class=\"gb_Z gb_0\">\n",
            "         <a aria-label=\"Gmail \" class=\"gb_X\" data-pid=\"23\" href=\"https://mail.google.com/mail/&amp;ogbl\" target=\"_top\">\n",
            "          Gmail\n",
            "         </a>\n",
            "        </div>\n",
            "        <div class=\"gb_Z gb_0\">\n",
            "         <a aria-label=\"Search for Images \" class=\"gb_X\" data-pid=\"2\" href=\"https://www.google.com/imghp?hl=en&amp;ogbl\" target=\"_top\">\n",
            "          Images\n",
            "         </a>\n",
            "        </div>\n",
            "       </div>\n",
            "       <div class=\"gb_J gb_dd gb_0\" data-ogsr-alt=\"\" data-ogsr-fb=\"true\" id=\"gbwa\">\n",
            "        <div class=\"gb_D\">\n",
            "         <a aria-expanded=\"false\" aria-label=\"Google apps\" class=\"gb_B\" href=\"https://www.google.com/intl/en/about/products\" role=\"button\" tabindex=\"0\">\n",
            "          <svg class=\"gb_F\" focusable=\"false\" viewbox=\"0 0 24 24\">\n",
            "           <path d=\"M6,8c1.1,0 2,-0.9 2,-2s-0.9,-2 -2,-2 -2,0.9 -2,2 0.9,2 2,2zM12,20c1.1,0 2,-0.9 2,-2s-0.9,-2 -2,-2 -2,0.9 -2,2 0.9,2 2,2zM6,20c1.1,0 2,-0.9 2,-2s-0.9,-2 -2,-2 -2,0.9 -2,2 0.9,2 2,2zM6,14c1.1,0 2,-0.9 2,-2s-0.9,-2 -2,-2 -2,0.9 -2,2 0.9,2 2,2zM12,14c1.1,0 2,-0.9 2,-2s-0.9,-2 -2,-2 -2,0.9 -2,2 0.9,2 2,2zM16,6c0,1.1 0.9,2 2,2s2,-0.9 2,-2 -0.9,-2 -2,-2 -2,0.9 -2,2zM12,8c1.1,0 2,-0.9 2,-2s-0.9,-2 -2,-2 -2,0.9 -2,2 0.9,2 2,2zM18,14c1.1,0 2,-0.9 2,-2s-0.9,-2 -2,-2 -2,0.9 -2,2 0.9,2 2,2zM18,20c1.1,0 2,-0.9 2,-2s-0.9,-2 -2,-2 -2,0.9 -2,2 0.9,2 2,2z\">\n",
            "           </path>\n",
            "           <image alt=\"\" height=\"24\" src=\"https://ssl.gstatic.com/gb/images/bar/al-icon.png\" style=\"border:none;display:none \\9\" width=\"24\"/>\n",
            "          </svg>\n",
            "         </a>\n",
            "        </div>\n",
            "       </div>\n",
            "       <div class=\"gb_z\" data-ogsr-up=\"\">\n",
            "        <a aria-label=\"Sign in\" class=\"gb_A\" href=\"https://accounts.google.com/ServiceLogin?hl=en&amp;passive=true&amp;continue=https://www.google.com/&amp;ec=futura_exp_og_so_72776762_e\" target=\"_top\">\n",
            "         <span class=\"gb_T\">\n",
            "          Sign in\n",
            "         </span>\n",
            "        </a>\n",
            "       </div>\n",
            "      </header>\n",
            "     </div>\n",
            "    </div>\n",
            "   </div>\n",
            "   <div class=\"o3j99 LLD4me yr19Zb LS8OJ\">\n",
            "    <style>\n",
            "     .LS8OJ{display:flex;flex-direction:column;align-items:center}.k1zIA{height:100%;margin-top:auto}\n",
            "    </style>\n",
            "    <div class=\"k1zIA rSk4se\">\n",
            "     <style>\n",
            "      .rSk4se{max-height:92px;position:relative}.lnXdpd{max-height:100%;max-width:100%;object-fit:contain;object-position:center bottom;width:auto}\n",
            "     </style>\n",
            "     <svg class=\"lnXdpd\" height=\"92\" viewbox=\"0 0 272 92\" width=\"272\" xmlns=\"http://www.w3.org/2000/svg\">\n",
            "      <path d=\"M115.75 47.18c0 12.77-9.99 22.18-22.25 22.18s-22.25-9.41-22.25-22.18C71.25 34.32 81.24 25 93.5 25s22.25 9.32 22.25 22.18zm-9.74 0c0-7.98-5.79-13.44-12.51-13.44S80.99 39.2 80.99 47.18c0 7.9 5.79 13.44 12.51 13.44s12.51-5.55 12.51-13.44z\" fill=\"#EA4335\">\n",
            "      </path>\n",
            "      <path d=\"M163.75 47.18c0 12.77-9.99 22.18-22.25 22.18s-22.25-9.41-22.25-22.18c0-12.85 9.99-22.18 22.25-22.18s22.25 9.32 22.25 22.18zm-9.74 0c0-7.98-5.79-13.44-12.51-13.44s-12.51 5.46-12.51 13.44c0 7.9 5.79 13.44 12.51 13.44s12.51-5.55 12.51-13.44z\" fill=\"#FBBC05\">\n",
            "      </path>\n",
            "      <path d=\"M209.75 26.34v39.82c0 16.38-9.66 23.07-21.08 23.07-10.75 0-17.22-7.19-19.66-13.07l8.48-3.53c1.51 3.61 5.21 7.87 11.17 7.87 7.31 0 11.84-4.51 11.84-13v-3.19h-.34c-2.18 2.69-6.38 5.04-11.68 5.04-11.09 0-21.25-9.66-21.25-22.09 0-12.52 10.16-22.26 21.25-22.26 5.29 0 9.49 2.35 11.68 4.96h.34v-3.61h9.25zm-8.56 20.92c0-7.81-5.21-13.52-11.84-13.52-6.72 0-12.35 5.71-12.35 13.52 0 7.73 5.63 13.36 12.35 13.36 6.63 0 11.84-5.63 11.84-13.36z\" fill=\"#4285F4\">\n",
            "      </path>\n",
            "      <path d=\"M225 3v65h-9.5V3h9.5z\" fill=\"#34A853\">\n",
            "      </path>\n",
            "      <path d=\"M262.02 54.48l7.56 5.04c-2.44 3.61-8.32 9.83-18.48 9.83-12.6 0-22.01-9.74-22.01-22.18 0-13.19 9.49-22.18 20.92-22.18 11.51 0 17.14 9.16 18.98 14.11l1.01 2.52-29.65 12.28c2.27 4.45 5.8 6.72 10.75 6.72 4.96 0 8.4-2.44 10.92-6.14zm-23.27-7.98l19.82-8.23c-1.09-2.77-4.37-4.7-8.23-4.7-4.95 0-11.84 4.37-11.59 12.93z\" fill=\"#EA4335\">\n",
            "      </path>\n",
            "      <path d=\"M35.29 41.41V32H67c.31 1.64.47 3.58.47 5.68 0 7.06-1.93 15.79-8.15 22.01-6.05 6.3-13.78 9.66-24.02 9.66C16.32 69.35.36 53.89.36 34.91.36 15.93 16.32.47 35.3.47c10.5 0 17.98 4.12 23.6 9.49l-6.64 6.64c-4.03-3.78-9.49-6.72-16.97-6.72-13.86 0-24.7 11.17-24.7 25.03 0 13.86 10.84 25.03 24.7 25.03 8.99 0 14.11-3.61 17.39-6.89 2.66-2.66 4.41-6.46 5.1-11.65l-22.49.01z\" fill=\"#4285F4\">\n",
            "      </path>\n",
            "     </svg>\n",
            "    </div>\n",
            "   </div>\n",
            "   <div class=\"o3j99 ikrT4e om7nvf\">\n",
            "    <style>\n",
            "     .om7nvf{padding:20px}\n",
            "    </style>\n",
            "    <dialog class=\"spch-dlg\" id=\"spch-dlg\">\n",
            "     <div class=\"spch\" id=\"spch\" style=\"display:none\">\n",
            "     </div>\n",
            "    </dialog>\n",
            "    <form action=\"/search\" autocomplete=\"off\" method=\"GET\" role=\"search\">\n",
            "     <div jsdata=\"MuIEvd;_;4tCVaNPKHc-j0PEPra3p8Qc1\" jsmodel=\"b5W85 vNzKHd\">\n",
            "      <div class=\"A8SBwf\" data-alt=\"false\" data-biboe=\"false\" data-hp=\"true\" jsaction=\"lX6RWd:w3Wsmc;aaFXSd:k0wtTd;ocDSvd:duwfG;XmGRxb:mVw6nb;R6Slyc:F3goue;DkpM0b:d3sQLd;IQOavd:dFyQEf;XzZZPe:jI3wzf;Aghsf:AVsnlb;iHd9U:Q7Cnrc;f5hEHe:G0jgYd;vmxUb:j3bJnb;XBqW7:ihYaWc;UkQk6c:VSb4De;nTzfpf:YPRawb;R2c5O:LuRugf;qiCkJd:ANdidc;Q3vWPd:FtWxqb;NOg9L:HLgh3;uGoIkd:epUokb;zLdLw:eaGBS;H9muVd:J4e6lb;djyPCf:nMeUJf;hBEIVb:nUZ9le;rcuQ6b:npT2md;focusout:BQjFcd\" jscontroller=\"cnjECf\" jsdata=\"LVplcb;_;\" jsmodel=\"kjkykd EPRt9d LM7wx Qlyryb EtCx8b Ip3Erc L97mud         \">\n",
            "       <style>\n",
            "        .A8SBwf{margin:0 auto;max-width:688px;padding-top:6px;position:relative}.RNNXgb{display:flex;z-index:3;position:relative;min-height:50px;background:#fff;border:1px solid #dadce0;box-shadow:0px 3px 10px 0px rgba(31, 31, 31, 0.08);border-radius:26px;margin:0 auto;}.emcav .RNNXgb,.BgPPrc .RNNXgb{border-bottom-left-radius:0;border-bottom-right-radius:0;box-shadow:0 2px 8px 1px rgba(64,60,67,.24);border-color:transparent;background:#fff;box-shadow:0 2px 8px 1px rgba(64,60,67,.24);}.emcav.emcat .RNNXgb{border-bottom-left-radius:26px;border-bottom-right-radius:26px;}.RNNXgb:hover,.sbfc .RNNXgb{background:#fff;box-shadow:0 2px 8px 1px rgba(64,60,67,.24);}.emcav .RNNXgb:hover,.sbfc.emcav .RNNXgb,.BgPPrc .RNNXgb:hover{background:#fff;box-shadow:0 2px 8px 1px rgba(64,60,67,.24);border-color:transparent}.SDkEP{flex:1;display:flex;background:inherit;border-radius:inherit;overflow:hidden;padding:0 8px 0 0;}.FPdoLc{padding-top:18px}.emcav.A8SBwf.pD4qTd{z-index:989;}.iblpc{display:flex;align-items:center;padding-right:13px;padding-left:14px;margin-top:0;height:50px;}.M8H8pb{position:absolute;top:0;left:0;right:0;padding:inherit;width:inherit}\n",
            "       </style>\n",
            "       <div class=\"RNNXgb\" data-ved=\"0ahUKEwjTw8-UgPuOAxXPETQIHa1WOn4Q3tUDCAQ\" jsname=\"RNNXgb\">\n",
            "        <div class=\"SDkEP\">\n",
            "         <div class=\"iblpc\" jsname=\"uFMOof\">\n",
            "          <style>\n",
            "           .hvhmMe{margin:auto}.Ty0Rrc{margin-top:3px;color:#9aa0a6}\n",
            "          </style>\n",
            "          <div class=\"hvhmMe\">\n",
            "           <span class=\"Ty0Rrc z1asCe MZy1Rb\" style=\"height:20px;line-height:20px;width:20px\">\n",
            "            <svg focusable=\"false\" viewbox=\"0 0 24 24\" xmlns=\"http://www.w3.org/2000/svg\">\n",
            "             <path d=\"M15.5 14h-.79l-.28-.27A6.471 6.471 0 0 0 16 9.5 6.5 6.5 0 1 0 9.5 16c1.61 0 3.09-.59 4.23-1.57l.27.28v.79l5 4.99L20.49 19l-4.99-5zm-6 0C7.01 14 5 11.99 5 9.5S7.01 5 9.5 5 14 7.01 14 9.5 11.99 14 9.5 14z\">\n",
            "             </path>\n",
            "            </svg>\n",
            "           </span>\n",
            "          </div>\n",
            "         </div>\n",
            "         <div class=\"a4bIc\" data-hpmde=\"false\" data-mnr=\"20\" jsaction=\"KjsqPd;input:Lg5SV;blur:fpfTEe;paste:V64iSc\" jscontroller=\"vZr2rb\" jsname=\"gLFyf\">\n",
            "          <style>\n",
            "           .gLFyf,.Rd7rGe,.YacQv{line-height:40px;font-size:16px;flex:100%;}textarea.gLFyf,.Rd7rGe,.YacQv{font-family:Google Sans,Roboto,Arial,sans-serif;line-height:22px;border-bottom:8px solid transparent;padding-top:14px;overflow-x:hidden}.emcav textarea.gLFyf,.emcav .Rd7rGe,.emcav .YacQv{font-family:Google Sans,Roboto,Arial,sans-serif}.sbfc textarea.gLFyf{white-space:pre-line;overflow-y:auto}.gLFyf{width:100%;resize:none;background-color:transparent;border:none;margin:0;padding:0;color:rgba(0,0,0,.87);word-wrap:break-word;outline:none;display:flex;-webkit-tap-highlight-color:transparent}.a4bIc{display:flex;flex-wrap:wrap;flex:1}.Rd7rGe,.YacQv{color:transparent;white-space:pre;position:absolute;pointer-events:none}.YacQv span{text-decoration:#b3261e dotted underline}.gLFyf::placeholder{color:var(--IXoxUe)}\n",
            "          </style>\n",
            "          <div class=\"YacQv\" jsname=\"vdLsw\">\n",
            "          </div>\n",
            "          <textarea aria-autocomplete=\"both\" aria-controls=\"Alh6id\" aria-expanded=\"false\" aria-haspopup=\"false\" aria-label=\"Search\" aria-owns=\"Alh6id\" autocapitalize=\"off\" autocomplete=\"off\" autocorrect=\"off\" autofocus=\"\" class=\"gLFyf\" data-ved=\"0ahUKEwjTw8-UgPuOAxXPETQIHa1WOn4Q39UDCAU\" id=\"APjFqb\" jsname=\"yZiJbe\" maxlength=\"2048\" name=\"q\" placeholder=\"\" role=\"combobox\" rows=\"1\" spellcheck=\"false\" title=\"Search\" value=\"\"></textarea>\n",
            "         </div>\n",
            "         <div class=\"fM33ce dRYYxd\">\n",
            "          <style>\n",
            "           .dRYYxd{display:flex;flex:0 0 auto;align-items:stretch;flex-direction:row;height:50px;background:inherit;}.WC2Die{background-color:inherit;display:flex}\n",
            "          </style>\n",
            "          <style>\n",
            "           .BKRPef{background:transparent;align-items:center;flex:1 0 auto;flex-direction:row;display:flex;cursor:pointer}.vOY7J{background:transparent;border:0;align-items:center;flex:1 0 auto;cursor:pointer;display:none;height:100%;line-height:44px;outline:none;padding:0 12px;}.M2vV3{display:flex}.ExCKkf{height:100%;color:var(--bbQxAb);vertical-align:middle;outline:none;}\n",
            "          </style>\n",
            "          <style>\n",
            "           .BKRPef{padding-right:4px}.ACRAdd{border-left:1px solid #dadce0;height:65%}.ACRAdd{display:none}.ACRAdd.M2vV3{display:block}\n",
            "          </style>\n",
            "          <div class=\"BKRPef\" jscontroller=\"PymCCe\" jsname=\"RP0xob\">\n",
            "           <div aria-label=\" Clear\" class=\"vOY7J\" data-ved=\"0ahUKEwjTw8-UgPuOAxXPETQIHa1WOn4Q05YFCAY\" jsaction=\"AVsnlb;rcuQ6b:npT2md\" jsname=\"pkjasb\" role=\"button\" tabindex=\"0\">\n",
            "            <span class=\"ExCKkf z1asCe rzyADb\" jsname=\"itVqKe\">\n",
            "             <svg focusable=\"false\" viewbox=\"0 0 24 24\" xmlns=\"http://www.w3.org/2000/svg\">\n",
            "              <path d=\"M19 6.41L17.59 5 12 10.59 6.41 5 5 6.41 10.59 12 5 17.59 6.41 19 12 13.41 17.59 19 19 17.59 13.41 12z\">\n",
            "              </path>\n",
            "             </svg>\n",
            "            </span>\n",
            "           </div>\n",
            "           <span class=\"ACRAdd\" jsname=\"s1VaRe\">\n",
            "           </span>\n",
            "          </div>\n",
            "          <div class=\"WC2Die\" jsname=\"UdfVXc\">\n",
            "           <style>\n",
            "            .XDyW0e{flex:1 0 auto;display:flex;cursor:pointer;align-items:center;border:0;background:transparent;outline:none;padding:0 8px;width:24px;line-height:44px;}.goxjub{height:24px;width:24px;vertical-align:middle;}\n",
            "           </style>\n",
            "           <div aria-label=\"Search by voice\" class=\"XDyW0e\" data-ved=\"0ahUKEwjTw8-UgPuOAxXPETQIHa1WOn4Qvs8DCAc\" jsaction=\"h5M12e;rcuQ6b:npT2md\" jscontroller=\"unV4T\" jsname=\"F7uqIe\" role=\"button\" tabindex=\"0\">\n",
            "            <svg class=\"goxjub\" focusable=\"false\" viewbox=\"0 -960 960 960\" xmlns=\"http://www.w3.org/2000/svg\">\n",
            "             <path d=\"M480-400q-50 0-85-35t-35-85v-240q0-50 35-85t85-35q50 0 85 35t35 85v240q0 50-35 85t-85 35Zm-40 280v-123q-104-14-172-93t-68-184h80q0 83 58.5 141.5T480-320q83 0 141.5-58.5T680-520h80q0 105-68 184t-172 93v123h-80Z\" fill=\"var(--bbQxAb)\">\n",
            "             </path>\n",
            "            </svg>\n",
            "           </div>\n",
            "           <style>\n",
            "            .nDcEnd{flex:1 0 auto;display:flex;cursor:pointer;align-items:center;border:0;background:transparent;outline:none;padding:0 8px;width:24px;line-height:44px;}.Gdd5U{height:24px;width:24px;vertical-align:middle;}\n",
            "           </style>\n",
            "           <div aria-label=\"Search by image\" class=\"nDcEnd\" data-base-lens-url=\"https://lens.google.com\" data-is-images-mode=\"false\" data-propagated-experiment-ids=\"\" data-ved=\"0ahUKEwjTw8-UgPuOAxXPETQIHa1WOn4QhqEICAg\" jsaction=\"rcuQ6b:npT2md;h5M12e;AMruCe:Zpug7c\" jscontroller=\"lpsUAf\" jsname=\"R5mgy\" role=\"button\" tabindex=\"0\">\n",
            "            <svg class=\"Gdd5U\" focusable=\"false\" viewbox=\"0 -960 960 960\" xmlns=\"http://www.w3.org/2000/svg\">\n",
            "             <path d=\"M480-320q-50 0-85-35t-35-85q0-50 35-85t85-35q50 0 85 35t35 85q0 50-35 85t-85 35Zm240 160q-33 0-56.5-23.5T640-240q0-33 23.5-56.5T720-320q33 0 56.5 23.5T800-240q0 33-23.5 56.5T720-160Zm-440 40q-66 0-113-47t-47-113v-80h80v80q0 33 23.5 56.5T280-200h200v80H280Zm480-320v-160q0-33-23.5-56.5T680-680H280q-33 0-56.5 23.5T200-600v120h-80v-120q0-66 47-113t113-47h80l40-80h160l40 80h80q66 0 113 47t47 113v160h-80Z\" fill=\"var(--bbQxAb)\">\n",
            "             </path>\n",
            "            </svg>\n",
            "           </div>\n",
            "          </div>\n",
            "          <button class=\"plR5qb Y5MKCd\" data-ved=\"0ahUKEwjTw8-UgPuOAxXPETQIHa1WOn4QteYPCAk\" jsaction=\"bujKIf;mouseenter:vG60uf;mouseleave:NS5Xl\" jscallback=\"sxvUDc:cnjECf:dIu9Pe\" jscontroller=\"jNZDL\" jsname=\"B6rgad\" role=\"link\" type=\"button\">\n",
            "           <style>\n",
            "            .plR5qb{align-self:center;background:inherit;border-radius:100px;cursor:pointer;flex-shrink:0;margin-left:8px;padding:0 12px 0 10px;position:relative;height:36px;}.minidiv .plR5qb{height:24px}.plR5qb:hover::before{background:var(--Lm570b)}.xL0qi,.mTurwe{overflow:hidden;border-radius:100px;position:absolute;top:0;right:0;bottom:0;left:0;pointer-events:none}.xL0qi{opacity:0.35;filter:blur(2px)}.iydNQb{background:conic-gradient(#3186ff00 0deg,#34a853 43deg,#ffd314 65deg,#ff4641 105deg,#3186ff 144deg,#3186ff 180deg,#3186ff00 324deg,#3186ff00 360deg);height:200%;top:-50%;right:0;bottom:0;left:0;position:absolute;scale:2 1;opacity:0;transform:rotate(180deg);transition:opacity 400ms linear}.plR5qb:hover .mTurwe .iydNQb{opacity:1}.Y5MKCd .iydNQb{animation:ae-fg 2000ms linear backwards,ae-rg 2000ms cubic-bezier(0.20, 0.00, 0.00, 1.00) backwards}@keyframes ae-fg {0%{opacity:0}30%{opacity:1}50%{opacity:1}100%{opacity:0}}@keyframes ae-rg {from{transform:rotate(0deg)}to{transform:rotate(180deg)}}.bvUkz{position:absolute;top:2px;right:2px;bottom:2px;left:2px;border-radius:100px;clip-path:inset(0 0 0 0 round 100px);background:var(--XKMDxc);transition:filter 1000ms cubic-bezier(0.00, 0.00, 0.00, 1.00),background 400ms linear}.Y5MKCd .bvUkz{animation:ae-bf 2000ms linear backwards}@keyframes ae-bf {0%{background:var(--XKMDxc)}30%{background:inherit}50%{background:inherit}100%{background:var(--XKMDxc)}}.plR5qb:hover .bvUkz{background:inherit;filter:blur(2px)}.plR5qb .bvUkz::after{content:'';top:-10px;right:-10px;bottom:-10px;left:-10px;border-radius:100px;position:absolute;background:inherit;opacity:.5}.u4Uk3c{align-items:center;display:flex;justify-content:center;position:relative;z-index:1}.PD3zdc{padding-right:4px}\n",
            "           </style>\n",
            "           <div class=\"xL0qi\">\n",
            "            <div class=\"iydNQb\" jsname=\"ZYS4S\">\n",
            "            </div>\n",
            "           </div>\n",
            "           <div class=\"mTurwe\">\n",
            "            <div class=\"iydNQb\" jsname=\"pftpcd\">\n",
            "            </div>\n",
            "           </div>\n",
            "           <div class=\"bvUkz\">\n",
            "           </div>\n",
            "           <div class=\"u4Uk3c\">\n",
            "            <span class=\"PD3zdc z1asCe\" style=\"height:20px;line-height:20px;width:20px\">\n",
            "             <svg enable-background=\"new 0 0 24 24\" focusable=\"false\" height=\"24\" viewbox=\"0 0 24 24\" width=\"24\" xmlns=\"http://www.w3.org/2000/svg\">\n",
            "              <g>\n",
            "               <rect fill=\"none\" height=\"24\" width=\"24\">\n",
            "               </rect>\n",
            "              </g>\n",
            "              <g>\n",
            "               <g>\n",
            "                <path d=\"M17.5 12c0-3.04 2.46-5.5 5.5-5.5-3.04 0-5.5-2.46-5.5-5.5 0 3.04-2.46 5.5-5.5 5.5 3.04 0 5.5 2.46 5.5 5.5z\">\n",
            "                </path>\n",
            "                <path d=\"M15.65 11.58c.18-.5.27-1.03.31-1.58h-2c-.1 1.03-.51 1.93-1.27 2.69-.88.87-1.94 1.31-3.19 1.31C7.03 14 5 12.07 5 9.5 5 7.03 6.93 5 9.5 5c.46 0 .89.08 1.3.2l1.56-1.56C11.5 3.22 10.55 3 9.5 3 5.85 3 3 5.85 3 9.5S5.85 16 9.5 16c.56 0 2.26-.06 3.8-1.3l6.3 6.3 1.4-1.4-6.3-6.3c.4-.5.72-1.08.95-1.72z\">\n",
            "                </path>\n",
            "               </g>\n",
            "              </g>\n",
            "             </svg>\n",
            "            </span>\n",
            "            <span>\n",
            "             AI Mode\n",
            "            </span>\n",
            "           </div>\n",
            "          </button>\n",
            "         </div>\n",
            "        </div>\n",
            "        <div class=\"M8H8pb\" data-ved=\"0ahUKEwjTw8-UgPuOAxXPETQIHa1WOn4Q4d8ICAo\" jsname=\"mvaK7d\">\n",
            "        </div>\n",
            "       </div>\n",
            "       <div class=\"UUbT9 EyBRub\" data-ved=\"0ahUKEwjTw8-UgPuOAxXPETQIHa1WOn4Q4tUDCAs\" jsaction=\"mouseout:ItzDCd;mouseleave:MWfikb;hBEIVb:nUZ9le;ldyIye:CmVOgc\" jscontroller=\"Dvn7fe\" jsname=\"UUbT9\" style=\"display:none\">\n",
            "        <style>\n",
            "         .UUbT9{position:absolute;text-align:left;z-index:3;cursor:default;-webkit-user-select:none;width:100%;margin-top:-1px;font-family:Google Sans,Roboto,Arial,sans-serif}.UUbT9 b{font-family:Google Sans,Roboto,Arial,sans-serif;font-weight:700}.aajZCb{display:flex;flex-direction:column;margin:0;padding:0;overflow:hidden;background:#fff;border-radius:0 0 24px 24px;box-shadow:0 4px 6px rgba(32,33,36,.28);border:0;padding-bottom:4px}.mkHrUc{display:flex}.pD4qTd .rLrQHf{padding-bottom:16px}.pD4qTd .rLrQHf{min-width:47%;width:47%;margin:8px 16px 0}.pD4qTd .rLrQHf:empty{display:none}.erkvQe{padding-bottom:8px;flex:auto;overflow-x:hidden}.RjPuVb{height:1px;margin:0 26px 0 0}.S3nFnd{display:flex}.S3nFnd .RjPuVb,.S3nFnd .aajZCb{flex:0 0 auto}.lh87ke:link,.lh87ke:visited{color:var(--JKqx2);cursor:pointer;font:11px arial,sans-serif;padding:0 5px;text-decoration:none;flex:auto;align-self:flex-end;margin:0 16px 5px 0}.lh87ke:hover{text-decoration:underline}.xtSCL{border-top:1px solid #e8eaed;margin:0 20px 0 14px;padding-bottom:4px}.sb27{background:url(/images/searchbox/desktop_searchbox_sprites318_hr.webp) no-repeat 0 -21px;background-size:20px;min-height:20px;min-width:20px;height:20px;width:20px}.sb43{background:url(/images/searchbox/desktop_searchbox_sprites318_hr.webp) no-repeat 0 0;background-size:20px;min-height:20px;min-width:20px;height:20px;width:20px}.sb53.sb53{padding:0 4px;margin:0}.sb33{background:url(/images/searchbox/desktop_searchbox_sprites318_hr.webp) no-repeat 0 -42px;background-size:20px;height:20px;width:20px}\n",
            "        </style>\n",
            "        <div data-bkt=\"searchbox\" data-fhs=\"\" data-maindata='[null,null,null,\"autocomplete_user_feedback_kp_id\",null,11,null,null,null,null,null,5010715,\"searchbox\",null,\"AutocompletePrediction\",null,null,null,null,11]' data-ofbl=\"114,120,134\" data-pid=\"5010715\" jsaction=\"kPzEO:MlP2je;qjLxRc:FbhRG;w8f1fc:hRwSgb;kq2wxf:s5CUif;aIJAdf:UhDUnd;rwuG3b:KGQHJd;BqbTbe:naa5ve;kYAKrf:CqUGrf;hwhRRe:KyxjCd;rcuQ6b:npT2md\" jscontroller=\"Wo3n8\" jsdata=\"vST7rb;_;4tCVaNPKHc-j0PEPra3p8Qc2 zEIyGd;_;\" jsmodel=\" d5EhJe\" jsname=\"aadvhe\">\n",
            "         <div id=\"_4tCVaNPKHc-j0PEPra3p8Qc_1\">\n",
            "          <style>\n",
            "           .z8gr9e{color:var(--bbQxAb)}\n",
            "          </style>\n",
            "          <style>\n",
            "           .i1eWpb .GTERze{display:none}.ky4hfd{display:none}.i1eWpb .ky4hfd{display:block}\n",
            "          </style>\n",
            "          <div class=\"yp\" data-async-type=\"kp_feedback\" data-jiis=\"up\" data-ved=\"0ahUKEwjTw8-UgPuOAxXPETQIHa1WOn4Q68cECAw\" id=\"_4tCVaNPKHc-j0PEPra3p8Qc_4\" jsname=\"GkjeIf\">\n",
            "          </div>\n",
            "         </div>\n",
            "        </div>\n",
            "        <div aria-label=\"Choose what you’re giving feedback on\" class=\"YB4h9 ky4hfd\" data-ved=\"0ahUKEwjTw8-UgPuOAxXPETQIHa1WOn4QlokGCA0\" jsaction=\"kPzEO:MlP2je;qjLxRc:MlP2je;w8f1fc:hRwSgb;kq2wxf:s5CUif\" jscontroller=\"P10Owf\" jsdata=\"vST7rb;_;4tCVaNPKHc-j0PEPra3p8Qc2\" role=\"dialog\">\n",
            "         <div id=\"_4tCVaNPKHc-j0PEPra3p8Qc_6\">\n",
            "         </div>\n",
            "        </div>\n",
            "        <div class=\"RjPuVb\" jsname=\"RjPuVb\">\n",
            "        </div>\n",
            "        <div class=\"aajZCb\" jsname=\"aajZCb\">\n",
            "         <div class=\"xtSCL\">\n",
            "         </div>\n",
            "         <div class=\"mkHrUc\" id=\"Alh6id\" role=\"presentation\">\n",
            "          <div class=\"erkvQe\" jsname=\"erkvQe\">\n",
            "          </div>\n",
            "          <div class=\"rLrQHf\" jsname=\"tovEib\" role=\"presentation\">\n",
            "          </div>\n",
            "         </div>\n",
            "         <style>\n",
            "          #shJ2Vb{display:none}.OBMEnb{padding:0;margin:0}.G43f7e{display:flex;flex-direction:column;min-width:0;padding:0;margin:0;list-style:none}.Ye4jfc{flex-direction:row;flex-wrap:wrap}\n",
            "         </style>\n",
            "         <div class=\"OBMEnb\" id=\"shJ2Vb\" jsname=\"E80e9e\" role=\"presentation\">\n",
            "          <ul class=\"G43f7e\" jsname=\"bw4e9b\" role=\"listbox\">\n",
            "          </ul>\n",
            "         </div>\n",
            "         <style>\n",
            "          #ynRric{display:none}.ynRric{list-style-type:none;flex-direction:column;color:var(--IXoxUe);font-family:Google Sans,Roboto,Arial,sans-serif;font-size:14px;margin:0 20px 0 16px;padding:8px 0 8px 0;line-height:16px;width:100%}\n",
            "         </style>\n",
            "         <div class=\"ynRric\" id=\"ynRric\" role=\"presentation\">\n",
            "         </div>\n",
            "         <style>\n",
            "          .sbct{display:flex;flex-direction:column;min-width:0;overflow:hidden;padding:0}.eIPGRd{flex:auto;display:flex;align-items:center;margin:0 20px 0 14px}.pcTkSc{display:flex;flex:auto;flex-direction:column;min-width:0;padding:6px 0}.sbic{display:flex;align-items:center;margin:0 13px 0 1px;}.sbic.vYOkbe{background:center/contain no-repeat;border-radius:4px;min-height:32px;min-width:32px;margin:4px 7px 4px -5px}.sbre .wM6W7d{line-height:18px}.ClJ9Yb{line-height:12px;font-size:13px;color:#70757a;margin-top:2px;padding-right:8px}.wM6W7d{display:flex;font-size:16px;color:#212121;flex:auto;align-items:center;word-break:break-word;padding-right:8px}.WggQGd{color:#52188c}.wM6W7d span{flex:auto}.AQZ9Vd{display:flex;align-self:stretch}.sbhl{border-radius:4px;background:#f3f5f6}.UUbT9.i1eWpb .PZPZlf.sbhl{background:none}.UUbT9.i1eWpb .PZPZlf.sbhl .gmlSVb{background:rgba(234,67,53,.12)}@media (forced-colors:active){.sbhl{background-color:highlight}}.mus_pc{display:block;margin:6px 0}.mus_il{font-family:Arial,sans-serif;padding-top:7px;position:relative}.mus_il:first-child{padding-top:0}.mus_il_at{margin-left:10px}.mus_il_i{align:left;margin-right:10px}.mus_it3{margin-bottom:3px;max-height:24px;vertical-align:bottom}.mus_tt3{color:#767676;font-size:12px;vertical-align:top}.mus_tt5{color:#d93025;font-size:14px}.mus_tt6{color:#188038;font-size:14px}.mus_tt8{font-size:16px;font-family:Arial,sans-serif}.mus_tt17{color:#212121;font-size:20px}.mus_tt18{color:#212121;font-size:28px}.mus_tt19{color:#767676;font-size:12px}.mus_tt20{color:#767676;font-size:14px}.mus_tt23{color:#767676;font-size:18px}.TfeWfb{display:none}.xAmryf{display:none}.DJbVFb .TfeWfb{display:flex;flex-wrap:wrap;overflow-x:hidden;width:100%;height:52px}.DJbVFb .AQZ9Vd{display:none}.DJbVFb .xAmryf{border-radius:100px;background-color:var(--xhUGwc)}.DJbVFb .TfeWfb{display:inherit}.DJbVFb .xAmryf .eL7oAc{display:none}.DJbVFb{background:#f8f9fa;border-radius:20px}.DJbVFb:hover{background:#e8eaed}.DJbVFb .vYOkbe{height:-1px;width:-1px;flex-shrink:0;margin:20px 0 20px 8px;float:right;border-radius:16px;background-color:#fff}.DJbVFb.sbhl{background:#e8eaed}.DJbVFb .ClJ9Yb{display:none}.DJbVFb .wM6W7d{flex:initial}.DJbVFb .wM6W7d span{text-overflow:ellipsis;-webkit-box-orient:vertical;display:-webkit-box;-webkit-line-clamp:2;overflow:hidden}.DJbVFb .eIPGRd{display:flex;flex-direction:row-reverse;align-items:stretch;margin:0 20px 0 14px}.DJbVFb .a5RLac{line-height:24px;font-size:20px;font-family:Roboto,Arial,sans-serif;padding-top:16px;color:var(--bbQxAb);margin-bottom:auto}.DJbVFb .kzCE2{font-size:16px}.DJbVFb .wM6W7d span{color:var(--YLNNHc);line-height:36px;font-weight:400;font-size:28px;font-family:Google Sans,Roboto,Arial,sans-serif}.DJbVFb .pcTkSc{margin:20px 6px;padding:0}.DJbVFb .vYOkbe{margin:20px 0 20px 18px;background-color:#fff;border-radius:20px}.DJbVFb .EOLKOc{width:calc(50% - 1px)}.iQxPRb{display:flex;gap:2px}.DJbVFb .EOLKOc:first-child{border-bottom-left-radius:20px}.DJbVFb .EOLKOc:last-child{border-bottom-right-radius:20px}.DJbVFb .AZNDm{border-top-right-radius:20px;border-top-left-radius:20px}.DJbVFb .a5RLac.kzCE2 span{-webkit-line-clamp:3}.DJbVFb .lnnVSe{margin-bottom:auto}.DJbVFb .a5RLac span{text-overflow:ellipsis;-webkit-box-orient:vertical;display:-webkit-box;-webkit-line-clamp:2;overflow:hidden;margin-right:10px}#bgeLZd{display:none}.xAmryf{box-sizing:border-box;align-items:center;height:40px;border-radius:8px;display:flex;color:var(--bbQxAb);border:1px solid var(--mXZkqc);background-color:var(--xhUGwc);line-height:22px}.xAmryf .eL7oAc{fill:var(--bbQxAb);padding-top:1px}.xAmryf.LvqzR{background-color:#e8f0fe;cursor:pointer;color:var(--TMYS9)}.xAmryf.LvqzR .eL7oAc{fill:var(--TMYS9)}.jtAOgd{white-space:nowrap;font-family:Google Sans,Roboto,Arial,sans-serif;font-size:14px;margin:0 14px}.TfeWfb{gap:12px 6px;overflow-x:auto;-ms-overflow-style:none;scrollbar-width:none}.TfeWfb::-webkit-scrollbar{display:none}.uhebGb{font-style:italic}#YMXe{display:none}\n",
            "         </style>\n",
            "         <li class=\"sbct PZPZlf\" data-attrid=\"AutocompletePrediction\" data-entityid=\"autocomplete_user_feedback_kp_id\" data-view-type=\"1\" id=\"YMXe\" role=\"presentation\">\n",
            "          <div class=\"eIPGRd\">\n",
            "           <div class=\"sbic\">\n",
            "            <div class=\"j0GJWd\" style=\"display:none\">\n",
            "             <div>\n",
            "              <img alt=\"\" class=\"uHGFVd AZNDm\" style=\"display:none\"/>\n",
            "             </div>\n",
            "             <div class=\"iQxPRb\">\n",
            "              <img alt=\"\" class=\"uHGFVd EOLKOc\" style=\"display:none\"/>\n",
            "              <img alt=\"\" class=\"uHGFVd EOLKOc\" style=\"display:none\"/>\n",
            "             </div>\n",
            "            </div>\n",
            "           </div>\n",
            "           <div class=\"pcTkSc\">\n",
            "            <div aria-atomic=\"true\" class=\"lnnVSe\" role=\"option\">\n",
            "             <div class=\"wM6W7d\">\n",
            "              <span>\n",
            "              </span>\n",
            "             </div>\n",
            "             <div class=\"ClJ9Yb\">\n",
            "              <span>\n",
            "              </span>\n",
            "             </div>\n",
            "             <div class=\"a5RLac\">\n",
            "              <span>\n",
            "              </span>\n",
            "             </div>\n",
            "            </div>\n",
            "            <style>\n",
            "             .MagqMc .ZFiwCf{background-color:#fff;border:1px solid var(--gS5jXb);width:100%}.MagqMc.U48fD{padding:0;margin-top:16px}.MagqMc .Bi9oQd{display:none}.MagqMc{padding:0}.MagqMc:hover .LGwnxb{color:var(--YLNNHc)}.sOmPcf .ZFiwCf{background-color:#fafafa}\n",
            "            </style>\n",
            "            <div aria-label=\"See more\" class=\"Sz7Lee MagqMc U48fD\" role=\"button\" style=\"display:none\" tabindex=\"0\">\n",
            "             <style>\n",
            "              .U48fD{-webkit-tap-highlight-color:transparent;cursor:pointer;display:block;line-height:18px;text-overflow:ellipsis;white-space:nowrap;padding:16px;padding-top:0;margin-top:16px;position:relative}.TQc1id .U48fD{margin-top:16px}.U48fD.df13ud{margin-top:16px}.U48fD.TOQyFc{margin-top:0}.U48fD.p8FEIf{padding-bottom:0}.jRKCUd.p8FEIf::before{bottom:-4px}.U48fD.ke7M4{padding-left:0;padding-right:0}.jRKCUd::before{bottom:12px;content:'';left:16px;position:absolute;right:16px;top:-4px}a.jRKCUd:hover{text-decoration:none}\n",
            "             </style>\n",
            "             <style>\n",
            "              .ZFiwCf{display:flex;align-items:center;justify-content:center;position:relative;margin:0 auto;width:100%;border-radius:18px;outline:1px solid transparent;background-color:#f1f3f4;font-size:14px;font-family:Google Sans,Roboto,Arial,sans-serif;line-height:20px;font-weight:400;max-width:372px;min-height:40px;border-radius:20px;}@media (forced-colors:active){.ZFiwCf{border:1px solid transparent}}.TQc1id .ZFiwCf{max-width:unset}.Zjtggb .ZFiwCf{max-width:unset}.ZFiwCf:hover{background-color:#fafafa}.nCFUpc .ZFiwCf{width:100%}.Bi9oQd{background-color:var(--gS5jXb);margin-top:18px;position:absolute;border:0;height:1px;left:0;width:100%;margin-top:20px;}.TQc1id .Bi9oQd{display:none}.kC8B4e .Bi9oQd{display:none}.w2fKdd svg{width:auto}.w2fKdd{color:var(--IXoxUe)}.LGwnxb{-webkit-line-clamp:1;word-break:break-all;width:auto;padding-left:0;padding-right:8px;color:#202124;max-width:calc(100% - 64px);}.LGwnxb:empty{padding-right:0}.LGwnxb span,.LGwnxb div{overflow:hidden;text-overflow:ellipsis;white-space:nowrap;width:auto}\n",
            "             </style>\n",
            "             <hr aria-hidden=\"true\" class=\"Bi9oQd\"/>\n",
            "             <div class=\"ZFiwCf\">\n",
            "              <span class=\"LGwnxb JGD2rd\">\n",
            "               See more\n",
            "              </span>\n",
            "              <span class=\"w2fKdd z1asCe\" style=\"height:20px;line-height:20px;width:20px\">\n",
            "               <svg focusable=\"false\" viewbox=\"0 0 24 24\" xmlns=\"http://www.w3.org/2000/svg\">\n",
            "                <path d=\"M8.59 16.59L13.17 12 8.59 7.41 10 6l6 6-6 6-1.41-1.41z\">\n",
            "                </path>\n",
            "               </svg>\n",
            "              </span>\n",
            "             </div>\n",
            "            </div>\n",
            "           </div>\n",
            "           <div aria-atomic=\"true\" class=\"AQZ9Vd\" role=\"button\">\n",
            "            <style>\n",
            "             .JCHpcb:hover,.LvqzR .JCHpcb{color:#1558d6;text-decoration:underline}.JCHpcb{color:#70757a;font:13px arial,sans-serif;cursor:pointer;align-self:center}@media (hover:hover){.sbai{visibility:hidden}.sbhl .sbai{visibility:inherit}}\n",
            "            </style>\n",
            "            <div class=\"sbai\" role=\"presentation\">\n",
            "             Delete\n",
            "            </div>\n",
            "           </div>\n",
            "          </div>\n",
            "         </li>\n",
            "         <style>\n",
            "          #d6ItKb{display:none}.AB2Fdd{display:flex}\n",
            "         </style>\n",
            "         <li class=\"AB2Fdd\" data-view-type=\"9\" id=\"d6ItKb\" role=\"presentation\">\n",
            "          <div class=\"eIPGRd\">\n",
            "           <div class=\"ZDHp\" id=\"fU0xAb\" role=\"presentation\" style=\"display:none\">\n",
            "            <div class=\"kZtr1b\">\n",
            "             <style>\n",
            "              .ZDHp{position:relative;margin:20px;display:flex}.DJbVFb,.o6OF0{background:#f8f9fa;border-radius:20px}.o6OF0:hover,.o6OF0.LvqzR{background:#e7e8e9}.o6OF0 .eIPGRd{display:block}@media (forced-colors:none){.o6OF0.sbhl{background:#e7e8e9}}@media (forced-colors:active){.o6OF0.sbhl{background-color:highlight}}.o6OF0 .AQZ9Vd{display:none}.o6OF0 .sbic{display:none}.o6OF0 .pcTkSc{display:none}.o6OF0 .wM6W7d{display:none}.o6OF0 .eIPGRd{max-width:100%;margin:0}.ZDHp .SHFPkb{margin-bottom:12px}.o6OF0 .SHFPkb{line-height:48px;font-family:Google Sans,Roboto,Arial,sans-serif;font-size:36px;font-weight:400;color:var(--YLNNHc);display:-webkit-box;overflow:hidden;-webkit-line-clamp:2;-webkit-box-orient:vertical}.lQoozf{font-size:28px}.o6OF0 .HrUlUc,.o6OF0 .PnfqLc{font-family:Roboto,Arial,sans-serif;font-weight:400;max-height:72px;color:var(--bbQxAb)}.ZDHp .HrUlUc,.ZDHp .PnfqLc{font-size:18px;line-height:24px}.o6OF0 .bTSf5c{font-family:Google Sans,Roboto,Arial,sans-serif;font-weight:400;color:var(--bbQxAb)}.ZDHp .bTSf5c{line-height:22px;font-size:14px;margin-bottom:6px}.ZDHp .HrUlUc,.ZDHp .PnfqLc{overflow:hidden;display:-webkit-box;-webkit-line-clamp:3;-webkit-box-orient:vertical}.Vlt3wb{font-style:normal;font-family:Roboto,Arial,sans-serif;font-weight:400;font-size:14px;line-height:22px;padding-top:8px;margin-top:12px;color:var(--bbQxAb);border-top:1px solid #dadce0;display:flex;width:100%}.Tnv2td{position:absolute;top:0;right:0}.z76Rnb{padding:6px;width:24px;height:24px;background-color:var(--xhUGwc);color:var(--IXoxUe);border-radius:9999px;border:1px solid var(--mXZkqc);cursor:pointer}.z76Rnb.LvqzR{color:var(--YLNNHc);background-color:#fafafa}.kZtr1b{display:flex;flex-direction:column;flex-grow:1;min-width:0}.XAFD5c{width:200px;height:200px;background-color:var(--xhUGwc);border-radius:20px;margin-left:20px;flex-shrink:0;background-position:center;background-repeat:no-repeat;background-size:contain}.XAFD5c.iNF0Vd{background-size:136px}.ZDHp .lnnVSe{font-size:18px;flex-grow:1}.ZDHp .HrUlUc,.ZDHp .PnfqLc{display:flex;flex-direction:column}.rnAixd{color:#b3261e}.izxCJf{color:#146c2e}\n",
            "             </style>\n",
            "             <div aria-atomic=\"true\" class=\"lnnVSe\" role=\"option\">\n",
            "              <div class=\"SHFPkb\">\n",
            "              </div>\n",
            "              <div class=\"bTSf5c\">\n",
            "              </div>\n",
            "              <div class=\"PnfqLc\">\n",
            "              </div>\n",
            "              <div class=\"HrUlUc\">\n",
            "              </div>\n",
            "             </div>\n",
            "             <div aria-atomic=\"true\" aria-label=\"Word pronunciation\" class=\"Tnv2td\" role=\"button\" style=\"display:none\">\n",
            "              <span class=\"z76Rnb z1asCe JKu1je\">\n",
            "               <svg focusable=\"false\" viewbox=\"0 0 24 24\" xmlns=\"http://www.w3.org/2000/svg\">\n",
            "                <path d=\"M3 9v6h4l5 5V4L7 9H3zm13.5 3c0-1.77-1.02-3.29-2.5-4.03v8.05c1.48-.73 2.5-2.25 2.5-4.02zM14 3.23v2.06c2.89.86 5 3.54 5 6.71s-2.11 5.85-5 6.71v2.06c4.01-.91 7-4.49 7-8.77s-2.99-7.86-7-8.77z\">\n",
            "                </path>\n",
            "               </svg>\n",
            "              </span>\n",
            "             </div>\n",
            "             <div class=\"Vlt3wb\" style=\"display:none\">\n",
            "             </div>\n",
            "            </div>\n",
            "            <span class=\"XAFD5c\" style=\"display:none\">\n",
            "            </span>\n",
            "            <div class=\"j0GJWd\" style=\"display:none\">\n",
            "             <div>\n",
            "              <img alt=\"\" class=\"uHGFVd AZNDm\" style=\"display:none\"/>\n",
            "             </div>\n",
            "             <div class=\"iQxPRb\">\n",
            "              <img alt=\"\" class=\"uHGFVd EOLKOc\" style=\"display:none\"/>\n",
            "              <img alt=\"\" class=\"uHGFVd EOLKOc\" style=\"display:none\"/>\n",
            "             </div>\n",
            "            </div>\n",
            "           </div>\n",
            "          </div>\n",
            "         </li>\n",
            "         <style>\n",
            "          #mitGyb{display:none}.s2Wjec{display:block}\n",
            "         </style>\n",
            "         <li class=\"sbct PZPZlf\" data-attrid=\"AutocompletePrediction\" data-entityid=\"autocomplete_user_feedback_kp_id\" data-view-type=\"8\" id=\"mitGyb\" role=\"presentation\">\n",
            "          <div class=\"eIPGRd hdt0ld\">\n",
            "           <div class=\"sbic\">\n",
            "           </div>\n",
            "           <div class=\"pcTkSc\">\n",
            "            <div aria-atomic=\"true\" class=\"lnnVSe\" role=\"option\">\n",
            "             <div class=\"wM6W7d\">\n",
            "              <span>\n",
            "              </span>\n",
            "             </div>\n",
            "             <div class=\"ClJ9Yb\">\n",
            "              <span>\n",
            "              </span>\n",
            "             </div>\n",
            "            </div>\n",
            "           </div>\n",
            "           <div aria-atomic=\"true\" class=\"AQZ9Vd\" role=\"button\">\n",
            "            <div class=\"sbai\" role=\"presentation\">\n",
            "             Delete\n",
            "            </div>\n",
            "           </div>\n",
            "          </div>\n",
            "         </li>\n",
            "         <div class=\"ZDHp\" id=\"fU0xAb\" role=\"presentation\" style=\"display:none\">\n",
            "          <div class=\"kZtr1b\">\n",
            "           <div aria-atomic=\"true\" class=\"lnnVSe\" role=\"option\">\n",
            "            <div class=\"SHFPkb\">\n",
            "            </div>\n",
            "            <div class=\"bTSf5c\">\n",
            "            </div>\n",
            "            <div class=\"PnfqLc\">\n",
            "            </div>\n",
            "            <div class=\"HrUlUc\">\n",
            "            </div>\n",
            "           </div>\n",
            "           <div aria-atomic=\"true\" aria-label=\"Word pronunciation\" class=\"Tnv2td\" role=\"button\" style=\"display:none\">\n",
            "            <span class=\"z76Rnb z1asCe JKu1je\">\n",
            "             <svg focusable=\"false\" viewbox=\"0 0 24 24\" xmlns=\"http://www.w3.org/2000/svg\">\n",
            "              <path d=\"M3 9v6h4l5 5V4L7 9H3zm13.5 3c0-1.77-1.02-3.29-2.5-4.03v8.05c1.48-.73 2.5-2.25 2.5-4.02zM14 3.23v2.06c2.89.86 5 3.54 5 6.71s-2.11 5.85-5 6.71v2.06c4.01-.91 7-4.49 7-8.77s-2.99-7.86-7-8.77z\">\n",
            "              </path>\n",
            "             </svg>\n",
            "            </span>\n",
            "           </div>\n",
            "           <div class=\"Vlt3wb\" style=\"display:none\">\n",
            "           </div>\n",
            "          </div>\n",
            "          <span class=\"XAFD5c\" style=\"display:none\">\n",
            "          </span>\n",
            "          <div class=\"j0GJWd\" style=\"display:none\">\n",
            "           <div>\n",
            "            <img alt=\"\" class=\"uHGFVd AZNDm\" style=\"display:none\"/>\n",
            "           </div>\n",
            "           <div class=\"iQxPRb\">\n",
            "            <img alt=\"\" class=\"uHGFVd EOLKOc\" style=\"display:none\"/>\n",
            "            <img alt=\"\" class=\"uHGFVd EOLKOc\" style=\"display:none\"/>\n",
            "           </div>\n",
            "          </div>\n",
            "         </div>\n",
            "         <style>\n",
            "          #TN4rFf{display:none}.IDVnvc{display:inline-block;overflow:hidden;max-width:223px;border-radius:16px;height:178px;margin:-2px -10px 2px 10px}.IDVnvc.sbhl{border-radius:16px}.OBMEnb:only-child .IDVnvc{margin-right:calc(25% - 113px)}.cRV9hb{width:90px;padding:6px}.cRV9hb .pcTkSc{font-family:Roboto,Arial,sans-serif;overflow:hidden;margin-top:4px;padding:0}.cRV9hb .pcTkSc .wM6W7d{font-family:Google Sans,Roboto,Arial,sans-serif;font-size:14px;line-height:18px;padding:0;color:var(--YLNNHc)}.cRV9hb .pcTkSc .ClJ9Yb{line-height:16px;font-size:12px;font-family:Roboto,Arial,sans-serif;display:none;display:flex}.cRV9hb .pcTkSc .wM6W7d span,.cRV9hb .pcTkSc .ClJ9Yb span{overflow:hidden;text-overflow:ellipsis;-webkit-box-orient:vertical;display:-webkit-box;white-space:normal}.cRV9hb .pcTkSc .wM6W7d span{-webkit-line-clamp:2}.cRV9hb .pcTkSc .ClJ9Yb span{-webkit-line-clamp:2}.aVbWac{background:#fff;border-radius:12px;height:90px}.aVbWac .sbic.vYOkbe{height:90px;width:90px;border-radius:12px;margin:0}\n",
            "         </style>\n",
            "         <li class=\"IDVnvc PZPZlf\" data-attrid=\"AutocompletePrediction\" data-entityid=\"autocomplete_user_feedback_kp_id\" data-view-type=\"6\" id=\"TN4rFf\" role=\"presentation\">\n",
            "          <div class=\"cRV9hb\">\n",
            "           <div class=\"aVbWac\">\n",
            "            <div class=\"sbic\">\n",
            "            </div>\n",
            "           </div>\n",
            "           <div class=\"pcTkSc\" role=\"presentation\">\n",
            "            <div aria-atomic=\"true\" class=\"lnnVSe\" role=\"option\">\n",
            "             <div class=\"wM6W7d\">\n",
            "              <span>\n",
            "              </span>\n",
            "             </div>\n",
            "             <div class=\"ClJ9Yb\">\n",
            "              <span>\n",
            "              </span>\n",
            "             </div>\n",
            "            </div>\n",
            "           </div>\n",
            "          </div>\n",
            "         </li>\n",
            "         <div class=\"lJ9FBc\" jsname=\"VlcLAe\">\n",
            "          <style>\n",
            "           .lJ9FBc{height:70px}.lJ9FBc input[type=\"submit\"],.f1pnbf,.gbqfba{background-color:#f8f9fa;border:1px solid #f8f9fa;color:#3c4043;margin:11px 4px;padding:0 16px;line-height:27px;height:36px;min-width:54px;text-align:center;cursor:pointer;user-select:none;border-radius:4px;font-family:Roboto,Arial,sans-serif;font-size:14px}.lJ9FBc input[type=\"submit\"]:hover,.f1pnbf:hover{box-shadow:0 1px 1px rgba(0,0,0,.1);background-color:#f8f9fa;border:1px solid #dadce0;color:#202124}.lJ9FBc input[type=\"submit\"]:focus,.f1pnbf:focus{border:1px solid #4285f4;outline:none}\n",
            "          </style>\n",
            "          <center>\n",
            "           <input aria-label=\"Google Search\" class=\"gNO89b\" data-ved=\"0ahUKEwjTw8-UgPuOAxXPETQIHa1WOn4Q4dUDCBA\" name=\"btnK\" role=\"button\" tabindex=\"0\" type=\"submit\" value=\"Google Search\"/>\n",
            "           <input aria-label=\"I'm Feeling Lucky\" class=\"RNmpXc\" data-ved=\"0ahUKEwjTw8-UgPuOAxXPETQIHa1WOn4Q19QECBE\" jsaction=\"rcuQ6b:npT2md;QIWlh\" jscontroller=\"s980lf\" name=\"btnI\" type=\"submit\" value=\"I'm Feeling Lucky\"/>\n",
            "          </center>\n",
            "         </div>\n",
            "        </div>\n",
            "        <div jsname=\"JUypV\">\n",
            "         <style>\n",
            "          .WzNHm{font-size:11px;font-style:italic;margin-top:-16px;position:absolute;right:20px;color:var(--IXoxUe)}\n",
            "         </style>\n",
            "         <div class=\"WzNHm mWcf0e\" data-dccl=\"false\" data-ved=\"0ahUKEwjTw8-UgPuOAxXPETQIHa1WOn4Q6scECBI\" jsaction=\"i5KCU;kVBCVd:yM1YJe\" jscontroller=\"gSZvdb\" jsdata=\"vST7rb;_;4tCVaNPKHc-j0PEPra3p8Qc2\" role=\"button\" tabindex=\"0\">\n",
            "          <div class=\"VfL2Y LRZwuc\">\n",
            "           Report inappropriate predictions\n",
            "          </div>\n",
            "         </div>\n",
            "        </div>\n",
            "       </div>\n",
            "       <div class=\"FPdoLc lJ9FBc\">\n",
            "        <center>\n",
            "         <input aria-label=\"Google Search\" class=\"gNO89b\" data-ved=\"0ahUKEwjTw8-UgPuOAxXPETQIHa1WOn4Q4dUDCBM\" name=\"btnK\" role=\"button\" tabindex=\"0\" type=\"submit\" value=\"Google Search\"/>\n",
            "         <input aria-label=\"I'm Feeling Lucky\" data-ved=\"0ahUKEwjTw8-UgPuOAxXPETQIHa1WOn4QnRsIFA\" id=\"gbqfbb\" name=\"btnI\" role=\"button\" tabindex=\"0\" type=\"submit\" value=\"I'm Feeling Lucky\"/>\n",
            "        </center>\n",
            "       </div>\n",
            "      </div>\n",
            "      <div style=\"background:url(/images/searchbox/desktop_searchbox_sprites318_hr.webp)\">\n",
            "      </div>\n",
            "      <script nonce=\"seEIYS-aqm2GK6ZAaub1Ew\">\n",
            "       (function(){\n",
            "var a=this||self;var c=document.querySelector(\"form\");if(c){var d=function(b){b.key!==\"Enter\"||b.shiftKey||(b.preventDefault(),c.submit&&c.submit())};c.addEventListener(\"keydown\",d);a.sbmlhf=d};}).call(this);\n",
            "      </script>\n",
            "     </div>\n",
            "     <div id=\"tophf\">\n",
            "      <input name=\"sca_esv\" type=\"hidden\" value=\"7ec6ad9a6a04dfb7\"/>\n",
            "      <input name=\"source\" type=\"hidden\" value=\"hp\"/>\n",
            "      <input name=\"ei\" type=\"hidden\" value=\"4tCVaNPKHc-j0PEPra3p8Qc\"/>\n",
            "      <input name=\"iflsig\" type=\"hidden\" value=\"AOw8s4IAAAAAaJXe8rKouP3HB6L2T4s7lIJ59MEq5sAC\"/>\n",
            "     </div>\n",
            "    </form>\n",
            "   </div>\n",
            "   <div class=\"o3j99 qarstb\">\n",
            "    <style>\n",
            "     .vcVZ7d{text-align:center}\n",
            "    </style>\n",
            "    <div>\n",
            "     <div class=\"yp\" data-aipm=\"1\" data-async-type=\"hpba\" data-eaip=\"true\" data-ecom=\"true\" data-endpoint=\"2\" data-jiis=\"up\" data-oaipm=\"0\" data-ved=\"0ahUKEwjTw8-UgPuOAxXPETQIHa1WOn4Qj-0KCBU\" id=\"_4tCVaNPKHc-j0PEPra3p8Qc_8\" jsaction=\"rcuQ6b:npT2md\" jscontroller=\"ms4mZb\" jsname=\"FAeNCb\">\n",
            "     </div>\n",
            "     <script nonce=\"seEIYS-aqm2GK6ZAaub1Ew\">\n",
            "      (function(){'use strict';function d(a,b){if(a.wfpe&&document.prerendering)document.addEventListener(\"prerenderingchange\",()=>{b(a)},{once:!0,passive:!0});else if(a.wfve&&document.hidden){function c(){document.hidden||(b(a),document.removeEventListener(\"visibilitychange\",c))}document.addEventListener(\"visibilitychange\",c,{passive:!0})}else b(a)}\n",
            "function e(a){a.ets={};var b=document.getElementById(a.id);if(b=(a.t=b)&&b.dataset.ved)a.url+=`&vet=${`1${b}..i`}`;if(b=(b=document.getElementById(a.trid))&&b.dataset.ved)a.url+=`&ved=${b}`;for(const c of google.ia.rf)c&&c(a);google.ia.r[a.id]=a;google.ia.mi[a.m](a)}google.ia||(google.ia={q:e,r:{},mi:[],rf:[],was:d,dq:[],pf:[]},google.iax&&google.iax());google.dp=!0;}).call(this);(function(){'use strict';google.cr=google.cr||new Set;}).call(this);(function(){'use strict';var l={push:a=>void a()};const m=new Set(\"aaft aafit aafct irli sart scrt\".split(\" \"));var n=function(a){if(Array.isArray(a.g.cbvi))for(const b of a.g.cbvi)b();a.g.cbvi=l},p=function(a,b=\"all\"){const c=b===\"all\";n(a);var d,e;let f;const g=((d=google.stvsc)==null?void 0:d.ns)||((e=window.performance)==null?void 0:(f=e.timing)==null?void 0:f.navigationStart);g&&(a.i.ns=g);a:{d=window.location.search;if(!(window._csc===\"agsa\"&&window._cshid||window.performance&&window.performance.navigation&&window.performance.navigation.type)&&(d=(d=d.match(RegExp(\"[?&]qsubts=(\\\\d+)\")))&&Number(d[1]),d>0))break a;d=void 0}d&&(a.i.gsans=d);d=a.g.t.getAttribute(\"eid\");e=[];for(const h of Object.keys(a.i))!c&&m.has(h)||e.push(`${h}.${a.i[h]-a.M}`);for(const h of Object.keys(a.j))!c&&m.has(h.split(\"-\")[0])||e.push(`${h}.${a.j[h]-a.M}`);b=`/gen_204?s=async&astyp=${a.g.astyp}&t=${b}&atyp=csi&ei=${d}&rt=${e.join(\",\")}`;c&&(a.l&&(b+=`&twt=${Math.round(a.l)}&mwt=${Math.round(a.D)}`),a.C&&(b+=`&lvhr=${a.C}`),b+=`&${\"imn\"}=${a.H}`,b+=`&${\"ima\"}=${a.I}`);b+=`&${\"folid\"}=${a.g.id}`;google.log(\"\",\"\",b)},q=\n",
            "function(a){a.H!==a.B||a.J||(a.i.art=Date.now(),p(a))},r=function(a){a.I===a.N&&n(a)},t=function(a,b,c,d){var e=a.g.t.querySelectorAll(\"[data-subtree]\");for(const g of e){var f=g.dataset.subtree;f&&(e=`${\"saft\"}-${f}`,f=`${\"sart\"}-${f}`,g.contains(b)||b.contains(g))&&(d&&(a.j[e]=c),a.j[f]=c)}},u=function(a,b,c,d){const e=google.cv(b,!1,a.g.t),f=!!(e&1);d=d||Date.now();f&&(c&&(a.C=c),a.i.aaft=d,a.i.aafct=d);t(a,b,d,f);e&4&&(a.O=!0,r(a))},v=function(a,b,c,d=!1){b.getAttribute(\"data-deferred\")===\"1\"?google.rll(b,!0,()=>{v(a,b,c,d)}):d||(b.getAttribute(\"data-deferred\")===\"2\"&&b.setAttribute(\"data-deferred\",\"3\"),d=!0,w(a,b,c))},x=function(a,b,c){const d=Date.now(),e=b.getElementsByTagName(\"img\");for(let f=0;f<e.length;f++){const g=e[f];++a.H;const h=g.complete&&!g.getAttribute(\"data-deferred\"),k=g.hasAttribute(\"data-noaft\");if(h||k){++a.B;continue}const B=!!(google.cv(g,!1,a.g.t)&1);if(B)++a.I;else if(g.loading===\"lazy\"){++a.B;continue}google.rll(g,!0,()=>{v(a,g,B)});a.i.irfi||(a.i.irfi=d);a.i.irli=\n",
            "d}u(a,b,c,d)},w=function(a,b,c){const d=Date.now();a.i.irfie||(a.i.irfie=d);++a.B;c&&(++a.N,a.i.aaft=d,a.i.aafit=d);t(a,b,d,c);a.O&&r(a);a.T&&q(a)},y=function(a,b,c){var d=a.g.t.querySelectorAll(\"[data-subtree]\");for(const e of d){d=e.dataset.subtree;if(!d)continue;const f=`${\"sirt\"}-${d}`,g=`${\"sart\"}-${d}`,h=`${\"scrt\"}-${d}`;let k=!1;b.contains(e)?(a.j[f]||(k=!0,a.j[f]=c),a.j[g]=c,a.j[h]=c):e.contains(b)&&(a.j[g]=c,a.j[h]=c);d===\"mfc\"&&k&&p(a,\"sirt-mfc\")}},z=class{constructor(a){var b=Date.now();this.g=a;this.M=b;this.j={};this.i={};this.N=this.I=this.l=this.B=this.H=this.G=this.D=this.C=0;if(this.g.t&&google.cv(this.g.t,!1)&1){a=this.g.id;var c;let d;if(b=(c=window.google)==null?void 0:(d=c.timers)==null?void 0:d.load)c=b.e.folr,google.c.e(\"load\",\"folr\",c?`${c},${a}`:a)}}};\n",
            "var A=class{constructor(a){this.g=a}toString(){return this.g}};function C(a){if(a instanceof A)return a.g;throw Error(\"a\");};function D(a){var b=google.cr,c=[];const d=[];for(var e=0;e<a.length;e++)b.has(a[e].module_id)||(c.push(a[e]),d.push(a[e].module_id));if(d.length!==0){a=[];for(e=0;e<c.length;e++){var f=c[e].style_sheet.private_do_not_access_or_else_safe_style_sheet_wrapped_value;if(f===void 0||f===null)throw Error(\"b\");f=new A(f);f!==null&&a.push(f)}a=a.map(C).join(\"\");c=document.createElement(\"style\");c.textContent=C(new A(a));c.setAttribute(\"data-mss-styles\",d.join(\",\"));a=document.getElementsByTagName(\"head\")[0];if(!a)throw Error(\"c\");a.appendChild(c);for(c=0;c<d.length;c++)b.add(d[c])}};\n",
            "function E(a){a.req=new XMLHttpRequest;a.cbfd=[];a.cbvi=[]}function F(a){E(a);const b=new G(a);google.ia.was(a,()=>{b.g.req.addEventListener(\"readystatechange\",b.K);b.g.req.open(\"GET\",b.g.url);for(const c of Object.keys(b.g.h))b.g.req.setRequestHeader(c,b.g.h[c]);b.i.ipf=Date.now();b.g.req.send()})}\n",
            "var H=function(a){a.A===0&&a.S&&google.drty&&google.drty()},I=function(a){if(!a.P){a.P=!0;if(Array.isArray(a.g.cbfd))for(const b of a.g.cbfd)b();a.g.cbfd=l}},J=function(a,b){a.J=!0;a.i.ft=Date.now();a.l=0;a.g.req.removeEventListener(\"readystatechange\",a.K);a.g.req.abort();p(a);google.fce(a.g.t,a.g.cee,b);I(a)},Q=function(a,b,c){var d=b[0];b=b[1];if(!a.U&&d===2&&b==null)return K(a,c),a.U=!0,a.g.t;switch(d){case 1:J(a,Error(c));break;case 2:return L(a,b,c);case 6:return M(a,b,c);case 3:N(a,b,c,!0);break;case 4:a.A++;google.ia.dq.push({astyp:a.g.astyp,cb:()=>{O(c);a.A--;H(a)}});break;case 7:P(a,c);break;case 5:google.ia.dq.push({astyp:a.g.astyp,md:c});break;case 12:d=JSON.parse(c),D(d.css_modules)}},K=function(a,b){const c=Date.now();a.i.st=c;a.g.t.innerHTML=b;y(a,a.g.t,c);R(a.g.t);a.g.t.setAttribute(\"eid\",a.L[0]);x(a,a.g.t,++a.v)},L=function(a,b,c){b=document.getElementById(b);b.innerHTML=c;a.v++;for(const d of b.children)u(a,d,a.v);y(a,b,Date.now());R(b);return b},M=function(a,b,c){const d=\n",
            "a.g.t.querySelector(`[data-async-ph=\"${b}\"]`);if(d)return S(a,d,c);a.A++;google.ia.dq.push({astyp:a.g.astyp,cb:()=>{var e=a.g.t.querySelector(`[data-async-ph=\"${b}\"]`);e?(S(a,e,c),a.A--,H(a)):(e=Error(),e.message=\"ia_no_ph\",google.ml(e,!1,{t:b}))}})},N=function(a,b,c,d){let e;const f=(e=document.getElementById(b))!=null?e:a.g.t.querySelector(`img[data-iid=\"${b}\"]`);f?(f.setAttribute(\"data-deferred\",\"2\"),f.src=c):d?a.g.cbfd.push(()=>{google.ia.dq.push({astyp:a.g.astyp,cb:()=>{N(a,b,c,!1)}})}):(d=Error(),d.message=\"ia_no_img\",google.ml(d,!1,{t:b,u:c}))},O=function(a){const b=document.createElement(\"script\");b.textContent=a;try{document.body.appendChild(b)}catch(c){google.ml(c,!1,{script:a.substring(0,500)})}},P=function(a,b){const c=document.createElement(\"style\");try{c.appendChild(document.createTextNode(b)),a.g.t.appendChild(c)}catch(d){google.ml(d,!1,{css:b.substring(0,500)})}},R=function(a){a=a.querySelectorAll('script:not([type]),script[type=\"text/javascript\"]');for(const b of a)O(b.text)},S=\n",
            "function(a,b,c){const d=document.createElement(\"div\");d.innerHTML=c;const e=Array.from(d.getElementsByTagName(\"script\"),g=>g.text),f=document.createDocumentFragment();for(;d.firstChild;)try{f.appendChild(d.firstChild)}catch(g){google.ml(g,!1,{script:c.substring(0,500)});return}c=Array.from(f.children);b.parentElement.replaceChild(f,b);b=Date.now();a.v++;for(const g of e)O(g);for(const g of c)y(a,g,b),x(a,g,a.v);return f},G=class extends z{constructor(a){super(a);this.K=this.R.bind(this);this.A=this.v=\n",
            "this.cursor=0;a.cbvi.push(()=>{this.S=!0;H(this)})}R(){const a=this.g.req.readyState;try{if(a>=2&&(this.i.ipfr||(this.i.ttfb=this.i.ipfr=Date.now()),this.g.req.status!==200)){J(this,Error(`${this.g.req.status}`));return}if(a<3)return;this.G=performance.now();const c=this.g.req.responseText,d=c.length;if(d>=5){if(this.cursor===0){if(c.substring(0,5)!==\")]}'\\n\"){J(this,Error(\"d\"));return}this.cursor=5}let e;for(;!this.J;){e=c.indexOf(\";\",this.cursor);if(e===-1)break;const g=parseInt(c.substring(this.cursor,e),16);if(isNaN(g))break;if(d<e+g)break;var b=c.substring(e+1,e+g+1);if(this.L)if(this.F){const h=this.F;this.F=void 0;const k=Q(this,h,b);k&&google.drty&&google.drty(k)}else this.F=JSON.parse(b);else this.L=JSON.parse(b);this.cursor=e+g+1}const f=performance.now()-this.G;f>this.D&&(this.D=f);this.l+=f;this.G=0}}catch(c){J(this,c);return}a===4&&(this.i.ipfrl=this.i.acrt=Date.now(),this.i.aaft||(this.i.aaft=this.i.acrt),this.T=!0,q(this),I(this),r(this))}};google.ia.mi[1]==null&&(google.ia.mi[1]=F);}).call(this);(function(){var p={astyp:'hpba',cee:'kvZGKe',ck:'_4tCVaNPKHc-j0PEPra3p8Qc_84tCVaNPKHc-j0PEPra3p8Qc',cp:'x',id:'_4tCVaNPKHc-j0PEPra3p8Qc_8',m:1,trid:'',url:'/async/hpba?yv\\x3d3\\x26cs\\x3d0\\x26ei\\x3d4tCVaNPKHc-j0PEPra3p8Qc\\x26async\\x3d_basejs:/xjs/_/js/k%3Dxjs.hd.en.q75yPk7neeo.2018.O/am%3DAAAAAAAAAAAAAAAAAAAAAAAAAAAAAAAAAAAAAAAAAAAAAAAACAAAAAAAAAQAAgAAIBAAAAAAACAIAAgAAAAAAAAAAAAAEQACACAAAAAAAAAAABAAAAAAAAMEAAAEIEQAABgEAAAAAAAAAAAAQAAEAAAAABgA_gyMAAAISAAAAAAAAAAAAHABAIQAAIAAAAAAAAAAAAAAACAAAAAAACAAAAAgAACAAgAAAAAAAAAAABAAAAAAAAAAQAAABCAAAAAAAAAAAAAAAAAAAAA9AAAAAAAAAAAAAAAAAAAAAA4AQAgAAACGKBoAAAAAAAAAOgAEHjCkoAAAAAAAAAAAAAAAAAAAIEBBMBcSCAgQAAAAAAAAAAAAAAAAAAAAAACENLHQ/dg%3D0/br%3D1/rs%3DACT90oFLmWiLz2Ul3B_fCeBOe_U4cVAJfA,_basecss:/xjs/_/ss/k%3Dxjs.hd.nYMoAlcMmsk.L.B1.O/am%3DAIJSgQAAAAAAAAAAEAAAAAAAAAAAAAAAAAAAAAAAAAAIAAAACAAAAAACAAQAAAAYgGCHAAAAADgAAEgBAAAAAAQAEQAAACAAACAAAAAAAAQIYAAAAYAABDYFAAAEIEQAABAUAAAEAAQIEAAACYAUAECQBBAFAAAAwCRoAAAEBCAAAQAAGQABAIAAAAAAAAAAAAAAAAAAAAAAACAAACAAAeAiCAGhAiDpADCgCAAAAIAAAAEBAAAgACAADAQgYADgCSDgAQAAAIIAACA9AEAAgAAAAEAAAAAAAAAAAEYAwAQALACGKBoAAAAAAAAAIAAAAAAAAAAAAAAAAAAAAAAAAAAAIABAABEAKAAAAAAAAAAAAAAAAAAAAAAAAAAEAIA/br%3D1/rs%3DACT90oHGF7C4pWJMVLN7APoSixDw-UKnJQ,_basecomb:/xjs/_/js/k%3Dxjs.hd.en.q75yPk7neeo.2018.O/ck%3Dxjs.hd.nYMoAlcMmsk.L.B1.O/am%3DAIJSgQAAAAAAAAAAEAAAAAAAAAAAAAAAAAAAAAAAAAAIAAAACAAAAAACAAQAAgAYoHCHAAAAADgIAEgBAAAAAAQAEQAAESACACAAAAAAAAQIYBAAAYAABDcFAAAEIEQAABgUAAAEAAQIEAAASYAUAECQBBgF_gyMwCRoSAAEBCAAAQAAGXABAIQAAIAAAAAAAAAAAAAAACAAACAAACAAAeAiCAGhAiDpADCgCAAAAJAAAAEBAAAgQCAADCQgYADgCSDgAQAAAIIAACA9AEAAgAAAAEAAAAAAAAAAAE4AwAwALACGKBoAAAAAAAAAOgAEHjCkoAAAAAAAAAAAAAAAAAAAIEBBMBcSKAgQAAAAAAAAAAAAAAAAAAAAAACENLHQ/d%3D1/ed%3D1/dg%3D0/br%3D1/ujg%3D1/rs%3DACT90oF30s68MVRuq7dK0fIGnPCkSYwaIQ,_fmt:prog,_id:_4tCVaNPKHc-j0PEPra3p8Qc_8\\x26sp_imghp\\x3dfalse\\x26sp_hpep\\x3d2\\x26sp_hpte\\x3d0',wfpe:false,wfve:false};var h={};'use strict';p.h=h;google.ia.q(p);})();\n",
            "     </script>\n",
            "    </div>\n",
            "    <div>\n",
            "     <div class=\"yp\" data-aipm=\"1\" data-async-type=\"hpba\" data-eaip=\"true\" data-ecom=\"true\" data-endpoint=\"1\" data-istweed=\"true\" data-jiis=\"up\" data-oaipm=\"0\" data-ved=\"0ahUKEwjTw8-UgPuOAxXPETQIHa1WOn4Qj-0KCBY\" id=\"_4tCVaNPKHc-j0PEPra3p8Qc_9\" jsaction=\"rcuQ6b:npT2md\" jscontroller=\"ms4mZb\" jsname=\"FAeNCb\">\n",
            "     </div>\n",
            "    </div>\n",
            "   </div>\n",
            "   <div jsaction=\"rcuQ6b:npT2md\" jscontroller=\"B2qlPe\" jsname=\"cgsKlb\">\n",
            "    <style>\n",
            "     .ceE3R{opacity:0.06;pointer-events:none}\n",
            "    </style>\n",
            "   </div>\n",
            "   <div class=\"o3j99\">\n",
            "    <div class=\"c93Gbe\" role=\"contentinfo\">\n",
            "     <style>\n",
            "      .c93Gbe{background:#f2f2f2}.uU7dJb{padding:15px 30px;border-bottom:1px solid var(--gS5jXb);font-size:15px;color:var(--YLNNHc);display:flex;flex-wrap:wrap;justify-content:space-between}.Wymece{justify-content:flex-end}.SSwjIe{padding:0 20px}.KxwPGc{display:flex;flex-wrap:wrap;justify-content:space-between}@media only screen and (max-width:1200px){.KxwPGc{justify-content:space-evenly}}.pHiOh{display:block;padding:15px;white-space:nowrap}.pHiOh,a.pHiOh{color:var(--YLNNHc)}.ktLKi{white-space:nowrap;vertical-align:top}.Pb9hCb{height:14px;margin-right:6px}.ssOUyb{order:2}@media only screen and (max-width:1200px){.ssOUyb{order:0;width:100%;justify-content:center}}.waLeGd .ssOUyb{order:0;width:100%;justify-content:center}.AghGtd{justify-content:flex-start;min-width:30%;order:1}.iTjxkf{justify-content:flex-end;min-width:30%;order:3}\n",
            "     </style>\n",
            "     <div class=\"KxwPGc SSwjIe\" data-sfe=\"true\" data-sfsw=\"1200\" jsaction=\"rcuQ6b:npT2md\" jscontroller=\"NzU6V\">\n",
            "      <div class=\"KxwPGc AghGtd\">\n",
            "       <a class=\"pHiOh\" href=\"https://www.google.com/intl/en_us/ads/?subid=ww-ww-et-g-awa-a-g_hpafoot1_1!o2&amp;utm_source=google.com&amp;utm_medium=referral&amp;utm_campaign=google_hpafooter&amp;fg=1\" ping=\"/url?sa=t&amp;rct=j&amp;source=webhp&amp;url=https://www.google.com/intl/en_us/ads/%3Fsubid%3Dww-ww-et-g-awa-a-g_hpafoot1_1!o2%26utm_source%3Dgoogle.com%26utm_medium%3Dreferral%26utm_campaign%3Dgoogle_hpafooter%26fg%3D1&amp;ved=0ahUKEwjTw8-UgPuOAxXPETQIHa1WOn4QkdQCCBc&amp;opi=89978449\">\n",
            "        Advertising\n",
            "       </a>\n",
            "       <a class=\"pHiOh\" href=\"https://www.google.com/services/?subid=ww-ww-et-g-awa-a-g_hpbfoot1_1!o2&amp;utm_source=google.com&amp;utm_medium=referral&amp;utm_campaign=google_hpbfooter&amp;fg=1\" ping=\"/url?sa=t&amp;rct=j&amp;source=webhp&amp;url=https://www.google.com/services/%3Fsubid%3Dww-ww-et-g-awa-a-g_hpbfoot1_1!o2%26utm_source%3Dgoogle.com%26utm_medium%3Dreferral%26utm_campaign%3Dgoogle_hpbfooter%26fg%3D1&amp;ved=0ahUKEwjTw8-UgPuOAxXPETQIHa1WOn4QktQCCBg&amp;opi=89978449\">\n",
            "        Business\n",
            "       </a>\n",
            "       <a class=\"pHiOh\" href=\"https://google.com/search/howsearchworks/?fg=1\">\n",
            "        How Search works\n",
            "       </a>\n",
            "      </div>\n",
            "      <div class=\"KxwPGc ssOUyb\">\n",
            "       <a class=\"pHiOh\" href=\"https://ai.google/societal-impact/?utm_source=googlehpfooter&amp;utm_medium=housepromos&amp;utm_campaign=bottom-footer\" ping=\"/url?sa=t&amp;rct=j&amp;source=webhp&amp;url=https://ai.google/societal-impact/%3Futm_source%3Dgooglehpfooter%26utm_medium%3Dhousepromos%26utm_campaign%3Dbottom-footer&amp;ved=0ahUKEwjTw8-UgPuOAxXPETQIHa1WOn4QiM8HCBk&amp;opi=89978449\">\n",
            "        <img alt=\"\" class=\"Pb9hCb\" src=\"data:image/png;base64,iVBORw0KGgoAAAANSUhEUgAAABUAAAAYCAMAAAAiV0Z6AAAAPFBMVEVLoEN0wU6CzFKCzFKCzFKCzFKCzFJSo0MSczNDmkCCzFJPoUMTczNdr0gmgziCzFITczMTczMTczMTczPh00jOAAAAFHRSTlPF/+bIsms8Ad///hX+//5/tXw7aMEAx10AAACaSURBVHgBbc4HDoRQCATQ33tbvf9dF9QxaCT9UQaltLHOh/golXKhMs5Xqa0xU1lyoa2fXFyQOsDG38qsLy4TaV+sFislovyhPzLJJrBu6eQOtpW0LjbJkzTuTDLRVNKa3uxJI+VdiRqXSeu6GW+Qxi29eLIi8H7EsYrT42BD+mQtNO5JMjRuC4lSY8V4hsLX0egGijvUSEP9AbylEsOkeCgWAAAAAElFTkSuQmCC\"/>\n",
            "        <span class=\"ktLKi\">\n",
            "         Applying AI towards science and the environment\n",
            "        </span>\n",
            "       </a>\n",
            "      </div>\n",
            "      <div class=\"KxwPGc iTjxkf\">\n",
            "       <a class=\"pHiOh\" href=\"https://policies.google.com/privacy?hl=en&amp;fg=1\" ping=\"/url?sa=t&amp;rct=j&amp;source=webhp&amp;url=https://policies.google.com/privacy%3Fhl%3Den%26fg%3D1&amp;ved=0ahUKEwjTw8-UgPuOAxXPETQIHa1WOn4Q8awCCBo&amp;opi=89978449\">\n",
            "        Privacy\n",
            "       </a>\n",
            "       <a class=\"pHiOh\" href=\"https://policies.google.com/terms?hl=en&amp;fg=1\" ping=\"/url?sa=t&amp;rct=j&amp;source=webhp&amp;url=https://policies.google.com/terms%3Fhl%3Den%26fg%3D1&amp;ved=0ahUKEwjTw8-UgPuOAxXPETQIHa1WOn4Q8qwCCBs&amp;opi=89978449\">\n",
            "        Terms\n",
            "       </a>\n",
            "       <span>\n",
            "        <style>\n",
            "         .ayzqOc:hover{text-decoration:underline}\n",
            "        </style>\n",
            "        <span data-ffp=\"false\" jsaction=\"KyPa0e:Y0y4c;wjOG7e:gDkf4c;\" jscontroller=\"nabPbb\">\n",
            "         <style>\n",
            "          .cF4V5c{background-color:var(--xhUGwc)}.cF4V5c g-menu-item{display:block;font-size:14px;line-height:23px;white-space:nowrap}.cF4V5c g-menu-item a,.cF4V5c .y0fQ9c{display:block;padding-top:4px;padding-bottom:4px;cursor:pointer}.cF4V5c g-menu-item a,.cF4V5c g-menu-item a:visited,.cF4V5c g-menu-item a:hover{text-decoration:inherit;color:inherit}\n",
            "         </style>\n",
            "         <g-popup jsaction=\"A05xBd:IYtByb;EOZ57e:WFrRFb;\" jscontroller=\"DPreE\" jsdata=\"mVjAjf;_;4tCVaNPKHc-j0PEPra3p8Qc3\" jsname=\"V68bde\">\n",
            "          <div aria-expanded=\"false\" aria-haspopup=\"true\" class=\"CcNe6e\" jsaction=\"WFrRFb;keydown:uYT2Vb\" jsname=\"oYxtQd\" role=\"button\" tabindex=\"0\">\n",
            "           <div aria-controls=\"_4tCVaNPKHc-j0PEPra3p8Qc_10\" aria-haspopup=\"true\" class=\"ayzqOc pHiOh\" jsname=\"LgbsSe\">\n",
            "            Settings\n",
            "           </div>\n",
            "          </div>\n",
            "          <div class=\"UjBGL pkWBse iRQHZe\" jsname=\"V68bde\" style=\"display:none;z-index:200\">\n",
            "           <g-menu class=\"cF4V5c yTik0 PBn44e iQXTJe wplJBd\" jsaction=\"PSl28c;focus:h06R8;keydown:uYT2Vb;mouseenter:WOQqYb;mouseleave:Tx5Rb;mouseover:IgJl9c\" jscontroller=\"WlNQGd\" jsname=\"xl07Ob\" role=\"menu\" tabindex=\"-1\">\n",
            "            <g-menu-item class=\"EpPYLd GZnQqe\" data-short-label=\"\" jscontroller=\"CnSW2d\" jsdata=\"zPXzie;_;4tCVaNPKHc-j0PEPra3p8Qc4\" jsname=\"NNJLud\" role=\"none\">\n",
            "             <div class=\"YpcDnf OSrXXb HG1dvd\" jsname=\"ibnC6b\" role=\"none\">\n",
            "              <a href=\"https://www.google.com/preferences?hl=en&amp;fg=1\" ping=\"/url?sa=t&amp;rct=j&amp;source=webhp&amp;url=https://www.google.com/preferences%3Fhl%3Den%26fg%3D1&amp;ved=0ahUKEwjTw8-UgPuOAxXPETQIHa1WOn4Qs4gOCB4&amp;opi=89978449\" role=\"menuitem\" tabindex=\"-1\">\n",
            "               Search settings\n",
            "              </a>\n",
            "             </div>\n",
            "            </g-menu-item>\n",
            "            <g-menu-item class=\"EpPYLd GZnQqe\" data-short-label=\"\" jscontroller=\"CnSW2d\" jsdata=\"zPXzie;_;4tCVaNPKHc-j0PEPra3p8Qc4\" jsname=\"NNJLud\" role=\"none\">\n",
            "             <div class=\"YpcDnf OSrXXb HG1dvd\" jsname=\"ibnC6b\" role=\"none\">\n",
            "              <a href=\"/advanced_search?hl=en&amp;fg=1\" ping=\"/url?sa=t&amp;rct=j&amp;source=webhp&amp;url=/advanced_search%3Fhl%3Den%26fg%3D1&amp;ved=0ahUKEwjTw8-UgPuOAxXPETQIHa1WOn4Q3ogOCB8&amp;opi=89978449\" role=\"menuitem\" tabindex=\"-1\">\n",
            "               Advanced search\n",
            "              </a>\n",
            "             </div>\n",
            "            </g-menu-item>\n",
            "            <g-menu-item class=\"EpPYLd GZnQqe\" data-short-label=\"\" jscontroller=\"CnSW2d\" jsdata=\"zPXzie;_;4tCVaNPKHc-j0PEPra3p8Qc4\" jsname=\"NNJLud\" role=\"none\">\n",
            "             <div class=\"YpcDnf OSrXXb HG1dvd\" jsname=\"ibnC6b\" role=\"none\">\n",
            "              <a href=\"/history/privacyadvisor/search/unauth?utm_source=googlemenu&amp;fg=1&amp;cctld=com\" ping=\"/url?sa=t&amp;rct=j&amp;source=webhp&amp;url=/history/privacyadvisor/search/unauth%3Futm_source%3Dgooglemenu%26fg%3D1%26cctld%3Dcom&amp;ved=0ahUKEwjTw8-UgPuOAxXPETQIHa1WOn4QgoYOCCA&amp;opi=89978449\" role=\"menuitem\" tabindex=\"-1\">\n",
            "               Your data in Search\n",
            "              </a>\n",
            "             </div>\n",
            "            </g-menu-item>\n",
            "            <g-menu-item class=\"EpPYLd GZnQqe\" data-short-label=\"\" jscontroller=\"CnSW2d\" jsdata=\"zPXzie;_;4tCVaNPKHc-j0PEPra3p8Qc4\" jsname=\"NNJLud\" role=\"none\">\n",
            "             <div class=\"YpcDnf OSrXXb HG1dvd\" jsname=\"ibnC6b\" role=\"none\">\n",
            "              <a href=\"/history/optout?hl=en&amp;fg=1\" ping=\"/url?sa=t&amp;rct=j&amp;source=webhp&amp;url=/history/optout%3Fhl%3Den%26fg%3D1&amp;ved=0ahUKEwjTw8-UgPuOAxXPETQIHa1WOn4Q4YgOCCE&amp;opi=89978449\" role=\"menuitem\" tabindex=\"-1\">\n",
            "               Search history\n",
            "              </a>\n",
            "             </div>\n",
            "            </g-menu-item>\n",
            "            <g-menu-item class=\"EpPYLd GZnQqe\" data-short-label=\"\" jscontroller=\"CnSW2d\" jsdata=\"zPXzie;_;4tCVaNPKHc-j0PEPra3p8Qc4\" jsname=\"NNJLud\" role=\"none\">\n",
            "             <div class=\"YpcDnf OSrXXb HG1dvd\" jsname=\"ibnC6b\" role=\"none\">\n",
            "              <a href=\"https://support.google.com/websearch/?p=ws_results_help&amp;hl=en&amp;fg=1\" ping=\"/url?sa=t&amp;rct=j&amp;source=webhp&amp;url=https://support.google.com/websearch/%3Fp%3Dws_results_help%26hl%3Den%26fg%3D1&amp;ved=0ahUKEwjTw8-UgPuOAxXPETQIHa1WOn4Q4IgOCCI&amp;opi=89978449\" role=\"menuitem\" tabindex=\"-1\">\n",
            "               Search help\n",
            "              </a>\n",
            "             </div>\n",
            "            </g-menu-item>\n",
            "            <g-menu-item class=\"EpPYLd GZnQqe\" data-short-label=\"\" jscontroller=\"CnSW2d\" jsdata=\"zPXzie;_;4tCVaNPKHc-j0PEPra3p8Qc4\" jsname=\"NNJLud\" role=\"none\">\n",
            "             <div class=\"YpcDnf OSrXXb HG1dvd\" jsname=\"ibnC6b\" role=\"none\">\n",
            "              <span data-bucket=\"websearch\" data-ved=\"0ahUKEwjTw8-UgPuOAxXPETQIHa1WOn4Q4ogOCCM\" jsaction=\"IevYAd\" jscontroller=\"nRwWne\" role=\"menuitem\" tabindex=\"-1\">\n",
            "               Send feedback\n",
            "              </span>\n",
            "             </div>\n",
            "            </g-menu-item>\n",
            "            <g-menu-item aria-hidden=\"true\" class=\"EpPYLd GZnQqe LGiluc\" data-short-label=\"\" jscontroller=\"CnSW2d\" jsdata=\"zPXzie;_;4tCVaNPKHc-j0PEPra3p8Qc5\" jsname=\"NNJLud\" role=\"separator\">\n",
            "            </g-menu-item>\n",
            "            <g-menu-item class=\"EpPYLd GZnQqe\" data-short-label=\"\" jscontroller=\"CnSW2d\" jsdata=\"zPXzie;_;4tCVaNPKHc-j0PEPra3p8Qc4\" jsname=\"NNJLud\" role=\"none\">\n",
            "             <div class=\"YpcDnf OSrXXb HG1dvd\" jsname=\"ibnC6b\" role=\"none\">\n",
            "              <div class=\"y0fQ9c\" data-spl=\"/setprefs?hl=en&amp;prev=https://www.google.com/?pccc%3D1&amp;sig=0_PV3Qm3xmcFCVhLCTBc39BbAVNVA%3D&amp;cs=2\" id=\"YUIDDb\" role=\"menuitem\" tabindex=\"-1\">\n",
            "               <style>\n",
            "                .tFYjZe{align-items:center;display:flex;justify-content:space-between;padding-bottom:4px;padding-top:4px}.tFYjZe:hover .iOHNLb,.tFYjZe:focus .iOHNLb{opacity:1}.iOHNLb{color:var(--IXoxUe);height:20px;margin-top:-2px;opacity:0;width:20px}\n",
            "               </style>\n",
            "               <div class=\"tFYjZe\" data-spt=\"1\" data-ved=\"0ahUKEwjTw8-UgPuOAxXPETQIHa1WOn4QqsEHCCQ\" jsaction=\"ok5gFc\" jscontroller=\"fXO0xe\" role=\"link\" tabindex=\"0\">\n",
            "                Dark theme: Off\n",
            "                <div class=\"iOHNLb\">\n",
            "                 <span class=\"z1asCe aqvxcd\" style=\"height:20px;line-height:20px;width:20px\">\n",
            "                  <svg enable-background=\"new 0 0 24 24\" focusable=\"false\" height=\"24\" viewbox=\"0 0 24 24\" width=\"24\" xmlns=\"http://www.w3.org/2000/svg\">\n",
            "                   <rect fill=\"none\" height=\"24\" width=\"24\">\n",
            "                   </rect>\n",
            "                   <path d=\"M12,7c-2.76,0-5,2.24-5,5s2.24,5,5,5s5-2.24,5-5S14.76,7,12,7L12,7z M2,13l2,0c0.55,0,1-0.45,1-1s-0.45-1-1-1l-2,0 c-0.55,0-1,0.45-1,1S1.45,13,2,13z M20,13l2,0c0.55,0,1-0.45,1-1s-0.45-1-1-1l-2,0c-0.55,0-1,0.45-1,1S19.45,13,20,13z M11,2v2 c0,0.55,0.45,1,1,1s1-0.45,1-1V2c0-0.55-0.45-1-1-1S11,1.45,11,2z M11,20v2c0,0.55,0.45,1,1,1s1-0.45,1-1v-2c0-0.55-0.45-1-1-1 C11.45,19,11,19.45,11,20z M5.99,4.58c-0.39-0.39-1.03-0.39-1.41,0c-0.39,0.39-0.39,1.03,0,1.41l1.06,1.06 c0.39,0.39,1.03,0.39,1.41,0s0.39-1.03,0-1.41L5.99,4.58z M18.36,16.95c-0.39-0.39-1.03-0.39-1.41,0c-0.39,0.39-0.39,1.03,0,1.41 l1.06,1.06c0.39,0.39,1.03,0.39,1.41,0c0.39-0.39,0.39-1.03,0-1.41L18.36,16.95z M19.42,5.99c0.39-0.39,0.39-1.03,0-1.41 c-0.39-0.39-1.03-0.39-1.41,0l-1.06,1.06c-0.39,0.39-0.39,1.03,0,1.41s1.03,0.39,1.41,0L19.42,5.99z M7.05,18.36 c0.39-0.39,0.39-1.03,0-1.41c-0.39-0.39-1.03-0.39-1.41,0l-1.06,1.06c-0.39,0.39-0.39,1.03,0,1.41s1.03,0.39,1.41,0L7.05,18.36z\">\n",
            "                   </path>\n",
            "                  </svg>\n",
            "                 </span>\n",
            "                </div>\n",
            "               </div>\n",
            "              </div>\n",
            "             </div>\n",
            "            </g-menu-item>\n",
            "           </g-menu>\n",
            "          </div>\n",
            "         </g-popup>\n",
            "        </span>\n",
            "       </span>\n",
            "      </div>\n",
            "     </div>\n",
            "     <div data-pcon=\"-1\" data-pcs=\"0\" jsaction=\"rcuQ6b:npT2md\" jscontroller=\"zGLm3b\" style=\"display:none\">\n",
            "     </div>\n",
            "    </div>\n",
            "   </div>\n",
            "  </div>\n",
            "  <div class=\"Fgvgjc\">\n",
            "   <style>\n",
            "    .Fgvgjc{height:0;overflow:hidden}\n",
            "   </style>\n",
            "   <div class=\"gTMtLb fp-nh\" id=\"lb\">\n",
            "    <style>\n",
            "     .gTMtLb{z-index:1001;position:absolute;top:-1000px}\n",
            "    </style>\n",
            "   </div>\n",
            "   <span style=\"display:none\">\n",
            "    <span data-atsd=\"10\" data-db=\"1\" data-mmcnt=\"100\" jsaction=\"rcuQ6b:npT2md\" jscontroller=\"DhPYme\" style=\"display:none\">\n",
            "    </span>\n",
            "   </span>\n",
            "   <script nonce=\"seEIYS-aqm2GK6ZAaub1Ew\">\n",
            "    ;this.gbar_={CONFIG:[[[0,\"www.gstatic.com\",\"og.asy.en_US.gj5gChImd9g.2019.O\",\"com\",\"en\",\"538\",null,null,null,null,null,null,\"og.asy.CkQFH63_4gI.L.W.O\",\"AA2YrTuFIGoh6JxiC5qzW1oKnpWzme10og\",\"AA2YrTvGYOqmiGMk_fDQHBe8bqDJs4CmqA\",\"\",null,null,null,null,null,null,\"1\",\"538\",null,null,null,89978449,null,0],[[null,null,null,\"https://www.gstatic.com/og/_/js/k=og.asy.en_US.gj5gChImd9g.2019.O/rt=j/m=_ac,_awd,ada,lldp,qads,abld/exm=/d=1/ed=1/rs=AA2YrTuFIGoh6JxiC5qzW1oKnpWzme10og\"],[null,null,null,\"https://www.gstatic.com/og/_/ss/k=og.asy.CkQFH63_4gI.L.W.O/m=ll_tdm,adcgm3,ll_fw,abld/excm=/d=1/ed=1/ct=zgms/rs=AA2YrTvGYOqmiGMk_fDQHBe8bqDJs4CmqA\"]],[1,null,null,40400,538,\"USA\",\"en\",\"790529195.0\",19,null,0,0,null,null,null,null,\"3700949,3701384,102772546,105071013,105071015\",null,null,null,\"4tCVaN62HvrP0PEPjp-x4AI\",1,0,0,null,2,5,\"pw\",172,0,0,null,null,1,89978449,1,0],[0,0,0,null,\"\",\"\",\"\",\"\",0,0,0,\"\"],[[[null,null,[null,null,null,\"https://ogs.google.com/widget/callout?prid=19046229\\u0026pgid=19046228\\u0026puid=2e6b2513ec221596\\u0026eom=1\\u0026cce=1\\u0026dc=1\"],0,280,420,70,25,0,null,0,null,null,8000,null,71,3,null,[19046229,19046228,\"\",1,5,\"AN2NJM5EUdV7g_efuTV4oy6gi3SOkBQu2g:1754648802501\",\"\",0,2592000,\"2e6b2513ec221596\",0,2,0,\"https://www.google.com/url?q=https://accounts.google.com/signin/v2/identifier%3Fec%3Dfutura_hpp_co_si_001_p%26continue%3Dhttps%253A%252F%252Fwww.google.com%252F%253Fptid%253D19027681%2526ptt%253D8%2526fpts%253D0\\u0026source=hpp\\u0026id=19046229\\u0026ct=7\\u0026usg=AOvVaw33MBGJMT3TA0n4WMEDSPEO\",\"https://www.google.com/_/og/promos/\",0,0,0,0,0,0,0,89978449,1,2],0,null,null,null,0,null,76,null,null,null,107,108,109,\"\",null,null,null,0,null,null,null,null,null,null,null,null,null,null,null,null,null,null,null,null,1],[null,null,[null,null,null,\"https://ogs.google.com/widget/app/so?eom=1\\u0026awwd=1\\u0026dpi=89978449\"],0,470,370,54,27,1,0,0,63,64,8000,\"https://www.google.com/intl/en/about/products\",67,1,69,null,1,70,\"Can't seem to load the app launcher right now. Try again or go to the %1$sGoogle Products%2$s page.\",3,0,0,74,0,null,null,null,null,null,null,null,\"/widget/app/so\",null,null,null,null,null,null,null,0,null,null,null,null,null,null,null,null,null,null,1,null,144,null,null,3,0,0,0,0,\"(opens a new tab)\"],[null,null,[null,null,null,\"https://ogs.google.com/widget/callout?eom=1\\u0026dc=1\"],null,280,420,70,25,0,null,0,null,null,8000,null,71,4,null,null,null,null,null,null,null,null,76,null,null,null,107,108,109,\"\",null,null,null,null,null,null,null,null,null,null,null,null,null,null,null,null,null,null,null,null,1]],null,null,\"1\",\"538\",0,0,null,\"en\",0,null,0,0,0,[null,\"\",null,null,null,0,null,0,0,\"\",\"\",\"\",\"https://ogads-pa.clients6.google.com\",0,0,0,\"\",\"\",0,0,null,86400,null,1,null,null,0,null,0,0,\"8559284470\",0,0,1],1,null,null,null,1,0,\"\",0],null,null,[0.009999999776482582,\"com\",\"538\",[[\"19046229\",\"19046228\",\"7\",1,5,2592000,\"\",\"AN2NJM5EUdV7g_efuTV4oy6gi3SOkBQu2g:1754648802501\",0,1,2,\"https://www.google.com/_/og/promos/\",0],\"n\",\"\",[\"\",\"\",\"\"],1,2592000,null,null,\"https://www.google.com/url?q=https://accounts.google.com/signin/v2/identifier%3Fec%3Dfutura_hpp_co_si_001_p%26continue%3Dhttps%253A%252F%252Fwww.google.com%252F%253Fptid%253D19027681%2526ptt%253D8%2526fpts%253D0\\u0026source=hpp\\u0026id=19046229\\u0026ct=7\\u0026usg=AOvVaw33MBGJMT3TA0n4WMEDSPEO\",null,null,null,null,null,1,null,0,null,1,0,0,0,null,null,0,0,null,0,0,0,0,1],null,null,null,0]]]};\n",
            "   </script>\n",
            "   <div>\n",
            "    <div class=\"gb_L\">\n",
            "     Google apps\n",
            "    </div>\n",
            "    <script async=\"\" nonce=\"seEIYS-aqm2GK6ZAaub1Ew\" src=\"https://www.gstatic.com/og/_/js/k=og.asy.en_US.gj5gChImd9g.2019.O/rt=j/m=_ac,_awd,ada,lldp,qads,abld/exm=/d=1/ed=1/rs=AA2YrTuFIGoh6JxiC5qzW1oKnpWzme10og\">\n",
            "    </script>\n",
            "    <link href=\"https://www.gstatic.com/og/_/ss/k=og.asy.CkQFH63_4gI.L.W.O/m=ll_tdm,adcgm3,ll_fw,abld/excm=/d=1/ed=1/ct=zgms/rs=AA2YrTvGYOqmiGMk_fDQHBe8bqDJs4CmqA\" id=\"ogb_ss\" media=\"print\" nonce=\"seEIYS-aqm2GK6ZAaub1Ew\" rel=\"stylesheet\"/>\n",
            "    <script nonce=\"seEIYS-aqm2GK6ZAaub1Ew\">\n",
            "     const linkEl = document.getElementById('ogb_ss');linkEl.onload = ()=> {linkEl.media = 'all'};linkEl.removeAttribute('id');\n",
            "    </script>\n",
            "   </div>\n",
            "   <div data-ved=\"0ahUKEwjTw8-UgPuOAxXPETQIHa1WOn4QuqMJCCU\" jsaction=\"rcuQ6b:npT2md\" jscontroller=\"KHourd\" jsdata=\"C4mkuf;_;4tCVaNPKHc-j0PEPra3p8Qc6\" style=\"display:'none'\">\n",
            "   </div>\n",
            "  </div>\n",
            "  <textarea class=\"csi\" name=\"csi\" style=\"display:none\"></textarea>\n",
            "  <script nonce=\"seEIYS-aqm2GK6ZAaub1Ew\">\n",
            "   (function(){function a(c,d){google.c.e(\"load\",c,String(d))};window.google=window.google||{};google.c.iim=google.c.iim||{};var b=Date.now();google.tick(\"load\",\"prt\",b,\"SearchBodyEnd\");a(\"imn\",document.getElementsByTagName(\"img\").length);a(\"dtc\",document.getElementsByTagName(\"div\").length);a(\"stc\",document.getElementsByTagName(\"span\").length);google.c.ub?google.c.ub():google.c.ubf&&google.c.u(\"frt\");google.c.cae||google.c.maft(b,null);google.c.miml(b);google.c.u(\"prt\");}).call(this);(function(){window.google=window.google||{};window.google.ishk=[];function a(){return window.scrollY+window.document.documentElement.clientHeight>=Math.max(document.body.scrollHeight,document.body.offsetHeight)}function b(){a()&&window.google.ishk.length===0&&(window.google.bs=!0,window.removeEventListener(\"scroll\",b))}a()?window.google.bs=!0:(window.google.bs=!1,window.addEventListener(\"scroll\",b));}).call(this);(function(){google.jl={bfl:0,dw:false,eli:false,ine:false,ubm:false,uwp:true,vs:false};})();(function(){var pmc='{\\x22aa\\x22:{},\\x22abd\\x22:{\\x22abd\\x22:false,\\x22deb\\x22:false,\\x22det\\x22:false},\\x22async\\x22:{},\\x22cdos\\x22:{\\x22cdobsel\\x22:false},\\x22csi\\x22:{},\\x22d\\x22:{},\\x22hsm\\x22:{},\\x22ifl\\x22:{\\x22lsf_is_launched\\x22:true,\\x22opts\\x22:[{\\x22href\\x22:\\x22/search?q\\x3dkeming\\\\u0026csf\\x3db\\x22,\\x22id\\x22:\\x22curious\\x22,\\x22msg\\x22:\\x22I\\x27m Feeling Curious\\x22},{\\x22href\\x22:\\x22/search?q\\x3dice+cream+near+me\\x22,\\x22id\\x22:\\x22hungry\\x22,\\x22msg\\x22:\\x22I\\x27m Feeling Hungry\\x22},{\\x22href\\x22:\\x22/search?q\\x3dflip+a+coin\\\\u0026csf\\x3db\\x22,\\x22id\\x22:\\x22adventurous\\x22,\\x22msg\\x22:\\x22I\\x27m Feeling Adventurous\\x22},{\\x22href\\x22:\\x22/search?q\\x3dearth+day+quiz\\\\u0026csf\\x3db\\x22,\\x22id\\x22:\\x22playful\\x22,\\x22msg\\x22:\\x22I\\x27m Feeling Playful\\x22},{\\x22href\\x22:\\x22/url?url\\x3dhttps://www.google.com/search?q%3Dreflection%2Bnebula%26um%3D1%26ie%3DUTF-8%26tbm%3Disch%26csf%3Db\\x22,\\x22id\\x22:\\x22stellar\\x22,\\x22msg\\x22:\\x22I\\x27m Feeling Stellar\\x22},{\\x22href\\x22:\\x22/url?url\\x3d/doodles\\x22,\\x22id\\x22:\\x22doodley\\x22,\\x22msg\\x22:\\x22I\\x27m Feeling Doodley\\x22},{\\x22href\\x22:\\x22/url?url\\x3dhttps://trends.google.com/hottrends\\\\u0026sa\\x3dt\\\\u0026usg\\x3dAOvVaw0hXgzDMTx66unZaN8ANJHA\\x22,\\x22id\\x22:\\x22trendy\\x22,\\x22msg\\x22:\\x22I\\x27m Feeling Trendy\\x22},{\\x22href\\x22:\\x22/search?q\\x3dbest+art+of+all+time\\\\u0026csf\\x3db\\x22,\\x22id\\x22:\\x22artistic\\x22,\\x22msg\\x22:\\x22I\\x27m Feeling Artistic\\x22},{\\x22href\\x22:\\x22/search?q\\x3dfriends+chandler\\\\u0026csf\\x3db\\x22,\\x22id\\x22:\\x22funny\\x22,\\x22msg\\x22:\\x22I\\x27m Feeling Funny\\x22}]},\\x22jsa\\x22:{\\x22csi\\x22:true,\\x22csir\\x22:100},\\x22mb4ZUb\\x22:{},\\x22pHXghd\\x22:{},\\x22sb_wiz\\x22:{\\x22rfs\\x22:[],\\x22scq\\x22:\\x22\\x22,\\x22stok\\x22:\\x22RXvFlQ0aH1Z35Js8i7a4sCMwuW4\\x22},\\x22sonic\\x22:{},\\x22spch\\x22:{\\x22ae\\x22:\\x22Please check your microphone.  \\\\u003Ca href\\x3d\\\\\\x22https://support.google.com/chrome/?p\\x3dui_voice_search\\\\\\x22 target\\x3d\\\\\\x22_blank\\\\\\x22\\\\u003ELearn more\\\\u003C/a\\\\u003E\\x22,\\x22ak\\x22:\\x22\\x22,\\x22cd\\x22:0,\\x22fp\\x22:true,\\x22hl\\x22:\\x22en-US\\x22,\\x22im\\x22:\\x22Click \\\\u003Cb\\\\u003EAllow\\\\u003C/b\\\\u003E to start voice search\\x22,\\x22iw\\x22:\\x22Waiting...\\x22,\\x22lm\\x22:\\x22Listening...\\x22,\\x22lu\\x22:\\x22%1$s voice search not available\\x22,\\x22mb\\x22:false,\\x22ne\\x22:\\x22No Internet connection\\x22,\\x22nt\\x22:\\x22Didn\\x27t get that. \\\\u003Cspan\\\\u003ETry again\\\\u003C/span\\\\u003E\\x22,\\x22nv\\x22:\\x22Please check your microphone and audio levels.  \\\\u003Ca href\\x3d\\\\\\x22https://support.google.com/chrome/?p\\x3dui_voice_search\\\\\\x22 target\\x3d\\\\\\x22_blank\\\\\\x22\\\\u003ELearn more\\\\u003C/a\\\\u003E\\x22,\\x22pe\\x22:\\x22Voice search has been turned off.  \\\\u003Ca href\\x3d\\\\\\x22https://support.google.com/chrome/?p\\x3dui_voice_search\\\\\\x22 target\\x3d\\\\\\x22_blank\\\\\\x22\\\\u003EDetails\\\\u003C/a\\\\u003E\\x22,\\x22ri\\x22:false,\\x22rm\\x22:\\x22Speak now\\x22,\\x22s3\\x22:false}}';google.pmc=JSON.parse(pmc);})();(function(){var r=['sb_wiz','aa','abd','async','ifl','pHXghd','sonic','spch'];google.plm(r);})();(function(){var m={\"4tCVaNPKHc-j0PEPra3p8Qc1\":[\"gws-wiz\",\"\",\"\",\"\",1,0,0,13,\"en\",\"\",\"4tCVaNPKHc-j0PEPra3p8Qc\",0,\"en\",null,null,null,3,15,-1,null,\"89978449\",1,0,1800000,1,6,0,1,0,1,1,null,null,1,1,null,\"\",null,0,null,0,null,1,null,1,0,1,null,[\"gws-wiz-modeless-local\",\"\",\"\"],[\"img\",\"gws-wiz-img\",\"i\"],[\"gws-wiz-modeless-products\",\"\",\"sh\"],[\"gws-wiz-modeless-lodging\",\"\",\"\"],[\"gws-wiz-modeless-flights\",\"\",\"\"],1,null,null,[\"gws-wiz-modeless-vss-products\",\"\",\"\"],[\"gws-wiz-modeless-vss-jobs\",\"\",\"\"],[\"gws-wiz-modeless-vss-local-travel\",\"\",\"\"],[\"gws-wiz-modeless-video\",\"\",\"v\"],[\"gws-wiz-modeless-jobs\",\"\",\"\"],[\"gws-wiz-modeless-vss-flights\",\"\",\"\"],[\"gws-wiz-modeless\",\"\",\"\"],[\"gws-wiz-modeless-shopping\",\"\",\"sh\"],null,null,0,[\"multimodal-lens-web\",\"\",\"\"],null,0,0,[\"gws-wiz-modeless-forums\",\"\",\"\"],[\"gws-wiz-modeless-short-videos\",\"\",\"\"],null,[\"gws-wiz-modeless-web-only\",\"\",\"\"],0],\"4tCVaNPKHc-j0PEPra3p8Qc2\":[null,null,null,\"autocomplete_user_feedback_kp_id\",null,11,null,null,null,null,null,5010715,\"searchbox\",null,\"AutocompletePrediction\",null,null,null,null,11],\"4tCVaNPKHc-j0PEPra3p8Qc3\":[3,6,null,null,1,1,0,0,0,0,0,0,0,0],\"4tCVaNPKHc-j0PEPra3p8Qc4\":[\"\",6,0],\"4tCVaNPKHc-j0PEPra3p8Qc5\":[\"\",4,0],\"4tCVaNPKHc-j0PEPra3p8Qc6\":[null,null,null,null,null,null,null,null,null,null,3,null,null,null,null,null,null,null,null,null,0,null,null,null,null,null,null,null,null,null,null,null,null,null,null,null,null,null,null,null,null,null,null,1,null,null,null,null,null,null,null,null,null,null,null,null,null,null,null,null,1,1,null,null,null,null,null,null,null,null,null,\"UNKNOWN_BROWSER\"]};var a=m;if(window.W_jd)for(var b in a)window.W_jd[b]=a[b];else window.W_jd=a;})();(function(){window.WIZ_global_data={\"Im6cmf\":\"/wizrpcui/_/WizRpcUi\",\"Yllh3e\":\"%.@.1754648802484691,137630159,2117752493]\",\"w2btAe\":\"%.@.null,null,\\\"0\\\",null,null,null,1]\",\"SNlM0e\":\"\",\"GWsdKe\":\"en-US\",\"d2zrDf\":\"%.@.]\",\"ocxFnb\":\"%.@.]\",\"zChJod\":\"%.@.]\",\"STfaRd\":\"{}\",\"LVIXXb\":\"1\",\"S06Grb\":\"\",\"QrtxK\":\"0\",\"S6lZl\":\"89978449\",\"oxN3nb\":{\"1\":false},\"eptZe\":\"/wizrpcui/_/WizRpcUi/\",\"Ylvpqb\":\"%.@.\\\"multimodal-image-viewer\\\",null,null,null,1,null,null,null,null,null,null,null,\\\"en-US\\\",\\\"https://www.google.com\\\",null,1,null,null,null,null,null,1,null,null,null,null,null,null,null,null,null,null,null,null,null,null,null,null,null,null,null,null,null,1,null,null,null,null,null,null,null,null,null,null,0]\"};window.IJ_values={\"A5tF3b\":false,\"zhkRO\":\"%.@.0,0,0,0,1,0,0,0,null,null,null,0,null,null,0,1,0,\\\"/setprefs?sig\\\\u003d0_PV3Qm3xmcFCVhLCTBc39BbAVNVA%3D\\\\u0026szl\\\\u003d0\\\",0,1,0]\",\"w2btAe\":\"%.@.null,null,\\\"0\\\",null,null,null,1]\",\"ea2VK\":\"%.@.1,1]\",\"pxO4Zd\":\"0\",\"mXOY5d\":\"%.@.null,1,1,null,[null,757,1440]]\",\"SsQ4x\":\"seEIYS-aqm2GK6ZAaub1Ew\",\"Ht1O2b\":\"%.@.0]\",\"d6J1ld\":\"%.@.0]\",\"nfxEDe\":\"%.@.[],0,null,0]\",\"auIt8\":\"%.@.0,0]\",\"MuJWjd\":false,\"GWsdKe\":\"en-US\",\"N1ycab\":\"en_US\",\"BZUDzc\":\"%.@.0,\\\"14px\\\",\\\"500\\\",null,\\\"0 1px 1px rgba(0,0,0,.16)\\\",\\\"pointer\\\",null,null,null,\\\"#202124\\\",null,null,null,\\\"rgba(112,117,122,.40)\\\",\\\"#34a853\\\",\\\"#4285f4\\\",null,null,\\\"#fbbc04\\\",null,null,null,\\\"#34a853\\\",null,null,null,null,null,\\\"#202124\\\",null,null,0]\",\"MgUcDb\":\"US\",\"SIsrTd\":false,\"fyLpDc\":\"\",\"JPnTp\":\"%.@.\\\"#f1f3f4\\\",\\\"36px\\\"]\",\"ZxtPCd\":\"%.@.{\\\"100\\\":\\\"12px\\\",\\\"101\\\":\\\"8px\\\",\\\"102\\\":\\\"8px\\\",\\\"103\\\":\\\"10px\\\",\\\"104\\\":\\\"9px\\\"}]\",\"DwYRY\":\"%.@.\\\"#1967d2\\\",\\\"32px\\\",null,null,\\\"var(--bbQxAb)\\\",\\\"var(--mXZkqc)\\\",\\\"transparent\\\",null,null,\\\"#d2d2d261\\\",\\\"#47474761\\\",\\\"#1f1f1f33\\\",\\\"#1f1f1f33\\\",\\\"#1f1f1f66\\\",\\\"#0b57d015\\\",\\\"#0b57d015\\\",\\\"#0b57d039\\\",\\\"#0b57d015\\\",\\\"#0b57d015\\\",\\\"#0b57d039\\\",\\\"#0b57d015\\\",\\\"#0b57d015\\\",\\\"#0b57d039\\\",\\\"#001d3533\\\",\\\"#001d3539\\\",\\\"#001d3566\\\",\\\"rgba(31,31,31,0.08)\\\",\\\"rgba(31,31,31,0.078431375)\\\",\\\"rgba(31,31,31,0.23921569)\\\"]\",\"NyzCwe\":\"%.@.null,null,null,null,null,null,null,null,null,null,null,null,null,null,null,null,null,null,null,null,null,null,null,\\\"18px\\\",\\\"20px\\\",\\\"18px\\\",\\\"#202124\\\",\\\"16px\\\",\\\"var(--IXoxUe)\\\",\\\"var(--YLNNHc)\\\",\\\"var(--YLNNHc)\\\",\\\"var(--IXoxUe)\\\"]\",\"spz2q\":\"%.@.\\\"var(--xhUGwc)\\\",null,null,null,null,\\\"0px\\\"]\",\"geiQxc\":\"%.@.\\\"234px\\\",\\\"176px\\\",\\\"204px\\\",\\\"172px\\\",\\\"128px\\\",\\\"148px\\\",\\\"111px\\\",\\\"83px\\\",\\\"92px\\\"]\",\"xFmcof\":\"%.@.null,null,null,\\\"20px\\\",null,\\\"12px\\\"]\",\"lDqiof\":\"%.@.\\\"var(--YLNNHc)\\\",\\\"var(--bbQxAb)\\\",\\\"var(--rrJJUc)\\\",null,\\\"var(--IXoxUe)\\\",\\\"var(--JKqx2)\\\",\\\"#681da8\\\",null,null,\\\"var(--xhUGwc)\\\",\\\"var(--Nsm0ce)\\\",\\\"var(--EpFNW)\\\",\\\"#e8f0fe\\\",\\\"#001d35\\\",\\\"#f1f3f4\\\",\\\"#1f1f1f\\\",\\\"#fff\\\",\\\"#1f1f1f\\\",\\\"#1f1f1f\\\",\\\"#fff\\\",\\\"#fff\\\",\\\"#fff\\\",\\\"#146c2e\\\",\\\"#b3261e\\\",\\\"#b06000\\\",\\\"var(--mXZkqc)\\\",\\\"#fff\\\",\\\"rgba(0,0,0,0.6)\\\",null,\\\"var(--gS5jXb)\\\",\\\"#d2e3fc\\\",null,\\\"var(--TMYS9)\\\",\\\"var(--IXoxUe)\\\",null,\\\"transparent\\\",\\\"#dadce0\\\",\\\"rgba(0,0,0,0.03)\\\",null,null,null,null,null,null,null,null,null,\\\"#ea4335\\\",\\\"#34a853\\\",\\\"#4285f4\\\",\\\"#fbbc04\\\",\\\"var(--ywz01c)\\\",\\\"#dadce0\\\",\\\"#f3f5f6\\\",null,null,null,null,\\\"#e8f0fe\\\",\\\"var(--XKMDxc)\\\",\\\"var(--aYn2S)\\\",null,\\\"var(--Aqn7xd)\\\",null,\\\"#b3261e\\\",\\\"#f9dedc\\\",\\\"#ffdf92\\\",\\\"#f4bf00\\\",\\\"#fff\\\",\\\"#410e0b\\\",\\\"#241a00\\\",\\\"#241a00\\\",\\\"#fff\\\",\\\"#072711\\\",\\\"#b3261e\\\",\\\"#146c2e\\\",\\\"#146c2e\\\",\\\"#c4eed0\\\",\\\"var(--nwXobb)\\\",\\\"var(--vZe0jb)\\\",\\\"var(--QWaaaf)\\\",\\\"var(--ZEpPmd)\\\",\\\"#a9acaa\\\",\\\"var(--Lm570b)\\\",\\\"#fff\\\",\\\"var(--jINu6c)\\\",\\\"var(--BRLwE)\\\",\\\"var(--DEeStf)\\\",\\\"var(--TSWZIb)\\\",\\\"var(--uLz37c)\\\",null,\\\"#545d7e\\\",\\\"var(--TyVYld)\\\",null,null,null,null,\\\"var(--VuZXBd)\\\",\\\"rgba(23,23,23,0.75)\\\",{\\\"100\\\":\\\"rgba(248,249,250,0.96)\\\",\\\"101\\\":\\\"rgba(255,255,255,0.8)\\\",\\\"102\\\":\\\"rgba(60,64,67,0.16)\\\",\\\"103\\\":\\\"#1967d2\\\",\\\"104\\\":\\\"#202124\\\",\\\"105\\\":\\\"#f1f3f4\\\",\\\"106\\\":\\\"#f1f3f4\\\",\\\"107\\\":\\\"var(--BRLwE)\\\",\\\"108\\\":\\\"var(--jINu6c)\\\",\\\"109\\\":\\\"var(--Xqboce)\\\",\\\"110\\\":\\\"var(--vdwxpe)\\\",\\\"111\\\":\\\"#1f1f1f\\\"}]\",\"Gpnz4c\":\"%.@.null,null,null,\\\"#0b57d0\\\",\\\"#747878\\\",\\\"#001d35\\\",null,\\\"#ebf1ff\\\",\\\"#001d35\\\",\\\"#d3e3fd\\\",\\\"#fff\\\",\\\"#5e5e5e\\\",\\\"#474747\\\",\\\"#1f1f1f\\\",\\\"#1a0dab\\\",\\\"#d2d2d2\\\",null,\\\"#0b57d0\\\",\\\"#a3c9ff\\\",\\\"#001d35\\\",\\\"#ecedee\\\",\\\"#f7f8f9\\\",\\\"#fff\\\",null,\\\"#f7f8f9\\\",null,\\\"#f5f8ff\\\",\\\"#d3e3ff\\\",\\\"#a3c9ff\\\",null,\\\"#f5f8ff\\\",\\\"#0b57d0\\\",\\\"#545d7e\\\",\\\"#001d35\\\",null,\\\"#ebf1ff\\\",\\\"#001d35\\\",\\\"#c7dbff\\\",\\\"#fff\\\",null,\\\"#545d7e\\\",\\\"#001d35\\\",\\\"#001d35\\\",\\\"#0b57d0\\\",\\\"#a3c9ff\\\",\\\"#0b57d0\\\",null,\\\"rgba(0,0,0,.6)\\\",\\\"#a3c5ff\\\",\\\"#001d35\\\",\\\"#fff\\\",\\\"#f5f8ff\\\",\\\"#e5edff\\\",\\\"#ecedee\\\",\\\"#446eff\\\",null,\\\"#c8ecff\\\"]\",\"kXVUzd\":\"%.@.\\\"40px\\\",\\\"48px\\\"]\",\"sCU50d\":\"%.@.null,\\\"none\\\",null,\\\"0px 1px 3px rgba(60,64,67,0.08)\\\",null,\\\"0px 2px 6px rgba(60,64,67,0.16)\\\",null,\\\"0px 4px 12px rgba(60,64,67,0.24)\\\",null,null,\\\"1px solid var(--mXZkqc)\\\",\\\"0\\\",\\\"0\\\",\\\"0\\\",null,\\\"0px 1px 3px rgba(60,64,67,0.24)\\\",\\\"0\\\"]\",\"w9Zicc\":\"%.@.\\\"#f1f3f4\\\",\\\"26px\\\",\\\"#e2eeff\\\",\\\"#0060f0\\\",\\\"#e2eeff\\\",\\\"1px\\\",\\\"#dadce0\\\",\\\"1px\\\",\\\"#fff\\\",\\\"#dadce0\\\",null,null,null,null,null,null,null,null,null,null,null,null,null,null,null,null,null,null,null,null,null,\\\"28px\\\",\\\"10px\\\",\\\"8px\\\",\\\"20px\\\",\\\"10px\\\",\\\"var(--XKMDxc)\\\",\\\"var(--mXZkqc)\\\",\\\"#fff\\\",\\\"var(--TSWZIb)\\\",\\\"var(--TMYS9)\\\",\\\"var(--TSWZIb)\\\",\\\"var(--TMYS9)\\\"]\",\"IkSsrf\":\"%.@.\\\"Google Sans,Roboto,Arial,sans-serif\\\",\\\"Google Sans,Roboto,Arial,sans-serif\\\",\\\"Roboto,Arial,sans-serif\\\",\\\"Roboto,Arial,sans-serif\\\",\\\"Roboto,Arial,sans-serif\\\",\\\"Arial,sans-serif\\\",\\\"Arial,sans-serif\\\",\\\"Google Sans,Roboto,Arial,sans-serif\\\",\\\"Arial,sans-serif\\\",\\\"Roboto,Arial,sans-serif\\\"]\",\"MR0w4\":\"%.@.\\\"var(--google-fs,1)\\\",\\\"var(--google-screen-scale-ratio,1)\\\"]\",\"OItNqf\":\"%.@.null,\\\"24px\\\"]\",\"JMyuH\":\"%.@.]\",\"j2FoS\":\"%.@.null,null,null,null,null,null,null,null,\\\"20px\\\"]\",\"e2zoW\":\"%.@.\\\"16px\\\",\\\"12px\\\",\\\"0px\\\",\\\"8px\\\",\\\"4px\\\",\\\"2px\\\",\\\"20px\\\",\\\"24px\\\",\\\"48px\\\",\\\"20px\\\",null,null,\\\"0px\\\",\\\"20px\\\",\\\"36px\\\",\\\"20px\\\",null,\\\"83px\\\",\\\"52px\\\",\\\"6px\\\",\\\"20px\\\",\\\"18px\\\",\\\"16px\\\",\\\"24px\\\",\\\"12px\\\",\\\"6px\\\",\\\"75px\\\",\\\"52px\\\",\\\"799.98px\\\",\\\"684px\\\",\\\"683.98px\\\",\\\"1163.98px\\\",\\\"940px\\\",\\\"1560px\\\",\\\"1164px\\\",\\\"939.98px\\\",\\\"800px\\\",\\\"82px\\\"]\",\"W1Bte\":\"%.@.\\\"cubic-bezier(0.1,1,0.2,1)\\\",\\\"cubic-bezier(0.8,0,1,0.8)\\\",\\\"cubic-bezier(0.2,0.6,0.2,1)\\\",\\\"cubic-bezier(0.4,0,1,0.8)\\\",\\\"300ms\\\",\\\"100ms\\\",\\\"200ms\\\",\\\"250ms\\\",\\\"cubic-bezier(0.4,0,0.2,1)\\\",\\\"cubic-bezier(0.4,0,0.6,1)\\\",\\\"cubic-bezier(0.6,0,0,1)\\\",\\\"cubic-bezier(0,0,1,1)\\\",\\\"cubic-bezier(0.2,0,0,1)\\\",\\\"800ms\\\",\\\"1000ms\\\",\\\"400ms\\\",\\\"500ms\\\",\\\"600ms\\\",\\\"50ms\\\",\\\"400ms\\\",\\\"300ms\\\",\\\"250ms\\\",\\\"150ms\\\",\\\"250ms\\\",\\\"200ms\\\",\\\"150ms\\\",\\\"150ms\\\",\\\"300ms\\\",\\\"250ms\\\",\\\"200ms\\\",\\\"150ms\\\",\\\"450ms\\\",\\\"450ms\\\",\\\"300ms\\\",\\\"150ms\\\",\\\"300ms\\\",\\\"250ms\\\",\\\"200ms\\\",\\\"100ms\\\",\\\"250ms\\\",\\\"200ms\\\",\\\"150ms\\\",\\\"100ms\\\",\\\"250ms\\\",\\\"200ms\\\",\\\"150ms\\\",\\\"100ms\\\",\\\"300ms\\\",\\\"250ms\\\",\\\"200ms\\\",\\\"100ms\\\",\\\"null\\\",\\\"cubic-bezier(0.3,0,0.8,0.15)\\\",\\\"cubic-bezier(0.05,0.7,0.1,1)\\\",\\\"cubic-bezier(0,0,1,1)\\\",\\\"cubic-bezier(0.2,0,0,1)\\\",\\\"cubic-bezier(0.3,0,1,1)\\\",\\\"cubic-bezier(0,0,0,1)\\\",\\\"250ms\\\",\\\"200ms\\\",\\\"150ms\\\",\\\"50ms\\\",\\\"50ms\\\",\\\"50ms\\\",\\\"400ms\\\",\\\"350ms\\\",\\\"250ms\\\",\\\"50ms\\\",\\\"50ms\\\",\\\"50ms\\\",\\\"200ms\\\",\\\"150ms\\\",\\\"100ms\\\",\\\"50ms\\\",\\\"200ms\\\",\\\"150ms\\\",\\\"100ms\\\",\\\"50ms\\\",\\\"50ms\\\",\\\"50ms\\\",\\\"250ms\\\",\\\"200ms\\\",\\\"150ms\\\",\\\"50ms\\\",\\\"50ms\\\",\\\"50ms\\\",\\\"cubic-bezier(0.05,0.7,0.1,1)\\\",\\\"cubic-bezier(0.3,0,0.8,0.15)\\\"]\",\"pbvshf\":\"%.@.\\\"48px\\\"]\",\"u9mep\":\"%.@.\\\"#1a0dab\\\",null,\\\"#1f1f1f\\\",\\\"var(--JKqx2)\\\"]\",\"mrqaQb\":\"%.@.null,null,null,null,\\\"2px\\\",\\\"12px\\\"]\",\"Umq10e\":\"%.@.\\\"#fff\\\"]\",\"k7Tqye\":\"%.@.null,null,null,null,null,null,null,\\\"16px\\\",\\\"12px\\\",\\\"8px\\\",\\\"20px\\\",\\\"4px\\\",\\\"9999px\\\",\\\"0px\\\",\\\"2px\\\"]\",\"y50LC\":\"%.@.null,null,\\\"#4d5156\\\",null,\\\"#5f6368\\\"]\",\"jfSEkd\":\"%.@.\\\"var(--Pa8Wlb)\\\",\\\"var(--KIZPne)\\\",\\\"var(--xPpiM)\\\",null,\\\"#d2e3fc\\\",\\\"#d2e3fc\\\",\\\"rgba(26,115,232,0.24)\\\",\\\"var(--pEa0Bc)\\\",\\\"var(--Yi4Nb)\\\",\\\"var(--kloG3)\\\",\\\"var(--YaIeMb)\\\",\\\"var(--izGsqb)\\\",\\\"var(--todMNcl)\\\",\\\"rgba(32,33,36,0.16)\\\",null,\\\"rgba(32,33,36,0.32)\\\",\\\"#ebf1ff\\\",\\\"#001d35\\\",\\\"rgba(32,33,36,0.08)\\\",\\\"rgba(32,33,36,0.08)\\\",\\\"rgba(32,33,36,0.24)\\\",\\\"transparent\\\",\\\"var(--rrJJUc)\\\",null,\\\"rgba(26,115,232,0.08)\\\",\\\"rgba(26,115,232,0.08)\\\",\\\"rgba(26,115,232,0.24)\\\",null,null,null,\\\"rgba(60,64,67,0.08)\\\",\\\"rgba(60,64,67,0.08)\\\",\\\"rgba(60,64,67,0.24)\\\",\\\"2px\\\",\\\"2px\\\",\\\"61\\\",\\\"var(--bbQxAb)\\\",\\\"var(--BRLwE)\\\",null,\\\"#0b57d0\\\",\\\"#f1f3f4\\\",\\\"var(--YLNNHc)\\\",\\\"var(--IXoxUe)\\\",\\\"var(--YLNNHc)\\\",\\\"var(--YLNNHc)\\\",\\\"15\\\",\\\"0\\\",\\\"39\\\",\\\"var(--jINu6c)\\\",\\\"rgba(32,33,36,0.16)\\\",\\\"33\\\",\\\"39\\\",\\\"var(--EpFNW)\\\",\\\"66\\\",\\\"#001d35\\\",\\\"var(--IXoxUe)\\\",\\\"0.08\\\",\\\"var(--bbQxAb)\\\",\\\"0.08\\\",\\\"var(--IXoxUe)\\\",\\\"var(--bbQxAb)\\\",\\\"0.24\\\",\\\"var(--IXoxUe)\\\",\\\"transparent\\\",\\\"0.08\\\",\\\"0.08\\\",\\\"var(--IXoxUe)\\\",\\\"0.24\\\",\\\"var(--IXoxUe)\\\",\\\"transparent\\\",\\\"0.08\\\",\\\"0.08\\\",\\\"var(--uLz37c)\\\",\\\"0.24\\\",\\\"var(--uLz37c)\\\",\\\"var(--jINu6c)\\\",\\\"var(--jINu6c)\\\",\\\"15\\\",\\\"#1967d2\\\",\\\"15\\\",\\\"#0b57d0\\\",\\\"39\\\",\\\"#0b57d0\\\",\\\"15\\\",\\\"15\\\",\\\"#0b57d0\\\",\\\"#001d35\\\",\\\"39\\\",\\\"var(--p9J9c)\\\",\\\"var(--jINu6c)\\\",\\\"15\\\",\\\"15\\\",\\\"39\\\",\\\"#0b57d0\\\",\\\"rgba(0,0,0,.6)\\\",\\\"33\\\",\\\"33\\\",\\\"#fff\\\",\\\"66\\\",{\\\"100\\\":\\\"#fff\\\",\\\"101\\\":\\\"0.08\\\",\\\"102\\\":\\\"0.08\\\",\\\"103\\\":\\\"#1f1f1f\\\",\\\"104\\\":\\\"0.24\\\",\\\"105\\\":\\\"#1f1f1f\\\",\\\"106\\\":\\\"rgba(0,0,0,0.1)\\\",\\\"107\\\":\\\"0.08\\\",\\\"108\\\":\\\"#185abc\\\",\\\"109\\\":\\\"0.08\\\",\\\"110\\\":\\\"0.24\\\",\\\"111\\\":\\\"var(--Nsm0ce)\\\",\\\"112\\\":\\\"0\\\",\\\"113\\\":\\\"transparent\\\",\\\"114\\\":\\\"0.08\\\",\\\"115\\\":\\\"0.08\\\",\\\"116\\\":\\\"var(--YLNNHc)\\\",\\\"117\\\":\\\"0.24\\\",\\\"118\\\":\\\"var(--YLNNHc)\\\",\\\"119\\\":\\\"0.75\\\",\\\"120\\\":\\\"0.6\\\",\\\"121\\\":\\\"rgba(31,31,31,0.078431375)\\\",\\\"122\\\":\\\"rgba(31,31,31,0.08)\\\",\\\"123\\\":\\\"rgba(31,31,31,0.23921569)\\\",\\\"124\\\":\\\"rgba(11,87,208,0.078431375)\\\",\\\"125\\\":\\\"rgba(11,87,208,0.078431375)\\\",\\\"126\\\":\\\"rgba(11,87,208,0.23921569)\\\",\\\"127\\\":\\\"rgba(32,33,36,0.2)\\\",\\\"128\\\":\\\"rgba(32,33,36,0.2)\\\",\\\"129\\\":\\\"rgba(32,33,36,0.4)\\\",\\\"130\\\":\\\"rgba(32,33,36,0.078431375)\\\",\\\"131\\\":\\\"rgba(32,33,36,0.078431375)\\\",\\\"132\\\":\\\"rgba(32,33,36,0.23921569)\\\",\\\"133\\\":\\\"var(--Ehh4mf)\\\",\\\"134\\\":\\\"var(--Nsm0ce)\\\"}]\",\"GVtPm\":\"%.@.null,null,null,null,null,\\\"0 0 0 1px var(--mXZkqc)\\\",\\\"1px solid var(--mXZkqc)\\\",null,null,null,null,null,null,null,null,\\\"transparent\\\",\\\"rgba(23,23,23,0.3)\\\",null,null,\\\"16px\\\"]\",\"MexNte\":\"%.@.\\\"700\\\",\\\"400\\\",\\\"underline\\\",\\\"none\\\",\\\"capitalize\\\",\\\"none\\\",\\\"uppercase\\\",\\\"none\\\",\\\"500\\\",\\\"lowercase\\\",\\\"italic\\\",null,null,\\\"-1px\\\",\\\"0.3px\\\",\\\"20px\\\",\\\"12px\\\",null,\\\"12px\\\",\\\"14px\\\",\\\"16px\\\",\\\"18px\\\",\\\"22px\\\",\\\"24px\\\",\\\"26px\\\",\\\"28px\\\",\\\"32px\\\",\\\"36px\\\",\\\"40px\\\",\\\"48px\\\",\\\"52px\\\",\\\"56px\\\",\\\"60px\\\",\\\"14px\\\",\\\"16px\\\",\\\"18px\\\",\\\"20px\\\",\\\"22px\\\",\\\"24px\\\",\\\"28px\\\",\\\"36px\\\",\\\"40px\\\",\\\"45px\\\",\\\"48px\\\",\\\"56px\\\",\\\"0\\\",\\\"0.1px\\\"]\",\"Aahcnf\":\"%.@.\\\"28px\\\",\\\"36px\\\",\\\"400\\\",\\\"Google Sans,Roboto,Arial,sans-serif\\\",null,\\\"Roboto,Arial,sans-serif\\\",\\\"14px\\\",\\\"400\\\",\\\"22px\\\",null,\\\"18px\\\",\\\"24px\\\",\\\"400\\\",\\\"Google Sans,Roboto,Arial,sans-serif\\\",null,\\\"Google Sans,Roboto,Arial,sans-serif\\\",\\\"56px\\\",\\\"48px\\\",\\\"0\\\",null,\\\"400\\\",\\\"Google Sans,Roboto,Arial,sans-serif\\\",\\\"36px\\\",\\\"400\\\",\\\"48px\\\",null,\\\"Google Sans,Roboto,Arial,sans-serif\\\",\\\"36px\\\",\\\"28px\\\",null,\\\"400\\\",null,\\\"Roboto,Arial,sans-serif\\\",\\\"24px\\\",\\\"18px\\\",null,\\\"400\\\",\\\"Roboto,Arial,sans-serif\\\",\\\"16px\\\",\\\"12px\\\",null,\\\"400\\\",\\\"Roboto,Arial,sans-serif\\\",\\\"24px\\\",\\\"16px\\\",null,\\\"400\\\",\\\"Roboto,Arial,sans-serif\\\",\\\"24px\\\",\\\"20px\\\",null,\\\"400\\\",\\\"Roboto,Arial,sans-serif\\\",\\\"24px\\\",\\\"16px\\\",null,\\\"400\\\",\\\"Roboto,Arial,sans-serif\\\",\\\"18px\\\",\\\"14px\\\",null,\\\"400\\\",null,null,null,null,null,\\\"14px\\\",\\\"Google Sans,Roboto,Arial,sans-serif\\\",\\\"20px\\\",\\\"400\\\",\\\"Google Sans,Roboto,Arial,sans-serif\\\",\\\"28px\\\",\\\"22px\\\",\\\"400\\\",\\\"Google Sans,Roboto,Arial,sans-serif\\\",\\\"24px\\\",\\\"16px\\\",\\\"400\\\",\\\"Roboto,Arial,sans-serif\\\",\\\"16px\\\",\\\"12px\\\",\\\"Google Sans,Roboto,Arial,sans-serif\\\",\\\"28px\\\",\\\"22px\\\",\\\"400\\\",null,null,null,null,\\\"500\\\",\\\"0px\\\",\\\"0px\\\",\\\"0\\\"]\",\"PFhmed\":\"%.@.null,null,null,null,\\\"#f1f3f4\\\"]\",\"B4pZbd\":\"US\",\"o0P8Hf\":\"%.@.\\\"rgba(0,0,0,0.0)\\\",\\\"#fff\\\",null,null,null,null,null,null,null,\\\"#f8f9fa\\\",\\\"#000\\\",null,\\\"#dadce0\\\",\\\"#fff\\\",\\\"#fff\\\",null,null,\\\"rgba(0,0,0,0.26)\\\",\\\"rgba(0,0,0,0.2)\\\",null,null,null,\\\"rgba(0,0,0,0.1)\\\",\\\"#fff\\\",null,null,\\\"#000\\\",null,null,null,\\\"rgba(255,255,255,0.5)\\\",null,\\\"rgba(0,0,0,0.3)\\\",\\\"rgba(0,0,0,0.2)\\\",null,null,\\\"rgba(0,0,0,.04)\\\",null,null,\\\"#70757a\\\",\\\"#70757a\\\",\\\"rgba(0,0,0,.22)\\\",\\\"rgba(0,0,0,.30)\\\",null,null,\\\"#d2e3fc\\\",null,\\\"rgba(32,33,36,.7)\\\",null,null,null,null,\\\"rgba(60,64,67,.15)\\\",null,\\\"rgba(0,0,0,.16)\\\",null,null,\\\"rgba(0,0,0,.12)\\\",null,null,\\\"rgba(0,0,0,.24)\\\",\\\"rgba(0,0,0,.05)\\\",null,\\\"rgba(60,64,67,.3)\\\",\\\"rgba(0,0,0,.36)\\\",\\\"rgba(0,0,0,.15)\\\",\\\"rgba(32,33,36,.28)\\\",null,\\\"#dadce0\\\",\\\"#fff\\\",\\\"#fff\\\",\\\"#1a73e8\\\",\\\"#000\\\",\\\"rgba(0,0,0,.0)\\\",\\\"#202124\\\",\\\"rgba(0,0,0,.8)\\\",null,\\\"rgba(26,115,232,.7)\\\",null,null,null,null,null,null,null,null,null,null,null,\\\"rgba(0,0,0,0.54)\\\",null,\\\"rgba(248,249,250,0.85)\\\",\\\"#dadce0\\\",\\\"#ea4335\\\",{\\\"101\\\":\\\"#dadce0\\\",\\\"106\\\":\\\"#70757a\\\",\\\"112\\\":\\\"#dadce0\\\",\\\"114\\\":\\\"#4285f4\\\",\\\"117\\\":\\\"#4285f4\\\",\\\"118\\\":\\\"#1a73e8\\\",\\\"127\\\":\\\"#d2e3fc\\\",\\\"128\\\":\\\"#4285f4\\\",\\\"129\\\":\\\"#1a73e8\\\",\\\"130\\\":\\\"#fce8e6\\\",\\\"131\\\":\\\"#fad2cf\\\",\\\"140\\\":\\\"#d93025\\\",\\\"147\\\":\\\"#ea4335\\\",\\\"150\\\":\\\"#fef7e0\\\",\\\"171\\\":\\\"#e6f4ea\\\",\\\"187\\\":\\\"#34a853\\\",\\\"188\\\":\\\"#1e8e3e\\\",\\\"189\\\":\\\"#188038\\\",\\\"190\\\":\\\"#137333\\\",\\\"191\\\":\\\"#0d652d\\\",\\\"192\\\":\\\"rgba(0,0,0,.1)\\\",\\\"193\\\":\\\"rgba(0,0,0,.2)\\\",\\\"196\\\":\\\"rgba(255,255,255,0)\\\",\\\"198\\\":\\\"rgba(32,33,36,0)\\\",\\\"199\\\":\\\"rgba(32,33,36,.1)\\\",\\\"200\\\":\\\"rgba(0,0,0,.12)\\\",\\\"201\\\":\\\"rgba(0,0,0,.5)\\\",\\\"204\\\":\\\"rgba(255,255,255,.5)\\\",\\\"205\\\":\\\"#1558d6\\\",\\\"208\\\":\\\"#f8f9fa\\\",\\\"211\\\":\\\"rgba(0,0,0,.02)\\\",\\\"212\\\":\\\"#000\\\",\\\"214\\\":\\\"rgba(0,0,0,.7)\\\",\\\"215\\\":\\\"#1a73e8\\\",\\\"218\\\":\\\"rgba(0,0,0,.15)\\\",\\\"219\\\":\\\"rgba(0,0,0,.05)\\\",\\\"221\\\":\\\"#dadce0\\\",\\\"222\\\":\\\"#188038\\\",\\\"227\\\":\\\"rgba(0,0,0,.05)\\\",\\\"229\\\":\\\"rgba(255,255,255,.6)\\\",\\\"230\\\":\\\"rgba(0,0,0,.08)\\\",\\\"231\\\":\\\"rgba(255,255,255,.8)\\\",\\\"232\\\":\\\"rgba(0,0,0,.05)\\\",\\\"233\\\":\\\"#4285f4\\\",\\\"235\\\":\\\"#fff\\\",\\\"236\\\":\\\"rgba(0,0,0,.87)\\\",\\\"238\\\":\\\"#fdd663\\\",\\\"244\\\":\\\"rgba(255,255,255,.54)\\\",\\\"246\\\":\\\"rgba(0,0,0,.26)\\\",\\\"249\\\":\\\"rgba(0,0,0,.03)\\\",\\\"253\\\":\\\"rgba(0,0,0,0)\\\",\\\"257\\\":\\\"#d2e3fc\\\",\\\"259\\\":\\\"#4285f4\\\",\\\"265\\\":\\\"#dadce0\\\",\\\"267\\\":\\\"#34a853\\\",\\\"273\\\":\\\"rgba(60,64,67,.3)\\\",\\\"278\\\":\\\"#81c995\\\"}]\",\"rkD25\":\"%.@.[[\\\"hl\\\",\\\"en-US\\\"]]]\",\"WiLzZe\":\"%.@.\\\"#202124\\\",\\\"#70757a\\\",null,null,\\\"#fff\\\",\\\"rgba(255,255,255,.70)\\\",28,24,26,20,16,-2,0,-4,2,0,0,24,20,20,14,12]\",\"rNyuJc\":\"\",\"LU5fGb\":false,\"gXkHoe\":\"105250506097979753968\",\"hevonc\":\"%.@.1]\"};})();(function(){google.ldi={};google.pim={};google.sib=false;google.liba=false;(function(){var a=google.ldi||{},b;for(b in a)if(a.hasOwnProperty(b)){var c=document.getElementById(b)||document.documentElement.querySelector('img[data-iid=\"'+b+'\"]');c&&Number(c.getAttribute(\"data-atf\"))&1&&(c.setAttribute(\"data-deferred\",\"2\"),c.src=a[b])};}).call(this);})();(function(){for(var a=document.getElementsByTagName(\"img\"),b=0,c=a.length;b<c;++b){var d=a[b],e;if(e=Number(d.getAttribute(\"data-atf\"))&1){var f=d.getAttribute(\"jscontroller\");e=(f===\"UBXHI\"||f===\"R3fhkb\"||f===\"TSZEqd\")&&d.hasAttribute(\"data-src\")}e&&(d.src=d.getAttribute(\"data-src\"))};}).call(this);(function(){for(var a=document.getElementsByTagName(\"img\"),b=0,c=a.length;b<c;++b){var d=a[b];d.src.substring(0,5)!==\"data:\"&&d.setAttribute(\"data-defe\",\"1\")};}).call(this);(function(){var deia=false;window.jsl=window.jsl||{};window.jsl.dh=function(c,f,b){try{var a=document.getElementById(c),d;!a&&((d=google.stvsc)==null?0:d.dds)&&google.stvsc.dds.forEach(function(k){a||(a=k.getElementById(c))});if(!a){var l=document.querySelectorAll(\"template\");for(d=0;d<l.length&&!(a=l[d].content.getElementById(c));d++);}if(a)a.innerHTML=f,b&&b(),deia&&(google.delt=google.delt||{},google.delt[a.id]=Date.now());else{var e={id:c,script:String(!!b),milestone:String(google.jslm||0)};google.jsla&&(e.async=google.jsla);var m=c.indexOf(\"_\"),g=m>0?c.substring(0,m):\"\",n=document.createElement(\"div\");n.innerHTML=f;var h=n.children[0];if(h&&(e.tag=h.tagName,e[\"class\"]=String(h.className||null),e.name=String(h.getAttribute(\"jsname\")),g)){f=[];var p=document.querySelectorAll('[id^=\"'+g+'_\"]');for(b=0;b<p.length;++b)f.push(p[b].id);e.ids=f.join(\",\")}google.ml(Error(g?\"Missing ID with prefix \"+g:\"Missing ID\"),!1,e)}}catch(k){google.ml(k,!0,{\"jsl.dh\":!0})}};})();(function(){var x=true;google.jslm=x?2:1;})();google.x(null,function(){(function(){(function(){google.csct={};google.csct.ps='AOvVaw0toTCN2jKz0qS8s-BiiZyk\\x26ust\\x3d1754735202533198';})();})();(function(){(function(){google.csct.pi=true;})();})();(function(){window.jsl=window.jsl||{};window.jsl.dh=window.jsl.dh||function(i,c,d){try{var e=document.getElementById(i);if(e){e.innerHTML=c;if(d){d();}}else{if(window.jsl.el){window.jsl.el(new Error('Missing ID.'),{'id':i});}}}catch(e){if(window.jsl.el){window.jsl.el(new Error('jsl.dh'));}}};})();(function(){window.jsl.dh('spch','\\x3cstyle\\x3e.spch-dlg{background:transparent;border:none}.spch{background:var(--xhUGwc);height:100%;left:0;opacity:0;overflow:hidden;position:fixed;text-align:left;top:0;visibility:hidden;width:100%;z-index:10000;transition:visibility 0s linear 0.218s,background-color 0.218s;}.YFwiVb.spch{opacity:1;transition-delay:0s;visibility:visible;}.pz5bj{background:none;border:none;color:var(--IXoxUe);cursor:pointer;font-size:26px;right:0;line-height:15px;opacity:.6;margin:-1px -1px 0 0;padding:0 0 2px 0;height:48px;width:48px;position:absolute;top:0;z-index:10}.pz5bj:hover{opacity:.8}.pz5bj:active{opacity:1}.spchc{display:block;height:42px;pointer-events:none;margin:auto;position:relative;top:0;margin-top:312px;max-width:572px;min-width:534px;padding:0 223px}.inner-container{height:100%;opacity:.1;pointer-events:none;width:100%;transition:opacity .318s ease-in;}.s2ml .inner-container,.s2ra .inner-container,.s2er .inner-container,.OJaju .inner-container{opacity:1;transition:opacity 0s}\\x3c/style\\x3e\\x3cstyle\\x3e.google-logo{background:url(data:image/png;base64,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\\x3d) no-repeat center;background-size:94px 32px;height:32px;width:94px;top:8px;opacity:0;pointer-events:none;position:relative;transition:opacity .5s ease-in,left .5s ease-in}\\x3c/style\\x3e\\x3cbutton class\\x3d\\x22pz5bj\\x22 id\\x3d\\x22spchx\\x22 aria-label\\x3d\\x22close\\x22\\x3e\\x3cspan style\\x3d\\x22height:16px;line-height:16px;width:16px\\x22 class\\x3d\\x22z1asCe wuXmqc\\x22\\x3e\\x3csvg focusable\\x3d\\x22false\\x22 xmlns\\x3d\\x22http://www.w3.org/2000/svg\\x22 viewBox\\x3d\\x220 0 24 24\\x22\\x3e\\x3cpath d\\x3d\\x22M19 6.41L17.59 5 12 10.59 6.41 5 5 6.41 10.59 12 5 17.59 6.41 19 12 13.41 17.59 19 19 17.59 13.41 12z\\x22\\x3e\\x3c/path\\x3e\\x3c/svg\\x3e\\x3c/span\\x3e\\x3c/button\\x3e\\x3cdiv class\\x3d\\x22spchc\\x22 id\\x3d\\x22spchc\\x22\\x3e\\x3cdiv class\\x3d\\x22inner-container\\x22\\x3e\\x3cdiv class\\x3d\\x22button-container\\x22\\x3e\\x3cstyle\\x3e.LgbsSe{background-color:#fff;border:1px solid #f8f9fa;border-radius:100%;bottom:0;box-shadow:0 2px 5px rgba(0,0,0,.1);cursor:pointer;display:inline-block;opacity:0;pointer-events:none;position:absolute;right:0;transition:background-color 0.218s,border 0.218s,box-shadow 0.218s;transition-delay:0;position:absolute;opacity:0;left:0;top:0}.YFwiVb .LgbsSe{opacity:1;pointer-events:auto;transform:scale(1);}.s2ra .LgbsSe{background-color:#ea4335;border:0;box-shadow:none}.r8s4j{background-color:#dadce0;border-radius:100%;display:inline-block;opacity:1;pointer-events:none;position:absolute;transform:scale(.01);transition:opacity 0.218s;height:301px;left:-69px;top:-69px;width:301px;}.button-container{pointer-events:none;position:relative;transition:transform 0.218s,opacity 0.218s ease-in;transform:scale(.1);height:165px;width:165px;right:-70px;top:-70px;float:right;}.YFwiVb .button-container{transform:scale(1)}.s2ra .LgbsSe:active{background-color:#c5221f}.LgbsSe:active{background-color:#f8f9fa}\\x3c/style\\x3e\\x3cspan class\\x3d\\x22r8s4j\\x22 id\\x3d\\x22spchl\\x22\\x3e\\x3c/span\\x3e\\x3cspan class\\x3d\\x22LgbsSe\\x22 id\\x3d\\x22spchb\\x22\\x3e\\x3cdiv class\\x3d\\x22microphone\\x22\\x3e\\x3cstyle\\x3e.microphone{height:87px;pointer-events:none;position:absolute;width:42px;top:47px;transform:scale(1);left:43px;}.receiver{background-color:#999;border-radius:30px;height:46px;left:25px;pointer-events:none;position:absolute;width:24px}.wrapper{bottom:0;height:53px;left:11px;overflow:hidden;pointer-events:none;position:absolute;width:52px}.stem{background-color:#999;bottom:14px;height:14px;left:22px;pointer-events:none;position:absolute;width:9px;z-index:1}.shell{border:7px solid #999;border-radius:28px;bottom:27px;height:57px;pointer-events:none;position:absolute;width:38px;z-index:0;left:0px}.s2ml .receiver,.s2ml .stem{background-color:#f44}.s2ml .shell{border-color:#f44}.s2ra .receiver,.s2ra .stem{background-color:#fff}.s2ra .shell{border-color:#fff}\\x3c/style\\x3e\\x3cspan class\\x3d\\x22receiver\\x22\\x3e\\x3c/span\\x3e\\x3cdiv class\\x3d\\x22wrapper\\x22\\x3e\\x3cspan class\\x3d\\x22stem\\x22\\x3e\\x3c/span\\x3e\\x3cspan class\\x3d\\x22shell\\x22\\x3e\\x3c/span\\x3e\\x3c/div\\x3e\\x3c/div\\x3e\\x3c/span\\x3e\\x3c/div\\x3e\\x3cdiv class\\x3d\\x22df8vVc\\x22\\x3e\\x3cstyle\\x3e.df8vVc{pointer-events:none;position:absolute;}.z5vYxf{font-weight:normal;line-height:1.2;opacity:0;pointer-events:none;position:absolute;text-align:left;-webkit-font-smoothing:antialiased;transition:opacity .1s ease-in,margin-left .5s ease-in,top 0s linear 0.218s;left:-44px;top:-.2em;margin-left:44px;font-size:32px;width:460px;}.YFwiVb .z5vYxf{margin-left:0;opacity:1;transition:opacity .5s ease-out,margin-left .5s ease-out}.cb7x7d{color:var(--JKqx2);cursor:pointer;font-size:18px;font-weight:500;pointer-events:auto;text-decoration:underline}.hcf8eb.z5vYxf,.ZZaLcf.z5vYxf,.hAjVCb.z5vYxf{transition:top 0.218s ease-out}.hcf8eb.z5vYxf{top:-.6em}.ZZaLcf.z5vYxf{top:-1.3em}.hAjVCb.z5vYxf{top:-1.7em}.YFwiVb .qi9U9e.z5vYxf{top:-2.5em;}\\x3c/style\\x3e\\x3cspan class\\x3d\\x22z5vYxf\\x22 style\\x3d\\x22color:#70757a\\x22 id\\x3d\\x22yZ04Ef\\x22\\x3e\\x3c/span\\x3e\\x3cspan class\\x3d\\x22z5vYxf\\x22 style\\x3d\\x22color:#000\\x22 id\\x3d\\x22KHjmsf\\x22\\x3e\\x3c/span\\x3e\\x3c/div\\x3e\\x3cdiv class\\x3d\\x22google-logo\\x22\\x3e\\x3c/div\\x3e\\x3c/div\\x3e\\x3cdiv class\\x3d\\x22permission-bar\\x22\\x3e\\x3cstyle\\x3e.permission-bar{margin-top:-100px;opacity:0;pointer-events:none;position:absolute;width:500px;transition:opacity 0.218s ease-in,margin-top .4s ease-in}.s2wfp .permission-bar{margin-top:-300px;opacity:1;transition:opacity .5s ease-out 0.218s,margin-top 0.218s ease-out 0.218s}.permission-bar-gradient{box-shadow:0 1px 0px #4285f4;height:80px;left:0;margin:0;opacity:0;pointer-events:none;position:fixed;right:0;top:-80px;transition:opacity 0.218s,box-shadow 0.218s}.s2wfp .permission-bar-gradient{box-shadow:0 1px 80px #4285f4;opacity:1;pointer-events:none;animation:allow-alert .75s 0 infinite;animation-direction:alternate;animation-timing-function:ease-out;transition:opacity 0.218s,box-shadow 0.218s}@-webkit-keyframes allow-alert {from{opacity:1}to{opacity:.35}}\\x3c/style\\x3e\\x3cdiv class\\x3d\\x22permission-bar-gradient\\x22\\x3e\\x3c/div\\x3e\\x3c/div\\x3e\\x3c/div\\x3e');})();(function(){window.jsl.dh('_4tCVaNPKHc-j0PEPra3p8Qc_6','\\x3cstyle\\x3e.YB4h9{background-color:var(--TMYS9);color:var(--EpFNW);padding:18px 60px 18px 12px;position:relative}.C85rO{font-size:20px}.twTT9c{}.YB4h9 .Gtr0ne .twTT9c{color:var(--EpFNW);text-decoration:underline;padding:10px 0 0;background:none;border:none;font:inherit}.YB4h9 .Job8vb{padding:20px;position:absolute;right:0;top:0}.YB4h9.q7XNbb{margin-bottom:44px}\\x3c/style\\x3e\\x3cspan class\\x3d\\x22Job8vb z1asCe wuXmqc\\x22 aria-label\\x3d\\x22Close Choose what you\\u2019re giving feedback on\\x22 role\\x3d\\x22button\\x22 tabindex\\x3d\\x220\\x22 jsaction\\x3d\\x22kEOk4d\\x22 style\\x3d\\x22height:20px;line-height:20px;width:20px\\x22 data-ved\\x3d\\x220ahUKEwjTw8-UgPuOAxXPETQIHa1WOn4QmIkGCA4\\x22\\x3e\\x3csvg focusable\\x3d\\x22false\\x22 xmlns\\x3d\\x22http://www.w3.org/2000/svg\\x22 viewBox\\x3d\\x220 0 24 24\\x22\\x3e\\x3cpath d\\x3d\\x22M19 6.41L17.59 5 12 10.59 6.41 5 5 6.41 10.59 12 5 17.59 6.41 19 12 13.41 17.59 19 19 17.59 13.41 12z\\x22\\x3e\\x3c/path\\x3e\\x3c/svg\\x3e\\x3c/span\\x3e\\x3cdiv class\\x3d\\x22C85rO\\x22 aria-level\\x3d\\x221\\x22 role\\x3d\\x22heading\\x22\\x3eChoose what you\\u2019re giving feedback on\\x3c/div\\x3e');})();(function(){google.drty&&google.drty(undefined,true);})();});if (!google.stvsc){google.drty && google.drty(undefined,true);}\n",
            "  </script>\n",
            " </body>\n",
            "</html>\n",
            "\n"
          ]
        }
      ]
    },
    {
      "cell_type": "markdown",
      "source": [
        "HTML Tags Analysis"
      ],
      "metadata": {
        "id": "2BHn_uo9ONsR"
      }
    },
    {
      "cell_type": "code",
      "source": [
        "from bs4 import BeautifulSoup\n",
        "\n",
        "def read_file():\n",
        "  file = open('tags.html')\n",
        "  data = file.read()\n",
        "  file.close()\n",
        "  return data\n",
        "\n",
        "file1 = read_file()\n",
        "\n",
        "soup = BeautifulSoup(file1, 'lxml')\n",
        "\n",
        "meta = soup.meta\n",
        "print(meta)\n"
      ],
      "metadata": {
        "colab": {
          "base_uri": "https://localhost:8080/"
        },
        "id": "RrImbPBROP8N",
        "outputId": "defd17ff-1611-482c-db25-67215c7946d1"
      },
      "execution_count": null,
      "outputs": [
        {
          "output_type": "stream",
          "name": "stdout",
          "text": [
            "<meta charset=\"utf-8\"/>\n"
          ]
        }
      ]
    },
    {
      "cell_type": "code",
      "source": [
        "div = soup.div\n",
        "print(div)"
      ],
      "metadata": {
        "colab": {
          "base_uri": "https://localhost:8080/"
        },
        "id": "IOCiIgVJPOBk",
        "outputId": "deab2628-080e-415a-b758-52f433efe2d1"
      },
      "execution_count": null,
      "outputs": [
        {
          "output_type": "stream",
          "name": "stdout",
          "text": [
            "<div>\n",
            "<p style=\"color:red;\">In first div</p>\n",
            "</div>\n"
          ]
        }
      ]
    },
    {
      "cell_type": "code",
      "source": [
        "print(\"Value of Charset using get method is:\")\n",
        "print(meta.get(\"charset\"))"
      ],
      "metadata": {
        "colab": {
          "base_uri": "https://localhost:8080/"
        },
        "id": "PivWDaEoPV7F",
        "outputId": "1b999f8d-248b-4377-8b1b-4d39fddf2d90"
      },
      "execution_count": null,
      "outputs": [
        {
          "output_type": "stream",
          "name": "stdout",
          "text": [
            "Value of Charset using get method is:\n",
            "UTF-8\n"
          ]
        }
      ]
    },
    {
      "cell_type": "code",
      "source": [
        "print(\"Value of Charset using get dictionary is:\")\n",
        "print(meta[\"charset\"])"
      ],
      "metadata": {
        "colab": {
          "base_uri": "https://localhost:8080/"
        },
        "id": "ajte_cpfP73g",
        "outputId": "02d24cab-bf82-4542-8f08-e4f1f499b0d8"
      },
      "execution_count": null,
      "outputs": [
        {
          "output_type": "stream",
          "name": "stdout",
          "text": [
            "Value of Charset using get dictionary is:\n",
            "[<div>\n",
            "<p style=\"color:red;\">In first div</p>\n",
            "</div>, <p style=\"color:red;\">In first div</p>, <div>\n",
            "<p>In second div</p>\n",
            "</div>, <p>In second div</p>]\n"
          ]
        }
      ]
    },
    {
      "cell_type": "code",
      "source": [
        "body_text = soup.body\n",
        "print(body_text)"
      ],
      "metadata": {
        "colab": {
          "base_uri": "https://localhost:8080/"
        },
        "id": "gcc4NLdRQK8Z",
        "outputId": "1948bda0-8720-496f-8db3-743f41cef0e5"
      },
      "execution_count": null,
      "outputs": [
        {
          "output_type": "stream",
          "name": "stdout",
          "text": [
            "<body class=\"first second\" style=\"\">\n",
            "<div>\n",
            "<p style=\"color:red;\">In first div</p>\n",
            "</div>\n",
            "<div>\n",
            "<p>In second div</p>\n",
            "</div>\n",
            "</body>\n"
          ]
        }
      ]
    },
    {
      "cell_type": "code",
      "source": [
        "body = soup.body\n",
        "body['style'] = 'some style'\n",
        "print(body['style'])"
      ],
      "metadata": {
        "colab": {
          "base_uri": "https://localhost:8080/"
        },
        "id": "D1GNPdNtQKsL",
        "outputId": "caea7ce5-5daa-437c-c2c5-b9dffcbf60fb"
      },
      "execution_count": null,
      "outputs": [
        {
          "output_type": "stream",
          "name": "stdout",
          "text": [
            "some style\n"
          ]
        }
      ]
    },
    {
      "cell_type": "code",
      "source": [
        "print(body['class'])"
      ],
      "metadata": {
        "colab": {
          "base_uri": "https://localhost:8080/"
        },
        "id": "vAGmaFoVjHVZ",
        "outputId": "95a29095-1d2f-438a-82e6-eb27339da1cc"
      },
      "execution_count": null,
      "outputs": [
        {
          "output_type": "stream",
          "name": "stdout",
          "text": [
            "['first', 'second']\n"
          ]
        }
      ]
    },
    {
      "cell_type": "markdown",
      "source": [
        "Navigable strings"
      ],
      "metadata": {
        "id": "e8fOYkYrkG5t"
      }
    },
    {
      "cell_type": "code",
      "source": [
        "from bs4 import BeautifulSoup\n",
        "\n",
        "def read_file():\n",
        "  file = open('intro_to_soup_html.html')\n",
        "  data = file.read()\n",
        "  file.close()\n",
        "  return data\n",
        "\n",
        "file1 = read_file()\n",
        "\n",
        "soup = BeautifulSoup(file1, 'lxml')\n",
        "\n",
        "title = soup.title\n",
        "print(title)"
      ],
      "metadata": {
        "colab": {
          "base_uri": "https://localhost:8080/"
        },
        "id": "XXyT_aJPkK18",
        "outputId": "72f02332-62b1-468f-9126-31a608616bac"
      },
      "execution_count": null,
      "outputs": [
        {
          "output_type": "stream",
          "name": "stdout",
          "text": [
            "<title>Intro_to_soup</title>\n"
          ]
        }
      ]
    },
    {
      "cell_type": "code",
      "source": [
        "print(title.string)"
      ],
      "metadata": {
        "colab": {
          "base_uri": "https://localhost:8080/"
        },
        "id": "kWSITIqytpF7",
        "outputId": "bec38557-de9d-4f32-f17d-51683b331060"
      },
      "execution_count": null,
      "outputs": [
        {
          "output_type": "stream",
          "name": "stdout",
          "text": [
            "Intro_to_soup\n"
          ]
        }
      ]
    },
    {
      "cell_type": "code",
      "source": [
        "title.string.replace_with(\"title has been changed\")\n",
        "print(title)"
      ],
      "metadata": {
        "colab": {
          "base_uri": "https://localhost:8080/"
        },
        "id": "J8xRb6sVtxPl",
        "outputId": "ce5a2de1-c602-4be6-de35-fffbd562415d"
      },
      "execution_count": null,
      "outputs": [
        {
          "output_type": "stream",
          "name": "stdout",
          "text": [
            "<title>title has been changed</title>\n"
          ]
        }
      ]
    },
    {
      "cell_type": "code",
      "source": [
        "from bs4 import BeautifulSoup\n",
        "\n",
        "def read_file():\n",
        "  file = open('intro_to_soup_html.html')\n",
        "  data = file.read()\n",
        "  file.close()\n",
        "  return data\n",
        "\n",
        "file1 = read_file()\n",
        "\n",
        "soup = BeautifulSoup(file1, 'lxml')\n",
        "p = soup.p\n",
        "print(p)"
      ],
      "metadata": {
        "colab": {
          "base_uri": "https://localhost:8080/"
        },
        "id": "a7tOP_z3BYRc",
        "outputId": "9b8f716d-a58a-4b36-a6d0-25ab0b3f5e62"
      },
      "execution_count": null,
      "outputs": [
        {
          "output_type": "stream",
          "name": "stdout",
          "text": [
            "<p>In first div</p>\n"
          ]
        }
      ]
    },
    {
      "cell_type": "code",
      "source": [
        "from bs4 import BeautifulSoup\n",
        "\n",
        "def read_file():\n",
        "  file = open('intro_to_soup_html.html')\n",
        "  data = file.read()\n",
        "  file.close()\n",
        "  return data\n",
        "\n",
        "file1 = read_file()\n",
        "\n",
        "soup = BeautifulSoup(file1, 'lxml')\n",
        "\n",
        "head = soup.head\n",
        "print(head.contents)\n",
        "\n",
        "for child in head.contents:\n",
        "    print(child if child is not None else ' ')\n",
        "    pass\n"
      ],
      "metadata": {
        "colab": {
          "base_uri": "https://localhost:8080/"
        },
        "id": "ZyGP8eRiBsV9",
        "outputId": "881ac673-c98b-4680-81f5-2cb526906255"
      },
      "execution_count": null,
      "outputs": [
        {
          "output_type": "stream",
          "name": "stdout",
          "text": [
            "['\\n', <meta charset=\"utf-8\"/>, '\\n', <title>Intro_to_soup</title>, '\\n']\n",
            "\n",
            "\n",
            "<meta charset=\"utf-8\"/>\n",
            "\n",
            "\n",
            "<title>Intro_to_soup</title>\n",
            "\n",
            "\n"
          ]
        }
      ]
    },
    {
      "cell_type": "code",
      "source": [
        "body = soup.body\n",
        "\n",
        "for child in body.contents:\n",
        "  print(child if child is not None else '', end='\\n')\n",
        "  pass"
      ],
      "metadata": {
        "colab": {
          "base_uri": "https://localhost:8080/"
        },
        "id": "cyhyDrKeDxyD",
        "outputId": "aae82b14-d961-486a-d5c1-f6150cb0bff4"
      },
      "execution_count": null,
      "outputs": [
        {
          "output_type": "stream",
          "name": "stdout",
          "text": [
            "\n",
            "\n",
            "<div>\n",
            "<p>In first div</p>\n",
            "</div>\n",
            "\n",
            "\n",
            "<div>\n",
            "<p>In second div</p>\n",
            "</div>\n",
            "\n",
            "\n"
          ]
        }
      ]
    },
    {
      "cell_type": "code",
      "source": [
        "body = soup.body\n",
        "\n",
        "for child in body.children:\n",
        "  print(child if child is not None else '', end='\\n')\n",
        "  pass"
      ],
      "metadata": {
        "colab": {
          "base_uri": "https://localhost:8080/"
        },
        "id": "hKyctEc1EIPn",
        "outputId": "336000d9-8059-4de6-a59b-4fd5d4c2120f"
      },
      "execution_count": null,
      "outputs": [
        {
          "output_type": "stream",
          "name": "stdout",
          "text": [
            "\n",
            "\n",
            "<div>\n",
            "<p>In first div</p>\n",
            "</div>\n",
            "\n",
            "\n",
            "<div>\n",
            "<p>In second div</p>\n",
            "</div>\n",
            "\n",
            "\n"
          ]
        }
      ]
    },
    {
      "cell_type": "markdown",
      "source": [
        "which tags have .name attribute"
      ],
      "metadata": {
        "id": "I30_KkoyFsa4"
      }
    },
    {
      "cell_type": "code",
      "source": [
        "head = soup.head\n",
        "\n",
        "for child in head.contents:\n",
        "  if child.name:\n",
        "    print(child)"
      ],
      "metadata": {
        "colab": {
          "base_uri": "https://localhost:8080/"
        },
        "id": "illWF-a0FZ5x",
        "outputId": "81b2df01-c7f4-4b1b-97da-25a3c85ee4e6"
      },
      "execution_count": null,
      "outputs": [
        {
          "output_type": "stream",
          "name": "stdout",
          "text": [
            "<meta charset=\"utf-8\"/>\n",
            "<title>Intro_to_soup</title>\n"
          ]
        }
      ]
    },
    {
      "cell_type": "markdown",
      "source": [
        "Navigating with Beautifulsoup"
      ],
      "metadata": {
        "id": "5KUmA0RtWfnI"
      }
    },
    {
      "cell_type": "code",
      "source": [
        "from bs4 import BeautifulSoup\n",
        "\n",
        "def read_file():\n",
        "     file = open('three_sisters.html')\n",
        "     data = file.read()\n",
        "     file.close()\n",
        "     return data\n",
        "\n",
        "soup = BeautifulSoup(read_file(), 'lxml')\n",
        "title = soup.title\n",
        "parent = title.parent\n",
        "print(parent)\n"
      ],
      "metadata": {
        "colab": {
          "base_uri": "https://localhost:8080/"
        },
        "id": "nWLHotIGWmUf",
        "outputId": "aabdfb66-b6ab-4b61-e032-604a5400846e"
      },
      "execution_count": null,
      "outputs": [
        {
          "output_type": "stream",
          "name": "stdout",
          "text": [
            "<head>\n",
            "<title>\n",
            "            The Dormouse's story\n",
            "        </title>\n",
            "</head>\n"
          ]
        }
      ]
    },
    {
      "cell_type": "code",
      "source": [
        "print(parent.name)"
      ],
      "metadata": {
        "colab": {
          "base_uri": "https://localhost:8080/"
        },
        "id": "oWKLk2S7ZZmY",
        "outputId": "17900e0c-98fe-4b37-e948-6855ac6fb229"
      },
      "execution_count": null,
      "outputs": [
        {
          "output_type": "stream",
          "name": "stdout",
          "text": [
            "head\n"
          ]
        }
      ]
    },
    {
      "cell_type": "code",
      "source": [
        "p = soup.p\n",
        "print(p)"
      ],
      "metadata": {
        "colab": {
          "base_uri": "https://localhost:8080/"
        },
        "id": "Afawzs9wZfFg",
        "outputId": "413f0deb-b12f-4f58-d11d-af7e9d795f5a"
      },
      "execution_count": null,
      "outputs": [
        {
          "output_type": "stream",
          "name": "stdout",
          "text": [
            "<p class=\"title\">\n",
            "<b>\n",
            "                The Dormouse's story\n",
            "            </b>\n",
            "</p>\n"
          ]
        }
      ]
    },
    {
      "cell_type": "code",
      "source": [
        "p = soup.p\n",
        "print(p.parent)"
      ],
      "metadata": {
        "colab": {
          "base_uri": "https://localhost:8080/"
        },
        "id": "7YcZZynUZmG3",
        "outputId": "bf07abd5-2f51-45b8-9c55-80634ed38824"
      },
      "execution_count": null,
      "outputs": [
        {
          "output_type": "stream",
          "name": "stdout",
          "text": [
            "<body>\n",
            "<b></b>\n",
            "<p class=\"title\">\n",
            "<b>\n",
            "                The Dormouse's story\n",
            "            </b>\n",
            "</p>\n",
            "<p class=\"story\">\n",
            "            Once upon a time there were three little sisters; and their names were\n",
            "            <a class=\"sister\" href=\"http://example.com/elsie\" id=\"link1\">\n",
            "                Elsie\n",
            "            </a>\n",
            "            ,\n",
            "            <a class=\"sister\" href=\"http://example.com/lacie\" id=\"link2\">\n",
            "                Lacie\n",
            "            </a>\n",
            "                and\n",
            "            <a class=\"sister\" href=\"http://example.com/tillie\" id=\"link2\">\n",
            "                Tillie\n",
            "            </a>\n",
            "                ; and they lived at the bottom of a well.\n",
            "        </p>\n",
            "<p class=\"story\">\n",
            "<b>\n",
            "                The End\n",
            "            </b>\n",
            "</p>\n",
            "</body>\n"
          ]
        }
      ]
    },
    {
      "cell_type": "code",
      "source": [
        "p = soup.p\n",
        "print(p.parent.name)"
      ],
      "metadata": {
        "colab": {
          "base_uri": "https://localhost:8080/"
        },
        "id": "U2WIqHwYZvjO",
        "outputId": "8378a240-1cae-4b73-d32e-898fd674426f"
      },
      "execution_count": null,
      "outputs": [
        {
          "output_type": "stream",
          "name": "stdout",
          "text": [
            "body\n"
          ]
        }
      ]
    },
    {
      "cell_type": "code",
      "source": [
        "html = soup.html\n",
        "print(type(html.parent))"
      ],
      "metadata": {
        "colab": {
          "base_uri": "https://localhost:8080/"
        },
        "id": "jb2bVLXjZ1bo",
        "outputId": "58e57657-707f-4193-fe47-000921ad239b"
      },
      "execution_count": null,
      "outputs": [
        {
          "output_type": "stream",
          "name": "stdout",
          "text": [
            "<class 'bs4.BeautifulSoup'>\n"
          ]
        }
      ]
    },
    {
      "cell_type": "code",
      "source": [
        "link = soup.a\n",
        "print(link)"
      ],
      "metadata": {
        "colab": {
          "base_uri": "https://localhost:8080/"
        },
        "id": "akiqlWS2aIuI",
        "outputId": "6c3eda45-63d5-4a6f-975a-54ae8f4adc51"
      },
      "execution_count": null,
      "outputs": [
        {
          "output_type": "stream",
          "name": "stdout",
          "text": [
            "<a class=\"sister\" href=\"http://example.com/elsie\" id=\"link1\">\n",
            "                Elsie\n",
            "            </a>\n"
          ]
        }
      ]
    },
    {
      "cell_type": "code",
      "source": [
        "print(link.parents)"
      ],
      "metadata": {
        "colab": {
          "base_uri": "https://localhost:8080/"
        },
        "id": "oyEePh5faNIu",
        "outputId": "5a48f606-05d6-432e-b3fd-e862439417f8"
      },
      "execution_count": null,
      "outputs": [
        {
          "output_type": "stream",
          "name": "stdout",
          "text": [
            "<generator object PageElement.parents at 0x7fc6f0f3d080>\n"
          ]
        }
      ]
    },
    {
      "cell_type": "code",
      "source": [
        "print(link.parent)"
      ],
      "metadata": {
        "colab": {
          "base_uri": "https://localhost:8080/"
        },
        "id": "vQN-1gz7aUaP",
        "outputId": "49e0aa28-921d-40d2-e90f-f97de02be30b"
      },
      "execution_count": null,
      "outputs": [
        {
          "output_type": "stream",
          "name": "stdout",
          "text": [
            "<p class=\"story\">\n",
            "            Once upon a time there were three little sisters; and their names were\n",
            "            <a class=\"sister\" href=\"http://example.com/elsie\" id=\"link1\">\n",
            "                Elsie\n",
            "            </a>\n",
            "            ,\n",
            "            <a class=\"sister\" href=\"http://example.com/lacie\" id=\"link2\">\n",
            "                Lacie\n",
            "            </a>\n",
            "                and\n",
            "            <a class=\"sister\" href=\"http://example.com/tillie\" id=\"link2\">\n",
            "                Tillie\n",
            "            </a>\n",
            "                ; and they lived at the bottom of a well.\n",
            "        </p>\n"
          ]
        }
      ]
    },
    {
      "cell_type": "code",
      "source": [
        "print(link.parent.name)"
      ],
      "metadata": {
        "colab": {
          "base_uri": "https://localhost:8080/"
        },
        "id": "3j2yhfQBaaJ4",
        "outputId": "a6a6be92-bb75-4bee-9ed1-a03876c30e17"
      },
      "execution_count": null,
      "outputs": [
        {
          "output_type": "stream",
          "name": "stdout",
          "text": [
            "p\n"
          ]
        }
      ]
    },
    {
      "cell_type": "code",
      "source": [
        "for parent in link.parents:\n",
        "  print(parent.name)\n",
        "  pass"
      ],
      "metadata": {
        "colab": {
          "base_uri": "https://localhost:8080/"
        },
        "id": "inVVECPqa57I",
        "outputId": "6f513234-3889-4bd4-99cd-803ab1aa527f"
      },
      "execution_count": null,
      "outputs": [
        {
          "output_type": "stream",
          "name": "stdout",
          "text": [
            "p\n",
            "body\n",
            "html\n",
            "[document]\n"
          ]
        }
      ]
    },
    {
      "cell_type": "code",
      "source": [
        "body = soup.body\n",
        "print(body.contents)"
      ],
      "metadata": {
        "colab": {
          "base_uri": "https://localhost:8080/"
        },
        "id": "AYJJLxQBcSfW",
        "outputId": "0530c60f-4bba-44ef-b2f6-6e9b60299578"
      },
      "execution_count": null,
      "outputs": [
        {
          "output_type": "stream",
          "name": "stdout",
          "text": [
            "['\\n', <b></b>, '\\n', <p class=\"title\">\n",
            "<b>\n",
            "                The Dormouse's story\n",
            "            </b>\n",
            "</p>, '\\n', <p class=\"story\">\n",
            "            Once upon a time there were three little sisters; and their names were\n",
            "            <a class=\"sister\" href=\"http://example.com/elsie\" id=\"link1\">\n",
            "                Elsie\n",
            "            </a>\n",
            "            ,\n",
            "            <a class=\"sister\" href=\"http://example.com/lacie\" id=\"link2\">\n",
            "                Lacie\n",
            "            </a>\n",
            "                and\n",
            "            <a class=\"sister\" href=\"http://example.com/tillie\" id=\"link2\">\n",
            "                Tillie\n",
            "            </a>\n",
            "                ; and they lived at the bottom of a well.\n",
            "        </p>, '\\n', <p class=\"story\">\n",
            "<b>\n",
            "                The End\n",
            "            </b>\n",
            "</p>, '\\n']\n"
          ]
        }
      ]
    },
    {
      "cell_type": "code",
      "source": [
        "p = soup.body.p\n",
        "print(p)"
      ],
      "metadata": {
        "colab": {
          "base_uri": "https://localhost:8080/"
        },
        "id": "A06ZD3RsclFX",
        "outputId": "7d3fa3d8-4210-477b-efb0-06ef495b7901"
      },
      "execution_count": null,
      "outputs": [
        {
          "output_type": "stream",
          "name": "stdout",
          "text": [
            "<p class=\"title\">\n",
            "<b>\n",
            "                The Dormouse's story\n",
            "            </b>\n",
            "</p>\n"
          ]
        }
      ]
    },
    {
      "cell_type": "code",
      "source": [
        "print(p.next_sibling)"
      ],
      "metadata": {
        "colab": {
          "base_uri": "https://localhost:8080/"
        },
        "id": "XWo7aWnFczSX",
        "outputId": "caeefbde-ce33-41d1-b5cc-5c61136f0c7f"
      },
      "execution_count": null,
      "outputs": [
        {
          "output_type": "stream",
          "name": "stdout",
          "text": [
            "\n",
            "\n"
          ]
        }
      ]
    },
    {
      "cell_type": "code",
      "source": [
        "print(p.next_sibling.next_sibling)"
      ],
      "metadata": {
        "colab": {
          "base_uri": "https://localhost:8080/"
        },
        "id": "3BuM3DTpc_Zv",
        "outputId": "732866ae-fec7-4084-b3ea-54ea29dd0a92"
      },
      "execution_count": null,
      "outputs": [
        {
          "output_type": "stream",
          "name": "stdout",
          "text": [
            "<p class=\"story\">\n",
            "            Once upon a time there were three little sisters; and their names were\n",
            "            <a class=\"sister\" href=\"http://example.com/elsie\" id=\"link1\">\n",
            "                Elsie\n",
            "            </a>\n",
            "            ,\n",
            "            <a class=\"sister\" href=\"http://example.com/lacie\" id=\"link2\">\n",
            "                Lacie\n",
            "            </a>\n",
            "                and\n",
            "            <a class=\"sister\" href=\"http://example.com/tillie\" id=\"link2\">\n",
            "                Tillie\n",
            "            </a>\n",
            "                ; and they lived at the bottom of a well.\n",
            "        </p>\n"
          ]
        }
      ]
    },
    {
      "cell_type": "code",
      "source": [
        "print(soup.html.contents)"
      ],
      "metadata": {
        "colab": {
          "base_uri": "https://localhost:8080/"
        },
        "id": "M2bS05IIdPKG",
        "outputId": "0891d3e1-bdd6-4348-d45b-7d3c11412bfb"
      },
      "execution_count": null,
      "outputs": [
        {
          "output_type": "stream",
          "name": "stdout",
          "text": [
            "['\\n', <head>\n",
            "<title>\n",
            "            The Dormouse's story\n",
            "        </title>\n",
            "</head>, '\\n', <body>\n",
            "<b></b>\n",
            "<p class=\"title\">\n",
            "<b>\n",
            "                The Dormouse's story\n",
            "            </b>\n",
            "</p>\n",
            "<p class=\"story\">\n",
            "            Once upon a time there were three little sisters; and their names were\n",
            "            <a class=\"sister\" href=\"http://example.com/elsie\" id=\"link1\">\n",
            "                Elsie\n",
            "            </a>\n",
            "            ,\n",
            "            <a class=\"sister\" href=\"http://example.com/lacie\" id=\"link2\">\n",
            "                Lacie\n",
            "            </a>\n",
            "                and\n",
            "            <a class=\"sister\" href=\"http://example.com/tillie\" id=\"link2\">\n",
            "                Tillie\n",
            "            </a>\n",
            "                ; and they lived at the bottom of a well.\n",
            "        </p>\n",
            "<p class=\"story\">\n",
            "<b>\n",
            "                The End\n",
            "            </b>\n",
            "</p>\n",
            "</body>, '\\n']\n"
          ]
        }
      ]
    },
    {
      "cell_type": "code",
      "source": [
        "print(body.previous_sibling)"
      ],
      "metadata": {
        "colab": {
          "base_uri": "https://localhost:8080/"
        },
        "id": "nQ9xRMPwdUbg",
        "outputId": "36fc5172-e3f3-4995-f5de-20169ac67263"
      },
      "execution_count": null,
      "outputs": [
        {
          "output_type": "stream",
          "name": "stdout",
          "text": [
            "\n",
            "\n"
          ]
        }
      ]
    },
    {
      "cell_type": "code",
      "source": [
        "print(body.previous_sibling.previous_sibling)"
      ],
      "metadata": {
        "colab": {
          "base_uri": "https://localhost:8080/"
        },
        "id": "BfgvgGfqdcAv",
        "outputId": "791122b6-7ab7-4f76-c288-38053dde4668"
      },
      "execution_count": null,
      "outputs": [
        {
          "output_type": "stream",
          "name": "stdout",
          "text": [
            "<head>\n",
            "<title>\n",
            "            The Dormouse's story\n",
            "        </title>\n",
            "</head>\n"
          ]
        }
      ]
    },
    {
      "cell_type": "code",
      "source": [
        "p = soup.body.p\n",
        "print(p)"
      ],
      "metadata": {
        "colab": {
          "base_uri": "https://localhost:8080/"
        },
        "id": "yFeigflmd-4e",
        "outputId": "c429228d-713a-491c-b45b-64787ee03d9e"
      },
      "execution_count": null,
      "outputs": [
        {
          "output_type": "stream",
          "name": "stdout",
          "text": [
            "<p class=\"title\">\n",
            "<b>\n",
            "                The Dormouse's story\n",
            "            </b>\n",
            "</p>\n"
          ]
        }
      ]
    },
    {
      "cell_type": "code",
      "source": [
        "import requests\n",
        "from bs4 import BeautifulSoup\n",
        "\n",
        "URL = \"https://www.ikea.com/in/en/cat/food-storage-organising-15937/\"\n",
        "page = requests.get(URL)\n",
        "\n",
        "soup = BeautifulSoup(page.content, \"html.parser\")\n",
        "#print(soup.prettify())\n",
        "results = soup.find('div',class_=\"plp-product-list__products\")\n",
        "#print(results)\n",
        "\n",
        "#prints all the div tags\n",
        "for div in results:\n",
        "    #print(div,end='\\n\\n') #Here all the 'div' tag is extracted\n",
        "  extract_data = results.find_all(\"div\",class_=\"plp-fragment-wrapper\")\n",
        "  #print(extract_data,end='\\n\\n')\n",
        "\n",
        "print(\"################################\")\n",
        "for product_details in extract_data:\n",
        "  product_det = product_details.find_all(\"a\", class_=\"plp-product__image-link link\")\n",
        "  priceinfo = product_details.find(\"div\",class_=\"plp-mastercard__item plp-mastercard__price\")\n",
        "  price = product_details.find('span', class_='plp-price__sr-text')\n",
        "  link_url = product_details.find_all(\"a\")[1][\"href\"]\n",
        "  image = product_details.find_all(\"img\")[1][\"alt\"]\n",
        "  image_link = product_details.find_all(\"img\")[1][\"src\"]\n",
        "  #print(f'product price : {[div.children.children.children for h2_element in product_det]}\\n')\n",
        "  print(f'product name : {image}\\n')\n",
        "  print(f'{price.text.strip()}\\n')\n",
        "  print(f\"click here for the product link : {link_url}\\n\")\n",
        "  print(f\"click here for the image link : {image_link}\\n\")\n",
        "  print(\"*******\"*8)\n",
        "\n",
        "'''Product_link_url = [href.child.child.child for h2_element in extract_data]'''"
      ],
      "metadata": {
        "colab": {
          "base_uri": "https://localhost:8080/",
          "height": 1000
        },
        "id": "fmp6R1I3S7nf",
        "outputId": "98a08c6e-931c-4b8f-9e92-078b5ea18c27"
      },
      "execution_count": 1,
      "outputs": [
        {
          "output_type": "stream",
          "name": "stdout",
          "text": [
            "################################\n",
            "product name : IKEA 365+ Dry food jar with lid, transparent/white, 1.3 l\n",
            "\n",
            "Price Rs. 199\n",
            "\n",
            "click here for the product link : https://www.ikea.com/in/en/p/ikea-365-dry-food-jar-with-lid-transparent-white-10134023/\n",
            "\n",
            "click here for the image link : https://www.ikea.com/in/en/images/products/ikea-365-dry-food-jar-with-lid-transparent-white__1288089_pe934095_s5.jpg?f=xxs\n",
            "\n",
            "********************************************************\n",
            "product name : KORKEN Jar with lid, clear glass, 1 l\n",
            "\n",
            "Price Rs. 249\n",
            "\n",
            "click here for the product link : https://www.ikea.com/in/en/p/korken-jar-with-lid-clear-glass-30213547/\n",
            "\n",
            "click here for the image link : https://www.ikea.com/in/en/images/products/korken-jar-with-lid-clear-glass__1384296_pe962946_s5.jpg?f=xxs\n",
            "\n",
            "********************************************************\n",
            "product name : HAVSTOBIS Food container with lid, set of 5, transparent/multicolour\n",
            "\n",
            "Price Rs. 999\n",
            "\n",
            "click here for the product link : https://www.ikea.com/in/en/p/havstobis-food-container-with-lid-set-of-5-transparent-multicolour-70561016/\n",
            "\n",
            "click here for the image link : https://www.ikea.com/in/en/images/products/havstobis-food-container-with-lid-set-of-5-transparent-multicolour__1286733_pe933698_s5.jpg?f=xxs\n",
            "\n",
            "********************************************************\n",
            "product name : FLADDRIG Lunch bag, patterned grey, 25x16x27 cm\n",
            "\n",
            "Price Rs. 99\n",
            "\n",
            "click here for the product link : https://www.ikea.com/in/en/p/fladdrig-lunch-bag-patterned-grey-10497226/\n",
            "\n",
            "click here for the image link : https://www.ikea.com/in/en/images/products/fladdrig-lunch-bag-patterned-grey__0985583_pe816687_s5.jpg?f=xxs\n",
            "\n",
            "********************************************************\n",
            "product name : IKEA 365+ Food container with lid, square/glass, 180 ml\n",
            "\n",
            "Price Rs. 299/3 pack\n",
            "\n",
            "click here for the product link : https://www.ikea.com/in/en/p/ikea-365-food-container-with-lid-square-glass-40444948/\n",
            "\n",
            "click here for the image link : https://www.ikea.com/in/en/images/products/ikea-365-food-container-with-lid-square-glass__1414490_pe974820_s5.jpg?f=xxs\n",
            "\n",
            "********************************************************\n",
            "product name : GULDFISK Spice jar, clear glass/stainless steel, 6 cl\n",
            "\n",
            "Price Rs. 49\n",
            "\n",
            "click here for the product link : https://www.ikea.com/in/en/p/guldfisk-spice-jar-clear-glass-stainless-steel-10553217/\n",
            "\n",
            "click here for the image link : https://www.ikea.com/in/en/images/products/guldfisk-spice-jar-clear-glass-stainless-steel__1196295_pe902876_s5.jpg?f=xxs\n",
            "\n",
            "********************************************************\n",
            "product name : KORALLVIPPA Dry food jar with lid, set of 6, transparent\n",
            "\n",
            "Price Rs. 1290\n",
            "\n",
            "click here for the product link : https://www.ikea.com/in/en/p/korallvippa-dry-food-jar-with-lid-set-of-6-transparent-70599415/\n",
            "\n",
            "click here for the image link : https://www.ikea.com/in/en/images/products/korallvippa-dry-food-jar-with-lid-set-of-6-transparent__1396661_pe967415_s5.jpg?f=xxs\n",
            "\n",
            "********************************************************\n",
            "product name : VARIERA Shelf insert, white, 32x13x16 cm\n",
            "\n",
            "Price Rs. 299\n",
            "\n",
            "click here for the product link : https://www.ikea.com/in/en/p/variera-shelf-insert-white-70177726/\n",
            "\n",
            "click here for the image link : https://www.ikea.com/in/en/images/products/variera-shelf-insert-white__0867261_pe600476_s5.jpg?f=xxs\n",
            "\n",
            "********************************************************\n",
            "product name : KLIPPKAKTUS Container w tap disp for fridge, transparent, 4.5 l\n",
            "\n",
            "Price Rs. 899\n",
            "\n",
            "click here for the product link : https://www.ikea.com/in/en/p/klippkaktus-container-w-tap-disp-for-fridge-transparent-10597527/\n",
            "\n",
            "click here for the image link : https://www.ikea.com/in/en/images/products/klippkaktus-container-w-tap-disp-for-fridge-transparent__1467194_pe995685_s5.jpg?f=xxs\n",
            "\n",
            "********************************************************\n",
            "product name : KLIPPKAKTUS Storage box for fridge, transparent, 32x10x8 cm\n",
            "\n",
            "Price Rs. 349\n",
            "\n",
            "click here for the product link : https://www.ikea.com/in/en/p/klippkaktus-storage-box-for-fridge-transparent-90572815/\n",
            "\n",
            "click here for the image link : https://www.ikea.com/in/en/images/products/klippkaktus-storage-box-for-fridge-transparent__1275788_pe930673_s5.jpg?f=xxs\n",
            "\n",
            "********************************************************\n",
            "product name : BESTÄMMA Food container with lid, glass, 0.5 l\n",
            "\n",
            "Price Rs. 199\n",
            "\n",
            "click here for the product link : https://www.ikea.com/in/en/p/bestaemma-food-container-with-lid-glass-30495764/\n",
            "\n",
            "click here for the image link : https://www.ikea.com/in/en/images/products/bestaemma-food-container-with-lid-glass__1035155_pe841279_s5.jpg?f=xxs\n",
            "\n",
            "********************************************************\n",
            "product name : PRUTA Food container with lid, set of 17, green\n",
            "\n",
            "Price Rs. 449\n",
            "\n",
            "click here for the product link : https://www.ikea.com/in/en/p/pruta-food-container-with-lid-set-of-17-green-70597100/\n",
            "\n",
            "click here for the image link : https://www.ikea.com/in/en/images/products/pruta-food-container-with-lid-set-of-17-green__1449400_pe989894_s5.jpg?f=xxs\n",
            "\n",
            "********************************************************\n"
          ]
        },
        {
          "output_type": "execute_result",
          "data": {
            "text/plain": [
              "'Product_link_url = [href.child.child.child for h2_element in extract_data]'"
            ],
            "application/vnd.google.colaboratory.intrinsic+json": {
              "type": "string"
            }
          },
          "metadata": {},
          "execution_count": 1
        }
      ]
    }
  ]
}